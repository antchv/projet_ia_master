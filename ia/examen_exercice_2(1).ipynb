{
 "cells": [
  {
   "cell_type": "markdown",
   "id": "fc9fdca5",
   "metadata": {},
   "source": [
    "## Données pour effectuer l'entrainement"
   ]
  },
  {
   "cell_type": "code",
   "execution_count": 1,
   "id": "7943d555",
   "metadata": {},
   "outputs": [
    {
     "name": "stdout",
     "output_type": "stream",
     "text": [
      "There are 120 rows and 5 columns\n"
     ]
    }
   ],
   "source": [
    "import numpy as np \n",
    "\n",
    "training = np.genfromtxt(\"fleurs_training.csv\", delimiter=\",\")#importation du fichier csv\n",
    "nRow, nCol = training.shape\n",
    "training_data1 = training[:, 0:4] #on enlève la dernière colonne du numéro d'espèce, contient les features\n",
    "training_targets = training[:, -1]#contient le numéro des epsèces\n",
    "print(f\"There are {nRow} rows and {nCol} columns\")\n",
    "#print(training_data1)\n",
    "#print(training_targets)\n"
   ]
  },
  {
   "cell_type": "markdown",
   "id": "b594d315",
   "metadata": {},
   "source": [
    "# Normalisation des données d'entraînement"
   ]
  },
  {
   "cell_type": "code",
   "execution_count": 2,
   "id": "705bcc69",
   "metadata": {},
   "outputs": [],
   "source": [
    "#pour que chaque paramètre ai autant d'impact pour le modèle\n",
    "mean = training_data1.mean(axis=0) #moyenne sur les 120 fleurs, première colonne contient le nbr de fleurs\n",
    "training_data1 -= mean\n",
    "std = training_data1.std(axis=0) #standard deviation\n",
    "training_data1 /= std"
   ]
  },
  {
   "cell_type": "markdown",
   "id": "2301a0cc",
   "metadata": {},
   "source": [
    "# Séparation des données d'entraînement en training et validation"
   ]
  },
  {
   "cell_type": "code",
   "execution_count": 3,
   "id": "01007e6e",
   "metadata": {},
   "outputs": [
    {
     "name": "stdout",
     "output_type": "stream",
     "text": [
      "Données d'entraînement : There are 90 rows and 4 columns\n",
      "(90,)\n",
      "Données de validation : There are 30 rows and 4 columns\n",
      "(30,)\n"
     ]
    }
   ],
   "source": [
    "#séparation des données d'entraînement en un lot data (potentiel_train) et label(validation), en des lots de 90 et 30 données\n",
    "training_data = training_data1[:90,:]#changer ça\n",
    "training_labels = training_targets[:90]\n",
    "nRow2, nCol2 = training_data.shape\n",
    "print(f\"Données d'entraînement : There are {nRow2} rows and {nCol2} columns\")\n",
    "print(training_labels.shape)\n",
    "\n",
    "fleurs_validation_data = training_data1[90:,:]\n",
    "fleurs_validation_labels = training_targets[90:]\n",
    "nRow3, nCol3= fleurs_validation_data.shape\n",
    "print(f\"Données de validation : There are {nRow3} rows and {nCol3} columns\")\n",
    "print(fleurs_validation_labels.shape)"
   ]
  },
  {
   "cell_type": "markdown",
   "id": "4d24a372",
   "metadata": {},
   "source": [
    "## Données pour faire le test"
   ]
  },
  {
   "cell_type": "code",
   "execution_count": 4,
   "id": "03824552",
   "metadata": {},
   "outputs": [
    {
     "name": "stdout",
     "output_type": "stream",
     "text": [
      "There are 30 rows and 5 columns\n"
     ]
    }
   ],
   "source": [
    "test = np.genfromtxt(\"fleurs_test.csv\", delimiter=\",\")\n",
    "nRow, nCol = test.shape\n",
    "test_data = test[:, 0:4]\n",
    "test_targets = test[:, -1]\n",
    "print(f\"There are {nRow} rows and {nCol} columns\")\n",
    "#print(fleurs_test_data)\n",
    "#print(fleurs_test_targets)"
   ]
  },
  {
   "cell_type": "markdown",
   "id": "ba89ab1a",
   "metadata": {},
   "source": [
    "# Normalisation des données de test"
   ]
  },
  {
   "cell_type": "code",
   "execution_count": 5,
   "id": "b9b559b2",
   "metadata": {},
   "outputs": [],
   "source": [
    "#normalise aussi les données de test pour que le modèle puisse les reconnaître\n",
    "test_data -= mean #normalisé avec les données de test\n",
    "test_data /= std"
   ]
  },
  {
   "cell_type": "markdown",
   "id": "4c10653d",
   "metadata": {},
   "source": [
    "# Exercice"
   ]
  },
  {
   "cell_type": "markdown",
   "id": "a43b9b36",
   "metadata": {},
   "source": [
    "Voir le sujet donné sur papier"
   ]
  },
  {
   "cell_type": "markdown",
   "id": "7cb67c33",
   "metadata": {},
   "source": [
    "# Création du réseau de neurones"
   ]
  },
  {
   "cell_type": "code",
   "execution_count": 6,
   "id": "cdf83ab5",
   "metadata": {},
   "outputs": [
    {
     "name": "stdout",
     "output_type": "stream",
     "text": [
      "WARNING:tensorflow:From C:\\Users\\clara\\anaconda3\\Lib\\site-packages\\keras\\src\\losses.py:2976: The name tf.losses.sparse_softmax_cross_entropy is deprecated. Please use tf.compat.v1.losses.sparse_softmax_cross_entropy instead.\n",
      "\n",
      "WARNING:tensorflow:From C:\\Users\\clara\\anaconda3\\Lib\\site-packages\\keras\\src\\backend.py:873: The name tf.get_default_graph is deprecated. Please use tf.compat.v1.get_default_graph instead.\n",
      "\n",
      "WARNING:tensorflow:From C:\\Users\\clara\\anaconda3\\Lib\\site-packages\\keras\\src\\optimizers\\__init__.py:309: The name tf.train.Optimizer is deprecated. Please use tf.compat.v1.train.Optimizer instead.\n",
      "\n",
      "Epoch 1/200\n",
      "WARNING:tensorflow:From C:\\Users\\clara\\anaconda3\\Lib\\site-packages\\keras\\src\\utils\\tf_utils.py:492: The name tf.ragged.RaggedTensorValue is deprecated. Please use tf.compat.v1.ragged.RaggedTensorValue instead.\n",
      "\n",
      "WARNING:tensorflow:From C:\\Users\\clara\\anaconda3\\Lib\\site-packages\\keras\\src\\engine\\base_layer_utils.py:384: The name tf.executing_eagerly_outside_functions is deprecated. Please use tf.compat.v1.executing_eagerly_outside_functions instead.\n",
      "\n",
      "3/3 [==============================] - 2s 220ms/step - loss: 0.9945 - accuracy: 0.5222 - val_loss: 0.8040 - val_accuracy: 0.9000\n",
      "Epoch 2/200\n",
      "3/3 [==============================] - 0s 44ms/step - loss: 0.7721 - accuracy: 0.8000 - val_loss: 0.6519 - val_accuracy: 0.9000\n",
      "Epoch 3/200\n",
      "3/3 [==============================] - 0s 44ms/step - loss: 0.6554 - accuracy: 0.8222 - val_loss: 0.5541 - val_accuracy: 0.9333\n",
      "Epoch 4/200\n",
      "3/3 [==============================] - 0s 40ms/step - loss: 0.5849 - accuracy: 0.8222 - val_loss: 0.4889 - val_accuracy: 0.9667\n",
      "Epoch 5/200\n",
      "3/3 [==============================] - 0s 36ms/step - loss: 0.5280 - accuracy: 0.8222 - val_loss: 0.4371 - val_accuracy: 0.9667\n",
      "Epoch 6/200\n",
      "3/3 [==============================] - 0s 52ms/step - loss: 0.4885 - accuracy: 0.8222 - val_loss: 0.3968 - val_accuracy: 0.9667\n",
      "Epoch 7/200\n",
      "3/3 [==============================] - 0s 44ms/step - loss: 0.4559 - accuracy: 0.8222 - val_loss: 0.3652 - val_accuracy: 0.9667\n",
      "Epoch 8/200\n",
      "3/3 [==============================] - 0s 44ms/step - loss: 0.4268 - accuracy: 0.8222 - val_loss: 0.3396 - val_accuracy: 0.9667\n",
      "Epoch 9/200\n",
      "3/3 [==============================] - 0s 41ms/step - loss: 0.4059 - accuracy: 0.8222 - val_loss: 0.3172 - val_accuracy: 0.9667\n",
      "Epoch 10/200\n",
      "3/3 [==============================] - 0s 36ms/step - loss: 0.3854 - accuracy: 0.8222 - val_loss: 0.2993 - val_accuracy: 0.9667\n",
      "Epoch 11/200\n",
      "3/3 [==============================] - 0s 44ms/step - loss: 0.3676 - accuracy: 0.8111 - val_loss: 0.2857 - val_accuracy: 0.9333\n",
      "Epoch 12/200\n",
      "3/3 [==============================] - 0s 48ms/step - loss: 0.3506 - accuracy: 0.8222 - val_loss: 0.2720 - val_accuracy: 0.9333\n",
      "Epoch 13/200\n",
      "3/3 [==============================] - 0s 48ms/step - loss: 0.3366 - accuracy: 0.8222 - val_loss: 0.2595 - val_accuracy: 0.9333\n",
      "Epoch 14/200\n",
      "3/3 [==============================] - 0s 49ms/step - loss: 0.3236 - accuracy: 0.8444 - val_loss: 0.2498 - val_accuracy: 0.9333\n",
      "Epoch 15/200\n",
      "3/3 [==============================] - 0s 40ms/step - loss: 0.3141 - accuracy: 0.8444 - val_loss: 0.2417 - val_accuracy: 0.9333\n",
      "Epoch 16/200\n",
      "3/3 [==============================] - 0s 56ms/step - loss: 0.2982 - accuracy: 0.8333 - val_loss: 0.2321 - val_accuracy: 0.9333\n",
      "Epoch 17/200\n",
      "3/3 [==============================] - 0s 56ms/step - loss: 0.2874 - accuracy: 0.8667 - val_loss: 0.2246 - val_accuracy: 0.9333\n",
      "Epoch 18/200\n",
      "3/3 [==============================] - 0s 48ms/step - loss: 0.2811 - accuracy: 0.8667 - val_loss: 0.2181 - val_accuracy: 0.9333\n",
      "Epoch 19/200\n",
      "3/3 [==============================] - 0s 48ms/step - loss: 0.2665 - accuracy: 0.8889 - val_loss: 0.2093 - val_accuracy: 0.9333\n",
      "Epoch 20/200\n",
      "3/3 [==============================] - 0s 52ms/step - loss: 0.2604 - accuracy: 0.9000 - val_loss: 0.2058 - val_accuracy: 0.9333\n",
      "Epoch 21/200\n",
      "3/3 [==============================] - 0s 52ms/step - loss: 0.2526 - accuracy: 0.9000 - val_loss: 0.1976 - val_accuracy: 0.9333\n",
      "Epoch 22/200\n",
      "3/3 [==============================] - 0s 48ms/step - loss: 0.2411 - accuracy: 0.8889 - val_loss: 0.1929 - val_accuracy: 0.9333\n",
      "Epoch 23/200\n",
      "3/3 [==============================] - 0s 55ms/step - loss: 0.2341 - accuracy: 0.9000 - val_loss: 0.1895 - val_accuracy: 0.9333\n",
      "Epoch 24/200\n",
      "3/3 [==============================] - 0s 57ms/step - loss: 0.2257 - accuracy: 0.9000 - val_loss: 0.1826 - val_accuracy: 0.9333\n",
      "Epoch 25/200\n",
      "3/3 [==============================] - 0s 56ms/step - loss: 0.2162 - accuracy: 0.9111 - val_loss: 0.1774 - val_accuracy: 0.9333\n",
      "Epoch 26/200\n",
      "3/3 [==============================] - 0s 56ms/step - loss: 0.2115 - accuracy: 0.9222 - val_loss: 0.1760 - val_accuracy: 0.9333\n",
      "Epoch 27/200\n",
      "3/3 [==============================] - 0s 48ms/step - loss: 0.2030 - accuracy: 0.9222 - val_loss: 0.1714 - val_accuracy: 0.9333\n",
      "Epoch 28/200\n",
      "3/3 [==============================] - 0s 52ms/step - loss: 0.2003 - accuracy: 0.9111 - val_loss: 0.1643 - val_accuracy: 0.9333\n",
      "Epoch 29/200\n",
      "3/3 [==============================] - 0s 56ms/step - loss: 0.1908 - accuracy: 0.9333 - val_loss: 0.1623 - val_accuracy: 0.9333\n",
      "Epoch 30/200\n",
      "3/3 [==============================] - 0s 47ms/step - loss: 0.1848 - accuracy: 0.9444 - val_loss: 0.1571 - val_accuracy: 0.9333\n",
      "Epoch 31/200\n",
      "3/3 [==============================] - 0s 56ms/step - loss: 0.1814 - accuracy: 0.9444 - val_loss: 0.1549 - val_accuracy: 0.9333\n",
      "Epoch 32/200\n",
      "3/3 [==============================] - 0s 48ms/step - loss: 0.1730 - accuracy: 0.9556 - val_loss: 0.1524 - val_accuracy: 0.9333\n",
      "Epoch 33/200\n",
      "3/3 [==============================] - 0s 52ms/step - loss: 0.1667 - accuracy: 0.9556 - val_loss: 0.1473 - val_accuracy: 0.9333\n",
      "Epoch 34/200\n",
      "3/3 [==============================] - 0s 56ms/step - loss: 0.1616 - accuracy: 0.9444 - val_loss: 0.1456 - val_accuracy: 0.9333\n",
      "Epoch 35/200\n",
      "3/3 [==============================] - 0s 48ms/step - loss: 0.1582 - accuracy: 0.9556 - val_loss: 0.1417 - val_accuracy: 0.9333\n",
      "Epoch 36/200\n",
      "3/3 [==============================] - 0s 56ms/step - loss: 0.1496 - accuracy: 0.9556 - val_loss: 0.1396 - val_accuracy: 0.9333\n",
      "Epoch 37/200\n",
      "3/3 [==============================] - 0s 51ms/step - loss: 0.1453 - accuracy: 0.9556 - val_loss: 0.1375 - val_accuracy: 0.9333\n",
      "Epoch 38/200\n",
      "3/3 [==============================] - 0s 52ms/step - loss: 0.1414 - accuracy: 0.9556 - val_loss: 0.1311 - val_accuracy: 0.9333\n",
      "Epoch 39/200\n",
      "3/3 [==============================] - 0s 52ms/step - loss: 0.1394 - accuracy: 0.9444 - val_loss: 0.1327 - val_accuracy: 0.9333\n",
      "Epoch 40/200\n",
      "3/3 [==============================] - 0s 52ms/step - loss: 0.1330 - accuracy: 0.9667 - val_loss: 0.1289 - val_accuracy: 0.9333\n",
      "Epoch 41/200\n",
      "3/3 [==============================] - 0s 52ms/step - loss: 0.1298 - accuracy: 0.9556 - val_loss: 0.1283 - val_accuracy: 0.9333\n",
      "Epoch 42/200\n",
      "3/3 [==============================] - 0s 65ms/step - loss: 0.1245 - accuracy: 0.9667 - val_loss: 0.1239 - val_accuracy: 0.9333\n",
      "Epoch 43/200\n",
      "3/3 [==============================] - 0s 52ms/step - loss: 0.1259 - accuracy: 0.9667 - val_loss: 0.1208 - val_accuracy: 0.9333\n",
      "Epoch 44/200\n",
      "3/3 [==============================] - 0s 42ms/step - loss: 0.1179 - accuracy: 0.9667 - val_loss: 0.1228 - val_accuracy: 0.9333\n",
      "Epoch 45/200\n",
      "3/3 [==============================] - 0s 60ms/step - loss: 0.1193 - accuracy: 0.9556 - val_loss: 0.1215 - val_accuracy: 0.9333\n",
      "Epoch 46/200\n",
      "3/3 [==============================] - 0s 52ms/step - loss: 0.1152 - accuracy: 0.9778 - val_loss: 0.1198 - val_accuracy: 0.9333\n",
      "Epoch 47/200\n",
      "3/3 [==============================] - 0s 48ms/step - loss: 0.1123 - accuracy: 0.9667 - val_loss: 0.1168 - val_accuracy: 0.9333\n",
      "Epoch 48/200\n",
      "3/3 [==============================] - 0s 41ms/step - loss: 0.1071 - accuracy: 0.9778 - val_loss: 0.1152 - val_accuracy: 0.9333\n",
      "Epoch 49/200\n",
      "3/3 [==============================] - 0s 48ms/step - loss: 0.1072 - accuracy: 0.9667 - val_loss: 0.1161 - val_accuracy: 0.9333\n",
      "Epoch 50/200\n",
      "3/3 [==============================] - 0s 48ms/step - loss: 0.1053 - accuracy: 0.9778 - val_loss: 0.1152 - val_accuracy: 0.9333\n",
      "Epoch 51/200\n",
      "3/3 [==============================] - 0s 48ms/step - loss: 0.1011 - accuracy: 0.9667 - val_loss: 0.1136 - val_accuracy: 0.9333\n",
      "Epoch 52/200\n",
      "3/3 [==============================] - 0s 40ms/step - loss: 0.0989 - accuracy: 0.9667 - val_loss: 0.1103 - val_accuracy: 0.9333\n",
      "Epoch 53/200\n",
      "3/3 [==============================] - 0s 48ms/step - loss: 0.1003 - accuracy: 0.9667 - val_loss: 0.1120 - val_accuracy: 0.9333\n",
      "Epoch 54/200\n",
      "3/3 [==============================] - 0s 48ms/step - loss: 0.0949 - accuracy: 0.9778 - val_loss: 0.1053 - val_accuracy: 0.9333\n",
      "Epoch 55/200\n",
      "3/3 [==============================] - 0s 48ms/step - loss: 0.0937 - accuracy: 0.9667 - val_loss: 0.1092 - val_accuracy: 0.9333\n",
      "Epoch 56/200\n",
      "3/3 [==============================] - 0s 48ms/step - loss: 0.0906 - accuracy: 0.9778 - val_loss: 0.1061 - val_accuracy: 0.9333\n",
      "Epoch 57/200\n",
      "3/3 [==============================] - 0s 52ms/step - loss: 0.0954 - accuracy: 0.9778 - val_loss: 0.1061 - val_accuracy: 0.9333\n",
      "Epoch 58/200\n",
      "3/3 [==============================] - 0s 48ms/step - loss: 0.0879 - accuracy: 0.9778 - val_loss: 0.1045 - val_accuracy: 0.9333\n",
      "Epoch 59/200\n",
      "3/3 [==============================] - 0s 48ms/step - loss: 0.0853 - accuracy: 0.9778 - val_loss: 0.1008 - val_accuracy: 0.9333\n",
      "Epoch 60/200\n",
      "3/3 [==============================] - 0s 52ms/step - loss: 0.0841 - accuracy: 0.9667 - val_loss: 0.1006 - val_accuracy: 0.9333\n",
      "Epoch 61/200\n",
      "3/3 [==============================] - 0s 56ms/step - loss: 0.0834 - accuracy: 0.9778 - val_loss: 0.0982 - val_accuracy: 0.9333\n",
      "Epoch 62/200\n",
      "3/3 [==============================] - 0s 49ms/step - loss: 0.0808 - accuracy: 0.9778 - val_loss: 0.0952 - val_accuracy: 0.9333\n",
      "Epoch 63/200\n",
      "3/3 [==============================] - 0s 52ms/step - loss: 0.0863 - accuracy: 0.9667 - val_loss: 0.0978 - val_accuracy: 0.9333\n",
      "Epoch 64/200\n",
      "3/3 [==============================] - 0s 48ms/step - loss: 0.0785 - accuracy: 0.9778 - val_loss: 0.0958 - val_accuracy: 0.9333\n",
      "Epoch 65/200\n",
      "3/3 [==============================] - 0s 48ms/step - loss: 0.0788 - accuracy: 0.9778 - val_loss: 0.0948 - val_accuracy: 0.9333\n",
      "Epoch 66/200\n",
      "3/3 [==============================] - 0s 44ms/step - loss: 0.0749 - accuracy: 0.9778 - val_loss: 0.0965 - val_accuracy: 0.9333\n",
      "Epoch 67/200\n",
      "3/3 [==============================] - 0s 52ms/step - loss: 0.0739 - accuracy: 0.9778 - val_loss: 0.0946 - val_accuracy: 0.9333\n",
      "Epoch 68/200\n",
      "3/3 [==============================] - 0s 44ms/step - loss: 0.0725 - accuracy: 0.9778 - val_loss: 0.0975 - val_accuracy: 0.9333\n",
      "Epoch 69/200\n",
      "3/3 [==============================] - 0s 48ms/step - loss: 0.0733 - accuracy: 0.9778 - val_loss: 0.0953 - val_accuracy: 0.9333\n",
      "Epoch 70/200\n",
      "3/3 [==============================] - 0s 49ms/step - loss: 0.0719 - accuracy: 0.9778 - val_loss: 0.0914 - val_accuracy: 0.9333\n",
      "Epoch 71/200\n",
      "3/3 [==============================] - 0s 52ms/step - loss: 0.0715 - accuracy: 0.9889 - val_loss: 0.0943 - val_accuracy: 0.9333\n",
      "Epoch 72/200\n",
      "3/3 [==============================] - 0s 52ms/step - loss: 0.0699 - accuracy: 0.9778 - val_loss: 0.0922 - val_accuracy: 0.9333\n",
      "Epoch 73/200\n",
      "3/3 [==============================] - 0s 49ms/step - loss: 0.0687 - accuracy: 0.9889 - val_loss: 0.0928 - val_accuracy: 0.9333\n",
      "Epoch 74/200\n",
      "3/3 [==============================] - 0s 52ms/step - loss: 0.0666 - accuracy: 0.9778 - val_loss: 0.0920 - val_accuracy: 0.9333\n",
      "Epoch 75/200\n",
      "3/3 [==============================] - 0s 48ms/step - loss: 0.0679 - accuracy: 0.9778 - val_loss: 0.0945 - val_accuracy: 0.9333\n",
      "Epoch 76/200\n",
      "3/3 [==============================] - 0s 48ms/step - loss: 0.0673 - accuracy: 0.9778 - val_loss: 0.0926 - val_accuracy: 0.9333\n",
      "Epoch 77/200\n",
      "3/3 [==============================] - 0s 52ms/step - loss: 0.0634 - accuracy: 0.9778 - val_loss: 0.0860 - val_accuracy: 0.9333\n",
      "Epoch 78/200\n",
      "3/3 [==============================] - 0s 49ms/step - loss: 0.0676 - accuracy: 0.9778 - val_loss: 0.0907 - val_accuracy: 0.9333\n",
      "Epoch 79/200\n",
      "3/3 [==============================] - 0s 48ms/step - loss: 0.0646 - accuracy: 0.9778 - val_loss: 0.0843 - val_accuracy: 0.9333\n",
      "Epoch 80/200\n",
      "3/3 [==============================] - 0s 49ms/step - loss: 0.0627 - accuracy: 0.9889 - val_loss: 0.0884 - val_accuracy: 0.9333\n",
      "Epoch 81/200\n",
      "3/3 [==============================] - 0s 48ms/step - loss: 0.0611 - accuracy: 0.9778 - val_loss: 0.0834 - val_accuracy: 0.9333\n",
      "Epoch 82/200\n",
      "3/3 [==============================] - 0s 49ms/step - loss: 0.0600 - accuracy: 0.9889 - val_loss: 0.0862 - val_accuracy: 0.9333\n",
      "Epoch 83/200\n",
      "3/3 [==============================] - 0s 52ms/step - loss: 0.0610 - accuracy: 0.9778 - val_loss: 0.0820 - val_accuracy: 0.9333\n",
      "Epoch 84/200\n",
      "3/3 [==============================] - 0s 52ms/step - loss: 0.0591 - accuracy: 0.9889 - val_loss: 0.0857 - val_accuracy: 0.9333\n",
      "Epoch 85/200\n",
      "3/3 [==============================] - 0s 48ms/step - loss: 0.0604 - accuracy: 0.9778 - val_loss: 0.0872 - val_accuracy: 0.9333\n",
      "Epoch 86/200\n",
      "3/3 [==============================] - 0s 57ms/step - loss: 0.0578 - accuracy: 0.9778 - val_loss: 0.0806 - val_accuracy: 0.9333\n",
      "Epoch 87/200\n",
      "3/3 [==============================] - 0s 48ms/step - loss: 0.0575 - accuracy: 0.9889 - val_loss: 0.0859 - val_accuracy: 0.9333\n",
      "Epoch 88/200\n",
      "3/3 [==============================] - 0s 50ms/step - loss: 0.0587 - accuracy: 0.9889 - val_loss: 0.0873 - val_accuracy: 0.9333\n",
      "Epoch 89/200\n",
      "3/3 [==============================] - 0s 52ms/step - loss: 0.0571 - accuracy: 0.9778 - val_loss: 0.0819 - val_accuracy: 0.9333\n",
      "Epoch 90/200\n",
      "3/3 [==============================] - 0s 52ms/step - loss: 0.0550 - accuracy: 0.9778 - val_loss: 0.0798 - val_accuracy: 0.9333\n",
      "Epoch 91/200\n",
      "3/3 [==============================] - 0s 56ms/step - loss: 0.0590 - accuracy: 0.9778 - val_loss: 0.0835 - val_accuracy: 0.9333\n",
      "Epoch 92/200\n",
      "3/3 [==============================] - 0s 45ms/step - loss: 0.0569 - accuracy: 0.9778 - val_loss: 0.0842 - val_accuracy: 0.9333\n",
      "Epoch 93/200\n",
      "3/3 [==============================] - 0s 56ms/step - loss: 0.0540 - accuracy: 0.9889 - val_loss: 0.0827 - val_accuracy: 0.9333\n",
      "Epoch 94/200\n",
      "3/3 [==============================] - 0s 52ms/step - loss: 0.0572 - accuracy: 0.9778 - val_loss: 0.0826 - val_accuracy: 0.9333\n",
      "Epoch 95/200\n",
      "3/3 [==============================] - 0s 60ms/step - loss: 0.0586 - accuracy: 0.9778 - val_loss: 0.0798 - val_accuracy: 0.9333\n",
      "Epoch 96/200\n",
      "3/3 [==============================] - 0s 65ms/step - loss: 0.0552 - accuracy: 0.9889 - val_loss: 0.0842 - val_accuracy: 0.9333\n",
      "Epoch 97/200\n",
      "3/3 [==============================] - 0s 52ms/step - loss: 0.0528 - accuracy: 0.9778 - val_loss: 0.0799 - val_accuracy: 0.9333\n",
      "Epoch 98/200\n",
      "3/3 [==============================] - 0s 44ms/step - loss: 0.0529 - accuracy: 0.9778 - val_loss: 0.0758 - val_accuracy: 0.9333\n",
      "Epoch 99/200\n",
      "3/3 [==============================] - 0s 52ms/step - loss: 0.0526 - accuracy: 0.9778 - val_loss: 0.0759 - val_accuracy: 0.9333\n",
      "Epoch 100/200\n",
      "3/3 [==============================] - 0s 48ms/step - loss: 0.0577 - accuracy: 0.9889 - val_loss: 0.0789 - val_accuracy: 0.9333\n",
      "Epoch 101/200\n",
      "3/3 [==============================] - 0s 48ms/step - loss: 0.0515 - accuracy: 0.9778 - val_loss: 0.0753 - val_accuracy: 0.9333\n",
      "Epoch 102/200\n",
      "3/3 [==============================] - 0s 44ms/step - loss: 0.0505 - accuracy: 0.9889 - val_loss: 0.0751 - val_accuracy: 0.9333\n",
      "Epoch 103/200\n",
      "3/3 [==============================] - 0s 44ms/step - loss: 0.0504 - accuracy: 0.9889 - val_loss: 0.0790 - val_accuracy: 0.9333\n",
      "Epoch 104/200\n",
      "3/3 [==============================] - 0s 44ms/step - loss: 0.0592 - accuracy: 0.9778 - val_loss: 0.0748 - val_accuracy: 0.9333\n",
      "Epoch 105/200\n",
      "3/3 [==============================] - 0s 48ms/step - loss: 0.0517 - accuracy: 0.9889 - val_loss: 0.0763 - val_accuracy: 0.9333\n",
      "Epoch 106/200\n",
      "3/3 [==============================] - 0s 40ms/step - loss: 0.0573 - accuracy: 0.9778 - val_loss: 0.0767 - val_accuracy: 0.9333\n",
      "Epoch 107/200\n",
      "3/3 [==============================] - 0s 68ms/step - loss: 0.0507 - accuracy: 0.9889 - val_loss: 0.0736 - val_accuracy: 0.9333\n",
      "Epoch 108/200\n",
      "3/3 [==============================] - 0s 37ms/step - loss: 0.0497 - accuracy: 0.9889 - val_loss: 0.0778 - val_accuracy: 0.9333\n",
      "Epoch 109/200\n"
     ]
    },
    {
     "name": "stdout",
     "output_type": "stream",
     "text": [
      "3/3 [==============================] - 0s 48ms/step - loss: 0.0511 - accuracy: 0.9778 - val_loss: 0.0716 - val_accuracy: 0.9333\n",
      "Epoch 110/200\n",
      "3/3 [==============================] - 0s 48ms/step - loss: 0.0485 - accuracy: 0.9889 - val_loss: 0.0764 - val_accuracy: 0.9333\n",
      "Epoch 111/200\n",
      "3/3 [==============================] - 0s 44ms/step - loss: 0.0490 - accuracy: 0.9889 - val_loss: 0.0760 - val_accuracy: 0.9333\n",
      "Epoch 112/200\n",
      "3/3 [==============================] - 0s 44ms/step - loss: 0.0478 - accuracy: 0.9889 - val_loss: 0.0750 - val_accuracy: 0.9333\n",
      "Epoch 113/200\n",
      "3/3 [==============================] - 0s 44ms/step - loss: 0.0521 - accuracy: 0.9889 - val_loss: 0.0773 - val_accuracy: 0.9333\n",
      "Epoch 114/200\n",
      "3/3 [==============================] - 0s 36ms/step - loss: 0.0499 - accuracy: 0.9778 - val_loss: 0.0756 - val_accuracy: 0.9333\n",
      "Epoch 115/200\n",
      "3/3 [==============================] - 0s 49ms/step - loss: 0.0482 - accuracy: 0.9778 - val_loss: 0.0713 - val_accuracy: 0.9333\n",
      "Epoch 116/200\n",
      "3/3 [==============================] - 0s 36ms/step - loss: 0.0537 - accuracy: 0.9778 - val_loss: 0.0709 - val_accuracy: 0.9333\n",
      "Epoch 117/200\n",
      "3/3 [==============================] - 0s 44ms/step - loss: 0.0481 - accuracy: 0.9889 - val_loss: 0.0747 - val_accuracy: 0.9333\n",
      "Epoch 118/200\n",
      "3/3 [==============================] - 0s 48ms/step - loss: 0.0475 - accuracy: 0.9778 - val_loss: 0.0733 - val_accuracy: 0.9333\n",
      "Epoch 119/200\n",
      "3/3 [==============================] - 0s 48ms/step - loss: 0.0458 - accuracy: 0.9889 - val_loss: 0.0715 - val_accuracy: 0.9333\n",
      "Epoch 120/200\n",
      "3/3 [==============================] - 0s 48ms/step - loss: 0.0470 - accuracy: 0.9778 - val_loss: 0.0685 - val_accuracy: 0.9333\n",
      "Epoch 121/200\n",
      "3/3 [==============================] - 0s 46ms/step - loss: 0.0487 - accuracy: 0.9778 - val_loss: 0.0676 - val_accuracy: 0.9333\n",
      "Epoch 122/200\n",
      "3/3 [==============================] - 0s 44ms/step - loss: 0.0492 - accuracy: 0.9889 - val_loss: 0.0721 - val_accuracy: 0.9333\n",
      "Epoch 123/200\n",
      "3/3 [==============================] - 0s 48ms/step - loss: 0.0496 - accuracy: 0.9889 - val_loss: 0.0729 - val_accuracy: 0.9333\n",
      "Epoch 124/200\n",
      "3/3 [==============================] - 0s 48ms/step - loss: 0.0480 - accuracy: 0.9889 - val_loss: 0.0729 - val_accuracy: 0.9333\n",
      "Epoch 125/200\n",
      "3/3 [==============================] - 0s 52ms/step - loss: 0.0473 - accuracy: 0.9778 - val_loss: 0.0687 - val_accuracy: 0.9333\n",
      "Epoch 126/200\n",
      "3/3 [==============================] - 0s 44ms/step - loss: 0.0461 - accuracy: 0.9889 - val_loss: 0.0713 - val_accuracy: 0.9333\n",
      "Epoch 127/200\n",
      "3/3 [==============================] - 0s 44ms/step - loss: 0.0446 - accuracy: 0.9889 - val_loss: 0.0669 - val_accuracy: 0.9333\n",
      "Epoch 128/200\n",
      "3/3 [==============================] - 0s 45ms/step - loss: 0.0446 - accuracy: 0.9889 - val_loss: 0.0677 - val_accuracy: 0.9333\n",
      "Epoch 129/200\n",
      "3/3 [==============================] - 0s 44ms/step - loss: 0.0448 - accuracy: 0.9889 - val_loss: 0.0681 - val_accuracy: 0.9333\n",
      "Epoch 130/200\n",
      "3/3 [==============================] - 0s 36ms/step - loss: 0.0448 - accuracy: 0.9889 - val_loss: 0.0705 - val_accuracy: 0.9333\n",
      "Epoch 131/200\n",
      "3/3 [==============================] - 0s 49ms/step - loss: 0.0436 - accuracy: 0.9889 - val_loss: 0.0707 - val_accuracy: 0.9333\n",
      "Epoch 132/200\n",
      "3/3 [==============================] - 0s 48ms/step - loss: 0.0525 - accuracy: 0.9778 - val_loss: 0.0704 - val_accuracy: 0.9333\n",
      "Epoch 133/200\n",
      "3/3 [==============================] - 0s 49ms/step - loss: 0.0450 - accuracy: 0.9889 - val_loss: 0.0645 - val_accuracy: 0.9333\n",
      "Epoch 134/200\n",
      "3/3 [==============================] - 0s 48ms/step - loss: 0.0452 - accuracy: 0.9889 - val_loss: 0.0709 - val_accuracy: 0.9333\n",
      "Epoch 135/200\n",
      "3/3 [==============================] - 0s 40ms/step - loss: 0.0453 - accuracy: 0.9889 - val_loss: 0.0718 - val_accuracy: 0.9333\n",
      "Epoch 136/200\n",
      "3/3 [==============================] - 0s 48ms/step - loss: 0.0432 - accuracy: 0.9778 - val_loss: 0.0665 - val_accuracy: 0.9333\n",
      "Epoch 137/200\n",
      "3/3 [==============================] - 0s 36ms/step - loss: 0.0425 - accuracy: 0.9889 - val_loss: 0.0649 - val_accuracy: 0.9333\n",
      "Epoch 138/200\n",
      "3/3 [==============================] - 0s 52ms/step - loss: 0.0432 - accuracy: 0.9889 - val_loss: 0.0633 - val_accuracy: 0.9333\n",
      "Epoch 139/200\n",
      "3/3 [==============================] - 0s 36ms/step - loss: 0.0432 - accuracy: 0.9889 - val_loss: 0.0675 - val_accuracy: 0.9333\n",
      "Epoch 140/200\n",
      "3/3 [==============================] - 0s 36ms/step - loss: 0.0471 - accuracy: 0.9778 - val_loss: 0.0649 - val_accuracy: 0.9333\n",
      "Epoch 141/200\n",
      "3/3 [==============================] - 0s 36ms/step - loss: 0.0459 - accuracy: 0.9889 - val_loss: 0.0669 - val_accuracy: 0.9333\n",
      "Epoch 142/200\n",
      "3/3 [==============================] - 0s 44ms/step - loss: 0.0433 - accuracy: 0.9889 - val_loss: 0.0641 - val_accuracy: 0.9333\n",
      "Epoch 143/200\n",
      "3/3 [==============================] - 0s 44ms/step - loss: 0.0413 - accuracy: 0.9889 - val_loss: 0.0643 - val_accuracy: 0.9333\n",
      "Epoch 144/200\n",
      "3/3 [==============================] - 0s 48ms/step - loss: 0.0482 - accuracy: 0.9889 - val_loss: 0.0666 - val_accuracy: 0.9333\n",
      "Epoch 145/200\n",
      "3/3 [==============================] - 0s 48ms/step - loss: 0.0419 - accuracy: 0.9889 - val_loss: 0.0615 - val_accuracy: 0.9667\n",
      "Epoch 146/200\n",
      "3/3 [==============================] - 0s 48ms/step - loss: 0.0431 - accuracy: 0.9889 - val_loss: 0.0634 - val_accuracy: 0.9667\n",
      "Epoch 147/200\n",
      "3/3 [==============================] - 0s 44ms/step - loss: 0.0415 - accuracy: 0.9889 - val_loss: 0.0641 - val_accuracy: 0.9667\n",
      "Epoch 148/200\n",
      "3/3 [==============================] - 0s 38ms/step - loss: 0.0423 - accuracy: 0.9778 - val_loss: 0.0602 - val_accuracy: 0.9667\n",
      "Epoch 149/200\n",
      "3/3 [==============================] - 0s 36ms/step - loss: 0.0499 - accuracy: 0.9778 - val_loss: 0.0596 - val_accuracy: 0.9667\n",
      "Epoch 150/200\n",
      "3/3 [==============================] - 0s 48ms/step - loss: 0.0417 - accuracy: 0.9889 - val_loss: 0.0650 - val_accuracy: 0.9667\n",
      "Epoch 151/200\n",
      "3/3 [==============================] - 0s 48ms/step - loss: 0.0418 - accuracy: 0.9889 - val_loss: 0.0639 - val_accuracy: 0.9667\n",
      "Epoch 152/200\n",
      "3/3 [==============================] - 0s 48ms/step - loss: 0.0469 - accuracy: 0.9889 - val_loss: 0.0653 - val_accuracy: 0.9667\n",
      "Epoch 153/200\n",
      "3/3 [==============================] - 0s 52ms/step - loss: 0.0430 - accuracy: 0.9889 - val_loss: 0.0650 - val_accuracy: 0.9667\n",
      "Epoch 154/200\n",
      "3/3 [==============================] - 0s 52ms/step - loss: 0.0436 - accuracy: 0.9889 - val_loss: 0.0627 - val_accuracy: 0.9667\n",
      "Epoch 155/200\n",
      "3/3 [==============================] - 0s 48ms/step - loss: 0.0425 - accuracy: 0.9889 - val_loss: 0.0630 - val_accuracy: 0.9667\n",
      "Epoch 156/200\n",
      "3/3 [==============================] - 0s 64ms/step - loss: 0.0401 - accuracy: 0.9889 - val_loss: 0.0652 - val_accuracy: 0.9667\n",
      "Epoch 157/200\n",
      "3/3 [==============================] - 0s 56ms/step - loss: 0.0441 - accuracy: 0.9889 - val_loss: 0.0652 - val_accuracy: 0.9667\n",
      "Epoch 158/200\n",
      "3/3 [==============================] - 0s 60ms/step - loss: 0.0422 - accuracy: 0.9778 - val_loss: 0.0608 - val_accuracy: 0.9667\n",
      "Epoch 159/200\n",
      "3/3 [==============================] - 0s 90ms/step - loss: 0.0442 - accuracy: 0.9889 - val_loss: 0.0625 - val_accuracy: 0.9667\n",
      "Epoch 160/200\n",
      "3/3 [==============================] - 0s 48ms/step - loss: 0.0400 - accuracy: 0.9889 - val_loss: 0.0596 - val_accuracy: 0.9667\n",
      "Epoch 161/200\n",
      "3/3 [==============================] - 0s 64ms/step - loss: 0.0389 - accuracy: 0.9889 - val_loss: 0.0595 - val_accuracy: 0.9667\n",
      "Epoch 162/200\n",
      "3/3 [==============================] - 0s 64ms/step - loss: 0.0405 - accuracy: 0.9889 - val_loss: 0.0572 - val_accuracy: 0.9667\n",
      "Epoch 163/200\n",
      "3/3 [==============================] - 0s 56ms/step - loss: 0.0400 - accuracy: 0.9889 - val_loss: 0.0589 - val_accuracy: 0.9667\n",
      "Epoch 164/200\n",
      "3/3 [==============================] - 0s 52ms/step - loss: 0.0388 - accuracy: 0.9889 - val_loss: 0.0603 - val_accuracy: 0.9667\n",
      "Epoch 165/200\n",
      "3/3 [==============================] - 0s 44ms/step - loss: 0.0393 - accuracy: 0.9889 - val_loss: 0.0614 - val_accuracy: 0.9667\n",
      "Epoch 166/200\n",
      "3/3 [==============================] - 0s 52ms/step - loss: 0.0382 - accuracy: 0.9889 - val_loss: 0.0637 - val_accuracy: 0.9667\n"
     ]
    },
    {
     "name": "stdout",
     "output_type": "stream",
     "text": [
      "Epoch 167/200\n",
      "3/3 [==============================] - 0s 52ms/step - loss: 0.0412 - accuracy: 0.9889 - val_loss: 0.0602 - val_accuracy: 0.9667\n",
      "Epoch 168/200\n",
      "3/3 [==============================] - 0s 52ms/step - loss: 0.0384 - accuracy: 0.9889 - val_loss: 0.0573 - val_accuracy: 0.9667\n",
      "Epoch 169/200\n",
      "3/3 [==============================] - 0s 44ms/step - loss: 0.0414 - accuracy: 0.9889 - val_loss: 0.0601 - val_accuracy: 0.9667\n",
      "Epoch 170/200\n",
      "3/3 [==============================] - 0s 64ms/step - loss: 0.0396 - accuracy: 0.9889 - val_loss: 0.0628 - val_accuracy: 0.9667\n",
      "Epoch 171/200\n",
      "3/3 [==============================] - 0s 55ms/step - loss: 0.0389 - accuracy: 0.9889 - val_loss: 0.0574 - val_accuracy: 0.9667\n",
      "Epoch 172/200\n",
      "3/3 [==============================] - 0s 56ms/step - loss: 0.0376 - accuracy: 0.9889 - val_loss: 0.0605 - val_accuracy: 0.9667\n",
      "Epoch 173/200\n",
      "3/3 [==============================] - 0s 72ms/step - loss: 0.0397 - accuracy: 0.9889 - val_loss: 0.0637 - val_accuracy: 0.9667\n",
      "Epoch 174/200\n",
      "3/3 [==============================] - 0s 77ms/step - loss: 0.0376 - accuracy: 0.9889 - val_loss: 0.0564 - val_accuracy: 0.9667\n",
      "Epoch 175/200\n",
      "3/3 [==============================] - 0s 64ms/step - loss: 0.0444 - accuracy: 0.9889 - val_loss: 0.0560 - val_accuracy: 0.9667\n",
      "Epoch 176/200\n",
      "3/3 [==============================] - 0s 86ms/step - loss: 0.0391 - accuracy: 0.9889 - val_loss: 0.0627 - val_accuracy: 0.9667\n",
      "Epoch 177/200\n",
      "3/3 [==============================] - 0s 77ms/step - loss: 0.0391 - accuracy: 0.9889 - val_loss: 0.0596 - val_accuracy: 0.9667\n",
      "Epoch 178/200\n",
      "3/3 [==============================] - 0s 60ms/step - loss: 0.0384 - accuracy: 0.9889 - val_loss: 0.0612 - val_accuracy: 0.9667\n",
      "Epoch 179/200\n",
      "3/3 [==============================] - 0s 83ms/step - loss: 0.0380 - accuracy: 0.9889 - val_loss: 0.0614 - val_accuracy: 0.9667\n",
      "Epoch 180/200\n",
      "3/3 [==============================] - 0s 61ms/step - loss: 0.0375 - accuracy: 0.9889 - val_loss: 0.0619 - val_accuracy: 0.9667\n",
      "Epoch 181/200\n",
      "3/3 [==============================] - 0s 84ms/step - loss: 0.0388 - accuracy: 0.9889 - val_loss: 0.0591 - val_accuracy: 0.9667\n",
      "Epoch 182/200\n",
      "3/3 [==============================] - 0s 77ms/step - loss: 0.0378 - accuracy: 0.9889 - val_loss: 0.0568 - val_accuracy: 0.9667\n",
      "Epoch 183/200\n",
      "3/3 [==============================] - 0s 81ms/step - loss: 0.0367 - accuracy: 0.9889 - val_loss: 0.0605 - val_accuracy: 0.9667\n",
      "Epoch 184/200\n",
      "3/3 [==============================] - 0s 92ms/step - loss: 0.0358 - accuracy: 0.9889 - val_loss: 0.0584 - val_accuracy: 0.9667\n",
      "Epoch 185/200\n",
      "3/3 [==============================] - 0s 44ms/step - loss: 0.0363 - accuracy: 0.9889 - val_loss: 0.0630 - val_accuracy: 0.9667\n",
      "Epoch 186/200\n",
      "3/3 [==============================] - 0s 77ms/step - loss: 0.0398 - accuracy: 0.9778 - val_loss: 0.0577 - val_accuracy: 0.9667\n",
      "Epoch 187/200\n",
      "3/3 [==============================] - 0s 76ms/step - loss: 0.0425 - accuracy: 0.9889 - val_loss: 0.0621 - val_accuracy: 0.9667\n",
      "Epoch 188/200\n",
      "3/3 [==============================] - 0s 64ms/step - loss: 0.0372 - accuracy: 0.9889 - val_loss: 0.0626 - val_accuracy: 0.9667\n",
      "Epoch 189/200\n",
      "3/3 [==============================] - 0s 56ms/step - loss: 0.0375 - accuracy: 0.9889 - val_loss: 0.0588 - val_accuracy: 0.9667\n",
      "Epoch 190/200\n",
      "3/3 [==============================] - 0s 52ms/step - loss: 0.0380 - accuracy: 0.9889 - val_loss: 0.0588 - val_accuracy: 0.9667\n",
      "Epoch 191/200\n",
      "3/3 [==============================] - 0s 52ms/step - loss: 0.0396 - accuracy: 0.9889 - val_loss: 0.0567 - val_accuracy: 0.9667\n",
      "Epoch 192/200\n",
      "3/3 [==============================] - 0s 48ms/step - loss: 0.0378 - accuracy: 0.9889 - val_loss: 0.0631 - val_accuracy: 0.9667\n",
      "Epoch 193/200\n",
      "3/3 [==============================] - 0s 50ms/step - loss: 0.0362 - accuracy: 0.9889 - val_loss: 0.0638 - val_accuracy: 0.9667\n",
      "Epoch 194/200\n",
      "3/3 [==============================] - 0s 52ms/step - loss: 0.0358 - accuracy: 0.9889 - val_loss: 0.0619 - val_accuracy: 0.9667\n",
      "Epoch 195/200\n",
      "3/3 [==============================] - 0s 53ms/step - loss: 0.0392 - accuracy: 0.9889 - val_loss: 0.0629 - val_accuracy: 0.9667\n",
      "Epoch 196/200\n",
      "3/3 [==============================] - 0s 48ms/step - loss: 0.0359 - accuracy: 0.9889 - val_loss: 0.0615 - val_accuracy: 0.9667\n",
      "Epoch 197/200\n",
      "3/3 [==============================] - 0s 56ms/step - loss: 0.0357 - accuracy: 0.9889 - val_loss: 0.0565 - val_accuracy: 0.9667\n",
      "Epoch 198/200\n",
      "3/3 [==============================] - 0s 52ms/step - loss: 0.0368 - accuracy: 0.9889 - val_loss: 0.0572 - val_accuracy: 0.9667\n",
      "Epoch 199/200\n",
      "3/3 [==============================] - 0s 52ms/step - loss: 0.0361 - accuracy: 0.9889 - val_loss: 0.0553 - val_accuracy: 0.9667\n",
      "Epoch 200/200\n",
      "3/3 [==============================] - 0s 48ms/step - loss: 0.0355 - accuracy: 0.9889 - val_loss: 0.0595 - val_accuracy: 0.9667\n"
     ]
    }
   ],
   "source": [
    "#classification multiclass\n",
    "#dernière couche, 3 neurones avec activation softmax\n",
    "#après aller plus loin en appliquant la technique kfold car que 120 échantillons par exemple k=4\n",
    "#essayer pour différentes couches de réseaux de neurones et différent nbr de neurones pour tester,\n",
    "#on ajuste les hyperparamètres pour certaines données de validation, puis ensuite on regarde si les résultats \n",
    "#son correctes pour les données de test.\n",
    "\n",
    "\n",
    "#importation des bibliothèques\n",
    "from tensorflow import keras\n",
    "from tensorflow.keras import layers\n",
    "\n",
    "#construction du modèle à 3 couches avec un certain nbr de neurones par couche\n",
    "#nbr de neurones en puissance de 2\n",
    "def get_model():\n",
    "    model = keras.Sequential([\n",
    "        #layers.Dense(32, activation=\"relu\"), #relu(x)=max(x, 0)\n",
    "        layers.Dense(512, activation=\"relu\"),\n",
    "        layers.Dense(3, activation=\"softmax\") #donne une probabilité de distribution, 3 espèces possibles, softmax pour multiclass\n",
    "    ])\n",
    "    #compilation du modèle\n",
    "    #si on a du one-hot encoding (que des 1 et des 0), loss=categorical_crossentropy\n",
    "    model.compile(optimizer=\"rmsprop\", #détermine comment le \"learning\" progresse\n",
    "                  loss=\"sparse_categorical_crossentropy\", #définie le feedback utilisé pour \"learning\", multiclass\n",
    "                  metrics=[\"accuracy\"]) #évalue la performance du modèle\n",
    "    return model\n",
    "\n",
    "model = get_model()\n",
    "\n",
    "\n",
    "#entraînement du modèle\n",
    "history = model.fit(\n",
    "    training_data,training_labels,\n",
    "    epochs=200,#nbr d'itérations\n",
    "    batch_size=32, #taille d'un lot d'entraînement, prendre un batch de petite taille\n",
    "    validation_data=(fleurs_validation_data, fleurs_validation_labels))\n",
    "\n",
    "\n",
    "\n"
   ]
  },
  {
   "cell_type": "code",
   "execution_count": 7,
   "id": "745f0605",
   "metadata": {},
   "outputs": [
    {
     "name": "stdout",
     "output_type": "stream",
     "text": [
      "Model: \"sequential\"\n",
      "_________________________________________________________________\n",
      " Layer (type)                Output Shape              Param #   \n",
      "=================================================================\n",
      " dense (Dense)               (None, 512)               2560      \n",
      "                                                                 \n",
      " dense_1 (Dense)             (None, 3)                 1539      \n",
      "                                                                 \n",
      "=================================================================\n",
      "Total params: 4099 (16.01 KB)\n",
      "Trainable params: 4099 (16.01 KB)\n",
      "Non-trainable params: 0 (0.00 Byte)\n",
      "_________________________________________________________________\n"
     ]
    }
   ],
   "source": [
    "model.summary()"
   ]
  },
  {
   "cell_type": "markdown",
   "id": "dbeaf910",
   "metadata": {},
   "source": [
    "# Evolution de la fonction de perte"
   ]
  },
  {
   "cell_type": "code",
   "execution_count": 8,
   "id": "b941b3f0",
   "metadata": {},
   "outputs": [
    {
     "data": {
      "image/png": "[encoded data removed]",
      "text/plain": [
       "<Figure size 640x480 with 1 Axes>"
      ]
     },
     "metadata": {},
     "output_type": "display_data"
    }
   ],
   "source": [
    "#évaluation de la fonction de perte\n",
    "import matplotlib.pyplot as plt\n",
    "\n",
    "history_dict = history.history\n",
    "loss_values = history_dict[\"loss\"]\n",
    "val_loss_values = history_dict[\"val_loss\"]\n",
    "epochs = range(1, len(loss_values) + 1)\n",
    "plt.plot(epochs, loss_values, \"bo\", label=\"Training loss\")\n",
    "plt.plot(epochs, val_loss_values, \"b\", label=\"Validation loss\")\n",
    "plt.title(\"Training and validation loss\")\n",
    "plt.xlabel(\"Epochs\")\n",
    "plt.ylabel(\"Loss\")\n",
    "#plt.ylim(0, 0.3)\n",
    "plt.legend()\n",
    "plt.show()"
   ]
  },
  {
   "cell_type": "markdown",
   "id": "a2e773ef",
   "metadata": {},
   "source": [
    "# Evolution de l'accuracy"
   ]
  },
  {
   "cell_type": "code",
   "execution_count": 9,
   "id": "edaa248e",
   "metadata": {},
   "outputs": [
    {
     "data": {
      "image/png": "[encoded data removed]",
      "text/plain": [
       "<Figure size 640x480 with 1 Axes>"
      ]
     },
     "metadata": {},
     "output_type": "display_data"
    }
   ],
   "source": [
    "plt.clf()\n",
    "\n",
    "acc = history_dict[\"accuracy\"]\n",
    "val_acc = history_dict[\"val_accuracy\"]\n",
    "\n",
    "plt.plot(epochs, acc, \"bo\", label=\"Training acc\")\n",
    "plt.plot(epochs, val_acc, \"b\", label=\"Validation acc\")\n",
    "plt.title(\"Training and validation accuracy\")\n",
    "plt.xlabel(\"Epochs\")\n",
    "plt.ylabel(\"Accuracy\")\n",
    "plt.legend()\n",
    "plt.show()\n",
    "#si accuracy saccadé, pas assez de données"
   ]
  },
  {
   "cell_type": "code",
   "execution_count": null,
   "id": "8c23e38b",
   "metadata": {},
   "outputs": [],
   "source": []
  },
  {
   "cell_type": "markdown",
   "id": "bdc923fb",
   "metadata": {},
   "source": [
    "# Détermination de l'espèce d'une fleur"
   ]
  },
  {
   "cell_type": "code",
   "execution_count": 10,
   "id": "2bb41c02",
   "metadata": {},
   "outputs": [
    {
     "name": "stdout",
     "output_type": "stream",
     "text": [
      "1/1 [==============================] - 0s 209ms/step\n",
      "[[1.7291733e-27 5.7396445e-25 1.0000000e+00]]\n"
     ]
    }
   ],
   "source": [
    "#!!!!!!!!!!!!!!!!!!!!!!!!!!!     il faut normaliser avant de tester les nouvelles caractéristiques        !!!!!!!!!!!!!!!!\n",
    "caractéristiques_fleur_test = np.array([[6.6, 3.3, 5.8, 2.5]])\n",
    "predictions = model.predict(caractéristiques_fleur_test)\n",
    "\n",
    "print(predictions)"
   ]
  },
  {
   "cell_type": "code",
   "execution_count": 11,
   "id": "11e82b9e",
   "metadata": {},
   "outputs": [
    {
     "name": "stdout",
     "output_type": "stream",
     "text": [
      "1/1 [==============================] - 0s 56ms/step\n",
      "fleur1 : [[1.1676104e-18 1.8465227e-15 1.0000000e+00]]\n",
      "1/1 [==============================] - 0s 64ms/step\n",
      "fleur2: [[7.146416e-06 3.809937e-01 6.189992e-01]]\n"
     ]
    }
   ],
   "source": [
    "#test avec des valeurs du csv test_data\n",
    "fleur1 = np.array([[5.9,3.0,4.2,1.5]])\n",
    "predict1 = model.predict(fleur1)\n",
    "\n",
    "print(\"fleur1 :\", predict1) #doit appartenir à l'espèce 1\n",
    "\n",
    "fleur2 = np.array([[5.1,3.3,1.7,0.5]])\n",
    "predict2 = model.predict(fleur2)\n",
    "\n",
    "print(\"fleur2:\", predict2) #doit appartenir à l'espèce 0"
   ]
  },
  {
   "cell_type": "markdown",
   "id": "0d7123dd",
   "metadata": {},
   "source": [
    "# Test méthode kfold"
   ]
  },
  {
   "cell_type": "code",
   "execution_count": null,
   "id": "085fcb92",
   "metadata": {},
   "outputs": [],
   "source": [
    "#méthode kfold permet \"d'aplatir\" les courbes et de mieux visualiser ou se situe le minimum pour la fonction de perte,\n",
    "#et donc trouver le nbr d'epoch opptimal correspondant"
   ]
  },
  {
   "cell_type": "code",
   "execution_count": null,
   "id": "a239758c",
   "metadata": {},
   "outputs": [],
   "source": []
  }
 ],
 "metadata": {
  "kernelspec": {
   "display_name": "Python 3 (ipykernel)",
   "language": "python",
   "name": "python3"
  },
  "language_info": {
   "codemirror_mode": {
    "name": "ipython",
    "version": 3
   },
   "file_extension": ".py",
   "mimetype": "text/x-python",
   "name": "python",
   "nbconvert_exporter": "python",
   "pygments_lexer": "ipython3",
   "version": "3.11.4"
  }
 },
 "nbformat": 4,
 "nbformat_minor": 5
}
