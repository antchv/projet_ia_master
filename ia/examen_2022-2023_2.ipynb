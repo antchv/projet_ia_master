{
 "cells": [
  {
   "cell_type": "markdown",
   "metadata": {},
   "source": [
    "## Chargement des données de santé"
   ]
  },
  {
   "cell_type": "code",
   "execution_count": 1,
   "metadata": {
    "scrolled": true
   },
   "outputs": [
    {
     "name": "stdout",
     "output_type": "stream",
     "text": [
      "On a 768 lignes et 9 colonnes\n"
     ]
    }
   ],
   "source": [
    "import numpy as np \n",
    "\n",
    "donnees_sante = np.genfromtxt(\"donnees_sante.csv\", delimiter=\",\")\n",
    "nLig, nCol = donnees_sante.shape\n",
    "print(f\"On a {nLig} lignes et {nCol} colonnes\")"
   ]
  },
  {
   "cell_type": "markdown",
   "metadata": {},
   "source": [
    "# Exercices"
   ]
  },
  {
   "cell_type": "markdown",
   "metadata": {},
   "source": [
    "Voir le sujet donné sur papier"
   ]
  },
  {
   "cell_type": "code",
   "execution_count": 2,
   "metadata": {},
   "outputs": [],
   "source": [
    "#il faut faire le split nous même, 80% entraînement (et ensuite entraînement et validation) et 20% test\n",
    "#classification binaire"
   ]
  },
  {
   "cell_type": "markdown",
   "metadata": {},
   "source": [
    "# Données d'entraînement"
   ]
  },
  {
   "cell_type": "code",
   "execution_count": 3,
   "metadata": {},
   "outputs": [
    {
     "name": "stdout",
     "output_type": "stream",
     "text": [
      "(462, 8)\n",
      "(462,)\n",
      "(153, 8)\n",
      "(153,)\n"
     ]
    }
   ],
   "source": [
    "#données d'entraînement du modèle, environ 3/4 des 80% des données de santé\n",
    "train_data = donnees_sante[:462,0:8]\n",
    "train_label = donnees_sante[:462,-1] \n",
    "print(train_data.shape)\n",
    "print(train_label.shape)\n",
    "\n",
    "#données de validation, environ 1/4 de 80% des données de santé, permet d'ajuster les hyperparamètres\n",
    "validation_data = donnees_sante[462:615,0:8]\n",
    "validation_label = donnees_sante[462:615,-1] \n",
    "print(validation_data.shape)\n",
    "print(validation_label.shape)"
   ]
  },
  {
   "cell_type": "markdown",
   "metadata": {},
   "source": [
    "# Données de test"
   ]
  },
  {
   "cell_type": "code",
   "execution_count": 4,
   "metadata": {},
   "outputs": [
    {
     "name": "stdout",
     "output_type": "stream",
     "text": [
      "(153, 8)\n",
      "(153,)\n"
     ]
    }
   ],
   "source": [
    "#données de test, environ 20%, permet de vérifier notre modèle avec des données qu'il n'a jamais vu\n",
    "test_data = donnees_sante[615:,0:8]\n",
    "test_label = donnees_sante[615:,-1] \n",
    "print(test_data.shape)\n",
    "print(test_label.shape)"
   ]
  },
  {
   "cell_type": "markdown",
   "metadata": {},
   "source": [
    "# Normalisation des données"
   ]
  },
  {
   "cell_type": "code",
   "execution_count": 5,
   "metadata": {},
   "outputs": [],
   "source": [
    "#pour que chaque paramètre ai autant d'impact pour le modèle\n",
    "mean = train_data.mean(axis=0) #calcul la moyenne pour chaque colonne\n",
    "std = train_data.std(axis=0) #calcul l'écart type de chaque colonne\n",
    "\n",
    "#données de training\n",
    "train_data -= mean\n",
    "train_data /= std\n",
    "\n",
    "#données de validation\n",
    "validation_data -= mean\n",
    "validation_data /= std\n",
    "\n",
    "#données de test\n",
    "test_data -= mean\n",
    "test_data /= std"
   ]
  },
  {
   "cell_type": "markdown",
   "metadata": {},
   "source": [
    "# Création du réseau de neurones"
   ]
  },
  {
   "cell_type": "code",
   "execution_count": 6,
   "metadata": {},
   "outputs": [
    {
     "name": "stdout",
     "output_type": "stream",
     "text": [
      "Epoch 1/200\n",
      "8/8 [==============================] - 1s 26ms/step - loss: 0.6735 - accuracy: 0.6082 - val_loss: 0.6117 - val_accuracy: 0.7843\n",
      "Epoch 2/200\n",
      "8/8 [==============================] - 0s 5ms/step - loss: 0.6268 - accuracy: 0.6688 - val_loss: 0.5799 - val_accuracy: 0.8039\n",
      "Epoch 3/200\n",
      "8/8 [==============================] - 0s 4ms/step - loss: 0.5966 - accuracy: 0.7165 - val_loss: 0.5405 - val_accuracy: 0.8301\n",
      "Epoch 4/200\n",
      "8/8 [==============================] - 0s 8ms/step - loss: 0.5706 - accuracy: 0.7316 - val_loss: 0.5129 - val_accuracy: 0.8170\n",
      "Epoch 5/200\n",
      "8/8 [==============================] - 0s 4ms/step - loss: 0.5501 - accuracy: 0.7446 - val_loss: 0.4902 - val_accuracy: 0.8235\n",
      "Epoch 6/200\n",
      "8/8 [==============================] - 0s 4ms/step - loss: 0.5341 - accuracy: 0.7532 - val_loss: 0.4700 - val_accuracy: 0.8235\n",
      "Epoch 7/200\n",
      "8/8 [==============================] - 0s 5ms/step - loss: 0.5219 - accuracy: 0.7511 - val_loss: 0.4577 - val_accuracy: 0.8366\n",
      "Epoch 8/200\n",
      "8/8 [==============================] - 0s 4ms/step - loss: 0.5112 - accuracy: 0.7576 - val_loss: 0.4505 - val_accuracy: 0.8235\n",
      "Epoch 9/200\n",
      "8/8 [==============================] - 0s 5ms/step - loss: 0.5033 - accuracy: 0.7641 - val_loss: 0.4306 - val_accuracy: 0.8497\n",
      "Epoch 10/200\n",
      "8/8 [==============================] - 0s 7ms/step - loss: 0.4962 - accuracy: 0.7641 - val_loss: 0.4182 - val_accuracy: 0.8431\n",
      "Epoch 11/200\n",
      "8/8 [==============================] - 0s 5ms/step - loss: 0.4913 - accuracy: 0.7706 - val_loss: 0.4180 - val_accuracy: 0.8497\n",
      "Epoch 12/200\n",
      "8/8 [==============================] - 0s 7ms/step - loss: 0.4865 - accuracy: 0.7727 - val_loss: 0.4178 - val_accuracy: 0.8366\n",
      "Epoch 13/200\n",
      "8/8 [==============================] - 0s 7ms/step - loss: 0.4822 - accuracy: 0.7619 - val_loss: 0.4138 - val_accuracy: 0.8301\n",
      "Epoch 14/200\n",
      "8/8 [==============================] - 0s 4ms/step - loss: 0.4791 - accuracy: 0.7662 - val_loss: 0.4025 - val_accuracy: 0.8562\n",
      "Epoch 15/200\n",
      "8/8 [==============================] - 0s 5ms/step - loss: 0.4748 - accuracy: 0.7749 - val_loss: 0.3993 - val_accuracy: 0.8497\n",
      "Epoch 16/200\n",
      "8/8 [==============================] - 0s 8ms/step - loss: 0.4727 - accuracy: 0.7706 - val_loss: 0.3917 - val_accuracy: 0.8431\n",
      "Epoch 17/200\n",
      "8/8 [==============================] - 0s 7ms/step - loss: 0.4704 - accuracy: 0.7684 - val_loss: 0.3941 - val_accuracy: 0.8497\n",
      "Epoch 18/200\n",
      "8/8 [==============================] - 0s 6ms/step - loss: 0.4682 - accuracy: 0.7749 - val_loss: 0.3940 - val_accuracy: 0.8431\n",
      "Epoch 19/200\n",
      "8/8 [==============================] - 0s 7ms/step - loss: 0.4660 - accuracy: 0.7792 - val_loss: 0.3924 - val_accuracy: 0.8431\n",
      "Epoch 20/200\n",
      "8/8 [==============================] - 0s 5ms/step - loss: 0.4632 - accuracy: 0.7684 - val_loss: 0.3920 - val_accuracy: 0.8366\n",
      "Epoch 21/200\n",
      "8/8 [==============================] - 0s 4ms/step - loss: 0.4615 - accuracy: 0.7771 - val_loss: 0.3867 - val_accuracy: 0.8497\n",
      "Epoch 22/200\n",
      "8/8 [==============================] - 0s 8ms/step - loss: 0.4596 - accuracy: 0.7771 - val_loss: 0.3912 - val_accuracy: 0.8431\n",
      "Epoch 23/200\n",
      "8/8 [==============================] - 0s 7ms/step - loss: 0.4582 - accuracy: 0.7814 - val_loss: 0.3895 - val_accuracy: 0.8497\n",
      "Epoch 24/200\n",
      "8/8 [==============================] - 0s 5ms/step - loss: 0.4556 - accuracy: 0.7771 - val_loss: 0.3861 - val_accuracy: 0.8431\n",
      "Epoch 25/200\n",
      "8/8 [==============================] - 0s 4ms/step - loss: 0.4545 - accuracy: 0.7749 - val_loss: 0.3920 - val_accuracy: 0.8497\n",
      "Epoch 26/200\n",
      "8/8 [==============================] - 0s 8ms/step - loss: 0.4527 - accuracy: 0.7727 - val_loss: 0.3913 - val_accuracy: 0.8497\n",
      "Epoch 27/200\n",
      "8/8 [==============================] - 0s 7ms/step - loss: 0.4509 - accuracy: 0.7684 - val_loss: 0.3952 - val_accuracy: 0.8431\n",
      "Epoch 28/200\n",
      "8/8 [==============================] - 0s 7ms/step - loss: 0.4496 - accuracy: 0.7727 - val_loss: 0.3899 - val_accuracy: 0.8497\n",
      "Epoch 29/200\n",
      "8/8 [==============================] - 0s 4ms/step - loss: 0.4483 - accuracy: 0.7792 - val_loss: 0.3896 - val_accuracy: 0.8562\n",
      "Epoch 30/200\n",
      "8/8 [==============================] - 0s 7ms/step - loss: 0.4463 - accuracy: 0.7835 - val_loss: 0.3923 - val_accuracy: 0.8497\n",
      "Epoch 31/200\n",
      "8/8 [==============================] - 0s 8ms/step - loss: 0.4452 - accuracy: 0.7835 - val_loss: 0.3912 - val_accuracy: 0.8497\n",
      "Epoch 32/200\n",
      "8/8 [==============================] - 0s 4ms/step - loss: 0.4432 - accuracy: 0.7835 - val_loss: 0.3870 - val_accuracy: 0.8497\n",
      "Epoch 33/200\n",
      "8/8 [==============================] - 0s 5ms/step - loss: 0.4433 - accuracy: 0.7879 - val_loss: 0.3861 - val_accuracy: 0.8497\n",
      "Epoch 34/200\n",
      "8/8 [==============================] - 0s 7ms/step - loss: 0.4413 - accuracy: 0.7835 - val_loss: 0.3879 - val_accuracy: 0.8562\n",
      "Epoch 35/200\n",
      "8/8 [==============================] - 0s 5ms/step - loss: 0.4395 - accuracy: 0.7814 - val_loss: 0.3920 - val_accuracy: 0.8562\n",
      "Epoch 36/200\n",
      "8/8 [==============================] - 0s 4ms/step - loss: 0.4381 - accuracy: 0.7922 - val_loss: 0.3946 - val_accuracy: 0.8562\n",
      "Epoch 37/200\n",
      "8/8 [==============================] - 0s 5ms/step - loss: 0.4362 - accuracy: 0.7879 - val_loss: 0.4013 - val_accuracy: 0.8431\n",
      "Epoch 38/200\n",
      "8/8 [==============================] - 0s 7ms/step - loss: 0.4366 - accuracy: 0.7900 - val_loss: 0.3982 - val_accuracy: 0.8497\n",
      "Epoch 39/200\n",
      "8/8 [==============================] - 0s 7ms/step - loss: 0.4345 - accuracy: 0.7900 - val_loss: 0.3933 - val_accuracy: 0.8497\n",
      "Epoch 40/200\n",
      "8/8 [==============================] - 0s 4ms/step - loss: 0.4329 - accuracy: 0.7922 - val_loss: 0.3923 - val_accuracy: 0.8497\n",
      "Epoch 41/200\n",
      "8/8 [==============================] - 0s 4ms/step - loss: 0.4317 - accuracy: 0.7922 - val_loss: 0.3871 - val_accuracy: 0.8562\n",
      "Epoch 42/200\n",
      "8/8 [==============================] - 0s 5ms/step - loss: 0.4315 - accuracy: 0.7944 - val_loss: 0.3900 - val_accuracy: 0.8497\n",
      "Epoch 43/200\n",
      "8/8 [==============================] - 0s 7ms/step - loss: 0.4306 - accuracy: 0.7922 - val_loss: 0.3999 - val_accuracy: 0.8497\n",
      "Epoch 44/200\n",
      "8/8 [==============================] - 0s 6ms/step - loss: 0.4288 - accuracy: 0.8030 - val_loss: 0.4041 - val_accuracy: 0.8497\n",
      "Epoch 45/200\n",
      "8/8 [==============================] - 0s 4ms/step - loss: 0.4279 - accuracy: 0.7987 - val_loss: 0.3996 - val_accuracy: 0.8562\n",
      "Epoch 46/200\n",
      "8/8 [==============================] - 0s 5ms/step - loss: 0.4265 - accuracy: 0.8009 - val_loss: 0.3993 - val_accuracy: 0.8562\n",
      "Epoch 47/200\n",
      "8/8 [==============================] - 0s 7ms/step - loss: 0.4265 - accuracy: 0.7965 - val_loss: 0.3946 - val_accuracy: 0.8562\n",
      "Epoch 48/200\n",
      "8/8 [==============================] - 0s 8ms/step - loss: 0.4244 - accuracy: 0.8009 - val_loss: 0.3891 - val_accuracy: 0.8562\n",
      "Epoch 49/200\n",
      "8/8 [==============================] - 0s 7ms/step - loss: 0.4251 - accuracy: 0.7987 - val_loss: 0.3930 - val_accuracy: 0.8497\n",
      "Epoch 50/200\n",
      "8/8 [==============================] - 0s 5ms/step - loss: 0.4220 - accuracy: 0.8052 - val_loss: 0.3971 - val_accuracy: 0.8497\n",
      "Epoch 51/200\n",
      "8/8 [==============================] - 0s 4ms/step - loss: 0.4212 - accuracy: 0.8074 - val_loss: 0.4036 - val_accuracy: 0.8562\n",
      "Epoch 52/200\n",
      "8/8 [==============================] - 0s 8ms/step - loss: 0.4218 - accuracy: 0.7987 - val_loss: 0.3970 - val_accuracy: 0.8497\n",
      "Epoch 53/200\n",
      "8/8 [==============================] - 0s 7ms/step - loss: 0.4199 - accuracy: 0.8052 - val_loss: 0.4009 - val_accuracy: 0.8562\n",
      "Epoch 54/200\n",
      "8/8 [==============================] - 0s 7ms/step - loss: 0.4185 - accuracy: 0.8052 - val_loss: 0.4048 - val_accuracy: 0.8431\n",
      "Epoch 55/200\n",
      "8/8 [==============================] - 0s 4ms/step - loss: 0.4172 - accuracy: 0.8052 - val_loss: 0.3947 - val_accuracy: 0.8562\n",
      "Epoch 56/200\n",
      "8/8 [==============================] - 0s 7ms/step - loss: 0.4167 - accuracy: 0.8052 - val_loss: 0.3991 - val_accuracy: 0.8562\n",
      "Epoch 57/200\n",
      "8/8 [==============================] - 0s 5ms/step - loss: 0.4161 - accuracy: 0.8030 - val_loss: 0.3931 - val_accuracy: 0.8562\n",
      "Epoch 58/200\n",
      "8/8 [==============================] - 0s 7ms/step - loss: 0.4161 - accuracy: 0.8052 - val_loss: 0.4011 - val_accuracy: 0.8497\n",
      "Epoch 59/200\n"
     ]
    },
    {
     "name": "stdout",
     "output_type": "stream",
     "text": [
      "8/8 [==============================] - 0s 5ms/step - loss: 0.4151 - accuracy: 0.8052 - val_loss: 0.3991 - val_accuracy: 0.8497\n",
      "Epoch 60/200\n",
      "8/8 [==============================] - 0s 7ms/step - loss: 0.4139 - accuracy: 0.8074 - val_loss: 0.4042 - val_accuracy: 0.8627\n",
      "Epoch 61/200\n",
      "8/8 [==============================] - 0s 4ms/step - loss: 0.4133 - accuracy: 0.8030 - val_loss: 0.4031 - val_accuracy: 0.8497\n",
      "Epoch 62/200\n",
      "8/8 [==============================] - 0s 5ms/step - loss: 0.4120 - accuracy: 0.8009 - val_loss: 0.3974 - val_accuracy: 0.8497\n",
      "Epoch 63/200\n",
      "8/8 [==============================] - 0s 4ms/step - loss: 0.4113 - accuracy: 0.8052 - val_loss: 0.4004 - val_accuracy: 0.8497\n",
      "Epoch 64/200\n",
      "8/8 [==============================] - 0s 5ms/step - loss: 0.4093 - accuracy: 0.8009 - val_loss: 0.4098 - val_accuracy: 0.8301\n",
      "Epoch 65/200\n",
      "8/8 [==============================] - 0s 4ms/step - loss: 0.4087 - accuracy: 0.8030 - val_loss: 0.4059 - val_accuracy: 0.8301\n",
      "Epoch 66/200\n",
      "8/8 [==============================] - 0s 5ms/step - loss: 0.4088 - accuracy: 0.8095 - val_loss: 0.4122 - val_accuracy: 0.8301\n",
      "Epoch 67/200\n",
      "8/8 [==============================] - 0s 4ms/step - loss: 0.4081 - accuracy: 0.8052 - val_loss: 0.4091 - val_accuracy: 0.8301\n",
      "Epoch 68/200\n",
      "8/8 [==============================] - 0s 4ms/step - loss: 0.4077 - accuracy: 0.8095 - val_loss: 0.4015 - val_accuracy: 0.8497\n",
      "Epoch 69/200\n",
      "8/8 [==============================] - 0s 5ms/step - loss: 0.4061 - accuracy: 0.8095 - val_loss: 0.4107 - val_accuracy: 0.8301\n",
      "Epoch 70/200\n",
      "8/8 [==============================] - 0s 4ms/step - loss: 0.4043 - accuracy: 0.8052 - val_loss: 0.4037 - val_accuracy: 0.8431\n",
      "Epoch 71/200\n",
      "8/8 [==============================] - 0s 5ms/step - loss: 0.4042 - accuracy: 0.8030 - val_loss: 0.4111 - val_accuracy: 0.8431\n",
      "Epoch 72/200\n",
      "8/8 [==============================] - 0s 4ms/step - loss: 0.4037 - accuracy: 0.8052 - val_loss: 0.4179 - val_accuracy: 0.8431\n",
      "Epoch 73/200\n",
      "8/8 [==============================] - 0s 7ms/step - loss: 0.4030 - accuracy: 0.8095 - val_loss: 0.4228 - val_accuracy: 0.8431\n",
      "Epoch 74/200\n",
      "8/8 [==============================] - 0s 4ms/step - loss: 0.4028 - accuracy: 0.8095 - val_loss: 0.4100 - val_accuracy: 0.8431\n",
      "Epoch 75/200\n",
      "8/8 [==============================] - 0s 4ms/step - loss: 0.4005 - accuracy: 0.8074 - val_loss: 0.4055 - val_accuracy: 0.8366\n",
      "Epoch 76/200\n",
      "8/8 [==============================] - 0s 5ms/step - loss: 0.4006 - accuracy: 0.8139 - val_loss: 0.4083 - val_accuracy: 0.8366\n",
      "Epoch 77/200\n",
      "8/8 [==============================] - 0s 7ms/step - loss: 0.3992 - accuracy: 0.8139 - val_loss: 0.4065 - val_accuracy: 0.8431\n",
      "Epoch 78/200\n",
      "8/8 [==============================] - 0s 5ms/step - loss: 0.3980 - accuracy: 0.8160 - val_loss: 0.4191 - val_accuracy: 0.8170\n",
      "Epoch 79/200\n",
      "8/8 [==============================] - 0s 5ms/step - loss: 0.3987 - accuracy: 0.8095 - val_loss: 0.4121 - val_accuracy: 0.8235\n",
      "Epoch 80/200\n",
      "8/8 [==============================] - 0s 4ms/step - loss: 0.3963 - accuracy: 0.8139 - val_loss: 0.4121 - val_accuracy: 0.8235\n",
      "Epoch 81/200\n",
      "8/8 [==============================] - 0s 7ms/step - loss: 0.3962 - accuracy: 0.8160 - val_loss: 0.4181 - val_accuracy: 0.8170\n",
      "Epoch 82/200\n",
      "8/8 [==============================] - 0s 4ms/step - loss: 0.3966 - accuracy: 0.8117 - val_loss: 0.4115 - val_accuracy: 0.8301\n",
      "Epoch 83/200\n",
      "8/8 [==============================] - 0s 3ms/step - loss: 0.3942 - accuracy: 0.8160 - val_loss: 0.4110 - val_accuracy: 0.8366\n",
      "Epoch 84/200\n",
      "8/8 [==============================] - 0s 4ms/step - loss: 0.3933 - accuracy: 0.8139 - val_loss: 0.4245 - val_accuracy: 0.8105\n",
      "Epoch 85/200\n",
      "8/8 [==============================] - 0s 4ms/step - loss: 0.3928 - accuracy: 0.8225 - val_loss: 0.4190 - val_accuracy: 0.8170\n",
      "Epoch 86/200\n",
      "8/8 [==============================] - 0s 4ms/step - loss: 0.3926 - accuracy: 0.8160 - val_loss: 0.4150 - val_accuracy: 0.8235\n",
      "Epoch 87/200\n",
      "8/8 [==============================] - 0s 7ms/step - loss: 0.3905 - accuracy: 0.8139 - val_loss: 0.4108 - val_accuracy: 0.8301\n",
      "Epoch 88/200\n",
      "8/8 [==============================] - 0s 5ms/step - loss: 0.3902 - accuracy: 0.8247 - val_loss: 0.4180 - val_accuracy: 0.8235\n",
      "Epoch 89/200\n",
      "8/8 [==============================] - 0s 7ms/step - loss: 0.3892 - accuracy: 0.8203 - val_loss: 0.4149 - val_accuracy: 0.8301\n",
      "Epoch 90/200\n",
      "8/8 [==============================] - 0s 5ms/step - loss: 0.3890 - accuracy: 0.8225 - val_loss: 0.4170 - val_accuracy: 0.8170\n",
      "Epoch 91/200\n",
      "8/8 [==============================] - 0s 7ms/step - loss: 0.3875 - accuracy: 0.8203 - val_loss: 0.4184 - val_accuracy: 0.8105\n",
      "Epoch 92/200\n",
      "8/8 [==============================] - 0s 7ms/step - loss: 0.3870 - accuracy: 0.8203 - val_loss: 0.4234 - val_accuracy: 0.8170\n",
      "Epoch 93/200\n",
      "8/8 [==============================] - 0s 4ms/step - loss: 0.3861 - accuracy: 0.8203 - val_loss: 0.4249 - val_accuracy: 0.8105\n",
      "Epoch 94/200\n",
      "8/8 [==============================] - 0s 9ms/step - loss: 0.3854 - accuracy: 0.8333 - val_loss: 0.4221 - val_accuracy: 0.8105\n",
      "Epoch 95/200\n",
      "8/8 [==============================] - 0s 5ms/step - loss: 0.3848 - accuracy: 0.8290 - val_loss: 0.4228 - val_accuracy: 0.8105\n",
      "Epoch 96/200\n",
      "8/8 [==============================] - 0s 4ms/step - loss: 0.3832 - accuracy: 0.8182 - val_loss: 0.4168 - val_accuracy: 0.8170\n",
      "Epoch 97/200\n",
      "8/8 [==============================] - 0s 5ms/step - loss: 0.3825 - accuracy: 0.8290 - val_loss: 0.4186 - val_accuracy: 0.8235\n",
      "Epoch 98/200\n",
      "8/8 [==============================] - 0s 7ms/step - loss: 0.3823 - accuracy: 0.8268 - val_loss: 0.4180 - val_accuracy: 0.8235\n",
      "Epoch 99/200\n",
      "8/8 [==============================] - 0s 5ms/step - loss: 0.3807 - accuracy: 0.8312 - val_loss: 0.4192 - val_accuracy: 0.8105\n",
      "Epoch 100/200\n",
      "8/8 [==============================] - 0s 7ms/step - loss: 0.3808 - accuracy: 0.8333 - val_loss: 0.4200 - val_accuracy: 0.8235\n",
      "Epoch 101/200\n",
      "8/8 [==============================] - 0s 4ms/step - loss: 0.3798 - accuracy: 0.8355 - val_loss: 0.4169 - val_accuracy: 0.8301\n",
      "Epoch 102/200\n",
      "8/8 [==============================] - 0s 5ms/step - loss: 0.3801 - accuracy: 0.8355 - val_loss: 0.4183 - val_accuracy: 0.8301\n",
      "Epoch 103/200\n",
      "8/8 [==============================] - 0s 4ms/step - loss: 0.3781 - accuracy: 0.8290 - val_loss: 0.4285 - val_accuracy: 0.8105\n",
      "Epoch 104/200\n",
      "8/8 [==============================] - 0s 5ms/step - loss: 0.3764 - accuracy: 0.8268 - val_loss: 0.4327 - val_accuracy: 0.8170\n",
      "Epoch 105/200\n",
      "8/8 [==============================] - 0s 4ms/step - loss: 0.3765 - accuracy: 0.8420 - val_loss: 0.4287 - val_accuracy: 0.8105\n",
      "Epoch 106/200\n",
      "8/8 [==============================] - 0s 5ms/step - loss: 0.3754 - accuracy: 0.8312 - val_loss: 0.4275 - val_accuracy: 0.8105\n",
      "Epoch 107/200\n",
      "8/8 [==============================] - 0s 4ms/step - loss: 0.3752 - accuracy: 0.8355 - val_loss: 0.4441 - val_accuracy: 0.7974\n",
      "Epoch 108/200\n",
      "8/8 [==============================] - 0s 4ms/step - loss: 0.3761 - accuracy: 0.8377 - val_loss: 0.4288 - val_accuracy: 0.8105\n",
      "Epoch 109/200\n",
      "8/8 [==============================] - 0s 5ms/step - loss: 0.3739 - accuracy: 0.8398 - val_loss: 0.4272 - val_accuracy: 0.8170\n",
      "Epoch 110/200\n",
      "8/8 [==============================] - 0s 4ms/step - loss: 0.3721 - accuracy: 0.8355 - val_loss: 0.4223 - val_accuracy: 0.8235\n",
      "Epoch 111/200\n",
      "8/8 [==============================] - 0s 5ms/step - loss: 0.3708 - accuracy: 0.8398 - val_loss: 0.4394 - val_accuracy: 0.8039\n",
      "Epoch 112/200\n",
      "8/8 [==============================] - 0s 4ms/step - loss: 0.3724 - accuracy: 0.8377 - val_loss: 0.4362 - val_accuracy: 0.8105\n",
      "Epoch 113/200\n",
      "8/8 [==============================] - 0s 5ms/step - loss: 0.3691 - accuracy: 0.8398 - val_loss: 0.4250 - val_accuracy: 0.8366\n",
      "Epoch 114/200\n",
      "8/8 [==============================] - 0s 4ms/step - loss: 0.3691 - accuracy: 0.8398 - val_loss: 0.4310 - val_accuracy: 0.8105\n",
      "Epoch 115/200\n",
      "8/8 [==============================] - 0s 4ms/step - loss: 0.3700 - accuracy: 0.8398 - val_loss: 0.4340 - val_accuracy: 0.8105\n",
      "Epoch 116/200\n",
      "8/8 [==============================] - 0s 5ms/step - loss: 0.3681 - accuracy: 0.8485 - val_loss: 0.4350 - val_accuracy: 0.8039\n",
      "Epoch 117/200\n"
     ]
    },
    {
     "name": "stdout",
     "output_type": "stream",
     "text": [
      "8/8 [==============================] - 0s 4ms/step - loss: 0.3681 - accuracy: 0.8377 - val_loss: 0.4293 - val_accuracy: 0.8301\n",
      "Epoch 118/200\n",
      "8/8 [==============================] - 0s 5ms/step - loss: 0.3665 - accuracy: 0.8355 - val_loss: 0.4429 - val_accuracy: 0.8105\n",
      "Epoch 119/200\n",
      "8/8 [==============================] - 0s 4ms/step - loss: 0.3654 - accuracy: 0.8485 - val_loss: 0.4363 - val_accuracy: 0.8105\n",
      "Epoch 120/200\n",
      "8/8 [==============================] - 0s 7ms/step - loss: 0.3656 - accuracy: 0.8398 - val_loss: 0.4374 - val_accuracy: 0.8170\n",
      "Epoch 121/200\n",
      "8/8 [==============================] - 0s 4ms/step - loss: 0.3649 - accuracy: 0.8420 - val_loss: 0.4464 - val_accuracy: 0.7974\n",
      "Epoch 122/200\n",
      "8/8 [==============================] - 0s 7ms/step - loss: 0.3621 - accuracy: 0.8442 - val_loss: 0.4329 - val_accuracy: 0.8301\n",
      "Epoch 123/200\n",
      "8/8 [==============================] - 0s 5ms/step - loss: 0.3627 - accuracy: 0.8420 - val_loss: 0.4400 - val_accuracy: 0.8105\n",
      "Epoch 124/200\n",
      "8/8 [==============================] - 0s 7ms/step - loss: 0.3621 - accuracy: 0.8420 - val_loss: 0.4360 - val_accuracy: 0.8105\n",
      "Epoch 125/200\n",
      "8/8 [==============================] - 0s 5ms/step - loss: 0.3622 - accuracy: 0.8377 - val_loss: 0.4478 - val_accuracy: 0.7843\n",
      "Epoch 126/200\n",
      "8/8 [==============================] - 0s 7ms/step - loss: 0.3618 - accuracy: 0.8377 - val_loss: 0.4589 - val_accuracy: 0.7843\n",
      "Epoch 127/200\n",
      "8/8 [==============================] - 0s 4ms/step - loss: 0.3615 - accuracy: 0.8442 - val_loss: 0.4437 - val_accuracy: 0.7974\n",
      "Epoch 128/200\n",
      "8/8 [==============================] - 0s 5ms/step - loss: 0.3580 - accuracy: 0.8485 - val_loss: 0.4344 - val_accuracy: 0.8105\n",
      "Epoch 129/200\n",
      "8/8 [==============================] - 0s 4ms/step - loss: 0.3587 - accuracy: 0.8398 - val_loss: 0.4377 - val_accuracy: 0.8039\n",
      "Epoch 130/200\n",
      "8/8 [==============================] - 0s 3ms/step - loss: 0.3574 - accuracy: 0.8420 - val_loss: 0.4469 - val_accuracy: 0.7908\n",
      "Epoch 131/200\n",
      "8/8 [==============================] - 0s 4ms/step - loss: 0.3571 - accuracy: 0.8571 - val_loss: 0.4329 - val_accuracy: 0.8301\n",
      "Epoch 132/200\n",
      "8/8 [==============================] - 0s 7ms/step - loss: 0.3573 - accuracy: 0.8442 - val_loss: 0.4469 - val_accuracy: 0.7974\n",
      "Epoch 133/200\n",
      "8/8 [==============================] - 0s 5ms/step - loss: 0.3556 - accuracy: 0.8528 - val_loss: 0.4363 - val_accuracy: 0.8039\n",
      "Epoch 134/200\n",
      "8/8 [==============================] - 0s 4ms/step - loss: 0.3549 - accuracy: 0.8420 - val_loss: 0.4463 - val_accuracy: 0.7843\n",
      "Epoch 135/200\n",
      "8/8 [==============================] - 0s 5ms/step - loss: 0.3529 - accuracy: 0.8485 - val_loss: 0.4394 - val_accuracy: 0.8039\n",
      "Epoch 136/200\n",
      "8/8 [==============================] - 0s 4ms/step - loss: 0.3539 - accuracy: 0.8463 - val_loss: 0.4412 - val_accuracy: 0.8170\n",
      "Epoch 137/200\n",
      "8/8 [==============================] - 0s 5ms/step - loss: 0.3531 - accuracy: 0.8442 - val_loss: 0.4576 - val_accuracy: 0.7843\n",
      "Epoch 138/200\n",
      "8/8 [==============================] - 0s 4ms/step - loss: 0.3523 - accuracy: 0.8463 - val_loss: 0.4487 - val_accuracy: 0.8039\n",
      "Epoch 139/200\n",
      "8/8 [==============================] - 0s 4ms/step - loss: 0.3509 - accuracy: 0.8485 - val_loss: 0.4502 - val_accuracy: 0.7974\n",
      "Epoch 140/200\n",
      "8/8 [==============================] - 0s 5ms/step - loss: 0.3488 - accuracy: 0.8550 - val_loss: 0.4608 - val_accuracy: 0.7778\n",
      "Epoch 141/200\n",
      "8/8 [==============================] - 0s 4ms/step - loss: 0.3504 - accuracy: 0.8506 - val_loss: 0.4474 - val_accuracy: 0.7974\n",
      "Epoch 142/200\n",
      "8/8 [==============================] - 0s 5ms/step - loss: 0.3472 - accuracy: 0.8528 - val_loss: 0.4403 - val_accuracy: 0.8039\n",
      "Epoch 143/200\n",
      "8/8 [==============================] - 0s 4ms/step - loss: 0.3478 - accuracy: 0.8528 - val_loss: 0.4446 - val_accuracy: 0.8039\n",
      "Epoch 144/200\n",
      "8/8 [==============================] - 0s 5ms/step - loss: 0.3479 - accuracy: 0.8550 - val_loss: 0.4568 - val_accuracy: 0.7908\n",
      "Epoch 145/200\n",
      "8/8 [==============================] - 0s 4ms/step - loss: 0.3453 - accuracy: 0.8571 - val_loss: 0.4615 - val_accuracy: 0.7974\n",
      "Epoch 146/200\n",
      "8/8 [==============================] - 0s 4ms/step - loss: 0.3452 - accuracy: 0.8506 - val_loss: 0.4447 - val_accuracy: 0.8105\n",
      "Epoch 147/200\n",
      "8/8 [==============================] - 0s 5ms/step - loss: 0.3447 - accuracy: 0.8506 - val_loss: 0.4593 - val_accuracy: 0.7908\n",
      "Epoch 148/200\n",
      "8/8 [==============================] - 0s 4ms/step - loss: 0.3430 - accuracy: 0.8528 - val_loss: 0.4581 - val_accuracy: 0.8039\n",
      "Epoch 149/200\n",
      "8/8 [==============================] - 0s 5ms/step - loss: 0.3424 - accuracy: 0.8528 - val_loss: 0.4625 - val_accuracy: 0.7843\n",
      "Epoch 150/200\n",
      "8/8 [==============================] - 0s 4ms/step - loss: 0.3421 - accuracy: 0.8593 - val_loss: 0.4627 - val_accuracy: 0.7908\n",
      "Epoch 151/200\n",
      "8/8 [==============================] - 0s 7ms/step - loss: 0.3403 - accuracy: 0.8615 - val_loss: 0.4617 - val_accuracy: 0.7974\n",
      "Epoch 152/200\n",
      "8/8 [==============================] - 0s 4ms/step - loss: 0.3402 - accuracy: 0.8636 - val_loss: 0.4590 - val_accuracy: 0.7974\n",
      "Epoch 153/200\n",
      "8/8 [==============================] - 0s 7ms/step - loss: 0.3389 - accuracy: 0.8571 - val_loss: 0.4667 - val_accuracy: 0.7843\n",
      "Epoch 154/200\n",
      "8/8 [==============================] - 0s 5ms/step - loss: 0.3384 - accuracy: 0.8571 - val_loss: 0.4709 - val_accuracy: 0.7778\n",
      "Epoch 155/200\n",
      "8/8 [==============================] - 0s 7ms/step - loss: 0.3371 - accuracy: 0.8571 - val_loss: 0.4596 - val_accuracy: 0.7974\n",
      "Epoch 156/200\n",
      "8/8 [==============================] - 0s 5ms/step - loss: 0.3369 - accuracy: 0.8571 - val_loss: 0.4643 - val_accuracy: 0.8039\n",
      "Epoch 157/200\n",
      "8/8 [==============================] - 0s 4ms/step - loss: 0.3365 - accuracy: 0.8571 - val_loss: 0.4872 - val_accuracy: 0.7778\n",
      "Epoch 158/200\n",
      "8/8 [==============================] - 0s 5ms/step - loss: 0.3356 - accuracy: 0.8615 - val_loss: 0.4764 - val_accuracy: 0.7778\n",
      "Epoch 159/200\n",
      "8/8 [==============================] - 0s 7ms/step - loss: 0.3346 - accuracy: 0.8571 - val_loss: 0.4773 - val_accuracy: 0.7778\n",
      "Epoch 160/200\n",
      "8/8 [==============================] - 0s 4ms/step - loss: 0.3336 - accuracy: 0.8615 - val_loss: 0.4664 - val_accuracy: 0.7974\n",
      "Epoch 161/200\n",
      "8/8 [==============================] - 0s 5ms/step - loss: 0.3337 - accuracy: 0.8615 - val_loss: 0.4756 - val_accuracy: 0.7908\n",
      "Epoch 162/200\n",
      "8/8 [==============================] - 0s 4ms/step - loss: 0.3321 - accuracy: 0.8658 - val_loss: 0.4700 - val_accuracy: 0.7974\n",
      "Epoch 163/200\n",
      "8/8 [==============================] - 0s 3ms/step - loss: 0.3318 - accuracy: 0.8593 - val_loss: 0.4703 - val_accuracy: 0.7974\n",
      "Epoch 164/200\n",
      "8/8 [==============================] - 0s 4ms/step - loss: 0.3308 - accuracy: 0.8615 - val_loss: 0.4756 - val_accuracy: 0.7908\n",
      "Epoch 165/200\n",
      "8/8 [==============================] - 0s 4ms/step - loss: 0.3301 - accuracy: 0.8593 - val_loss: 0.4765 - val_accuracy: 0.7908\n",
      "Epoch 166/200\n",
      "8/8 [==============================] - 0s 4ms/step - loss: 0.3286 - accuracy: 0.8571 - val_loss: 0.4891 - val_accuracy: 0.7843\n",
      "Epoch 167/200\n",
      "8/8 [==============================] - 0s 7ms/step - loss: 0.3287 - accuracy: 0.8658 - val_loss: 0.4785 - val_accuracy: 0.7974\n",
      "Epoch 168/200\n",
      "8/8 [==============================] - 0s 5ms/step - loss: 0.3279 - accuracy: 0.8571 - val_loss: 0.4843 - val_accuracy: 0.7908\n",
      "Epoch 169/200\n",
      "8/8 [==============================] - 0s 4ms/step - loss: 0.3268 - accuracy: 0.8636 - val_loss: 0.4791 - val_accuracy: 0.7908\n",
      "Epoch 170/200\n",
      "8/8 [==============================] - 0s 5ms/step - loss: 0.3269 - accuracy: 0.8636 - val_loss: 0.4789 - val_accuracy: 0.7908\n",
      "Epoch 171/200\n",
      "8/8 [==============================] - 0s 4ms/step - loss: 0.3247 - accuracy: 0.8680 - val_loss: 0.4806 - val_accuracy: 0.7843\n",
      "Epoch 172/200\n",
      "8/8 [==============================] - 0s 7ms/step - loss: 0.3247 - accuracy: 0.8615 - val_loss: 0.4985 - val_accuracy: 0.7778\n",
      "Epoch 173/200\n",
      "8/8 [==============================] - 0s 4ms/step - loss: 0.3242 - accuracy: 0.8636 - val_loss: 0.4916 - val_accuracy: 0.7778\n",
      "Epoch 174/200\n",
      "8/8 [==============================] - 0s 7ms/step - loss: 0.3234 - accuracy: 0.8658 - val_loss: 0.4985 - val_accuracy: 0.7778\n",
      "Epoch 175/200\n"
     ]
    },
    {
     "name": "stdout",
     "output_type": "stream",
     "text": [
      "8/8 [==============================] - 0s 5ms/step - loss: 0.3229 - accuracy: 0.8636 - val_loss: 0.4846 - val_accuracy: 0.7908\n",
      "Epoch 176/200\n",
      "8/8 [==============================] - 0s 7ms/step - loss: 0.3209 - accuracy: 0.8658 - val_loss: 0.4887 - val_accuracy: 0.7843\n",
      "Epoch 177/200\n",
      "8/8 [==============================] - 0s 5ms/step - loss: 0.3205 - accuracy: 0.8615 - val_loss: 0.4846 - val_accuracy: 0.7843\n",
      "Epoch 178/200\n",
      "8/8 [==============================] - 0s 7ms/step - loss: 0.3196 - accuracy: 0.8636 - val_loss: 0.5047 - val_accuracy: 0.7778\n",
      "Epoch 179/200\n",
      "8/8 [==============================] - 0s 4ms/step - loss: 0.3214 - accuracy: 0.8615 - val_loss: 0.5039 - val_accuracy: 0.7778\n",
      "Epoch 180/200\n",
      "8/8 [==============================] - 0s 5ms/step - loss: 0.3191 - accuracy: 0.8571 - val_loss: 0.4962 - val_accuracy: 0.7843\n",
      "Epoch 181/200\n",
      "8/8 [==============================] - 0s 4ms/step - loss: 0.3176 - accuracy: 0.8680 - val_loss: 0.4976 - val_accuracy: 0.7778\n",
      "Epoch 182/200\n",
      "8/8 [==============================] - 0s 5ms/step - loss: 0.3177 - accuracy: 0.8701 - val_loss: 0.4861 - val_accuracy: 0.7778\n",
      "Epoch 183/200\n",
      "8/8 [==============================] - 0s 4ms/step - loss: 0.3167 - accuracy: 0.8636 - val_loss: 0.4929 - val_accuracy: 0.7778\n",
      "Epoch 184/200\n",
      "8/8 [==============================] - 0s 5ms/step - loss: 0.3178 - accuracy: 0.8571 - val_loss: 0.4935 - val_accuracy: 0.7843\n",
      "Epoch 185/200\n",
      "8/8 [==============================] - 0s 7ms/step - loss: 0.3148 - accuracy: 0.8680 - val_loss: 0.4851 - val_accuracy: 0.7974\n",
      "Epoch 186/200\n",
      "8/8 [==============================] - 0s 4ms/step - loss: 0.3133 - accuracy: 0.8658 - val_loss: 0.4992 - val_accuracy: 0.7843\n",
      "Epoch 187/200\n",
      "8/8 [==============================] - 0s 5ms/step - loss: 0.3137 - accuracy: 0.8701 - val_loss: 0.4905 - val_accuracy: 0.7778\n",
      "Epoch 188/200\n",
      "8/8 [==============================] - 0s 4ms/step - loss: 0.3133 - accuracy: 0.8636 - val_loss: 0.4844 - val_accuracy: 0.7974\n",
      "Epoch 189/200\n",
      "8/8 [==============================] - 0s 5ms/step - loss: 0.3131 - accuracy: 0.8658 - val_loss: 0.4942 - val_accuracy: 0.7778\n",
      "Epoch 190/200\n",
      "8/8 [==============================] - 0s 4ms/step - loss: 0.3116 - accuracy: 0.8658 - val_loss: 0.4953 - val_accuracy: 0.7908\n",
      "Epoch 191/200\n",
      "8/8 [==============================] - 0s 5ms/step - loss: 0.3115 - accuracy: 0.8701 - val_loss: 0.5023 - val_accuracy: 0.7908\n",
      "Epoch 192/200\n",
      "8/8 [==============================] - 0s 4ms/step - loss: 0.3099 - accuracy: 0.8745 - val_loss: 0.4948 - val_accuracy: 0.7778\n",
      "Epoch 193/200\n",
      "8/8 [==============================] - 0s 4ms/step - loss: 0.3108 - accuracy: 0.8636 - val_loss: 0.4971 - val_accuracy: 0.7843\n",
      "Epoch 194/200\n",
      "8/8 [==============================] - 0s 5ms/step - loss: 0.3089 - accuracy: 0.8658 - val_loss: 0.4976 - val_accuracy: 0.7908\n",
      "Epoch 195/200\n",
      "8/8 [==============================] - 0s 4ms/step - loss: 0.3083 - accuracy: 0.8723 - val_loss: 0.4992 - val_accuracy: 0.7843\n",
      "Epoch 196/200\n",
      "8/8 [==============================] - 0s 5ms/step - loss: 0.3062 - accuracy: 0.8636 - val_loss: 0.5032 - val_accuracy: 0.7843\n",
      "Epoch 197/200\n",
      "8/8 [==============================] - 0s 7ms/step - loss: 0.3049 - accuracy: 0.8745 - val_loss: 0.5127 - val_accuracy: 0.7843\n",
      "Epoch 198/200\n",
      "8/8 [==============================] - 0s 5ms/step - loss: 0.3057 - accuracy: 0.8701 - val_loss: 0.5133 - val_accuracy: 0.7712\n",
      "Epoch 199/200\n",
      "8/8 [==============================] - 0s 4ms/step - loss: 0.3047 - accuracy: 0.8680 - val_loss: 0.5196 - val_accuracy: 0.7843\n",
      "Epoch 200/200\n",
      "8/8 [==============================] - 0s 7ms/step - loss: 0.3048 - accuracy: 0.8680 - val_loss: 0.5255 - val_accuracy: 0.7778\n"
     ]
    }
   ],
   "source": [
    "#essayer pour différents hyperparamètres : nbr de couches, nbr de neurones, nbr d'epochs, batch size\n",
    "\n",
    "#importation des bibliothèques\n",
    "from tensorflow import keras\n",
    "from tensorflow.keras import layers\n",
    "\n",
    "#construction du modèle\n",
    "#nbr de neurones en puissance de 2\n",
    "def get_model():\n",
    "    model = keras.Sequential([\n",
    "        layers.Dense(32, activation=\"relu\"), #relu(x)=max(x, 0)\n",
    "        layers.Dense(32, activation=\"relu\"),\n",
    "        layers.Dense(1, activation=\"sigmoid\") #binaire => sigmoid et un seul neurone\n",
    "    ])\n",
    "    #compilation du modèle\n",
    "    model.compile(optimizer=\"rmsprop\", #détermine comment le \"learning\" progresse\n",
    "                  loss=\"binary_crossentropy\", #définie le feedback utilisé pour \"learning\", classification binaire\n",
    "                  metrics=[\"accuracy\"]) #évalue la performance du modèle\n",
    "    return model\n",
    "\n",
    "model = get_model()\n",
    "\n",
    "\n",
    "#entraînement du modèle\n",
    "history = model.fit(\n",
    "    train_data,train_label,\n",
    "    epochs=200,#nbr d'itérations\n",
    "    batch_size=64, #taille d'un lot d'entraînement, prendre un batch de petite taille\n",
    "    validation_data=(validation_data, validation_label))"
   ]
  },
  {
   "cell_type": "code",
   "execution_count": 7,
   "metadata": {},
   "outputs": [
    {
     "name": "stdout",
     "output_type": "stream",
     "text": [
      "Model: \"sequential\"\n",
      "_________________________________________________________________\n",
      " Layer (type)                Output Shape              Param #   \n",
      "=================================================================\n",
      " dense (Dense)               (None, 32)                288       \n",
      "                                                                 \n",
      " dense_1 (Dense)             (None, 32)                1056      \n",
      "                                                                 \n",
      " dense_2 (Dense)             (None, 1)                 33        \n",
      "                                                                 \n",
      "=================================================================\n",
      "Total params: 1377 (5.38 KB)\n",
      "Trainable params: 1377 (5.38 KB)\n",
      "Non-trainable params: 0 (0.00 Byte)\n",
      "_________________________________________________________________\n"
     ]
    }
   ],
   "source": [
    "model.summary()"
   ]
  },
  {
   "cell_type": "markdown",
   "metadata": {},
   "source": [
    "# Evolution de la fonction de perte"
   ]
  },
  {
   "cell_type": "code",
   "execution_count": 8,
   "metadata": {},
   "outputs": [
    {
     "data": {
      "image/png": "[encoded data removed]",
      "text/plain": [
       "<Figure size 432x288 with 1 Axes>"
      ]
     },
     "metadata": {
      "needs_background": "light"
     },
     "output_type": "display_data"
    }
   ],
   "source": [
    "import matplotlib.pyplot as plt\n",
    "\n",
    "history_dict = history.history\n",
    "loss_values = history_dict[\"loss\"]\n",
    "val_loss_values = history_dict[\"val_loss\"]\n",
    "epochs = range(1, len(loss_values) + 1)\n",
    "plt.plot(epochs, loss_values, \"r.\", label=\"Training loss\")\n",
    "plt.plot(epochs, val_loss_values, \"b\", label=\"Validation loss\")\n",
    "plt.title(\"Training and validation loss\")\n",
    "plt.xlabel(\"Epochs\")\n",
    "plt.ylabel(\"Loss\")\n",
    "plt.legend()\n",
    "plt.show()"
   ]
  },
  {
   "cell_type": "markdown",
   "metadata": {},
   "source": [
    "# Zoom pour trouver le bon nbr d'epochs"
   ]
  },
  {
   "cell_type": "code",
   "execution_count": 9,
   "metadata": {},
   "outputs": [
    {
     "data": {
      "image/png": "[encoded data removed]",
      "text/plain": [
       "<Figure size 432x288 with 1 Axes>"
      ]
     },
     "metadata": {
      "needs_background": "light"
     },
     "output_type": "display_data"
    }
   ],
   "source": [
    "import matplotlib.pyplot as plt\n",
    "\n",
    "history_dict = history.history\n",
    "loss_values = history_dict[\"loss\"]\n",
    "val_loss_values = history_dict[\"val_loss\"]\n",
    "epochs = range(1, len(loss_values) + 1)\n",
    "plt.plot(epochs, loss_values, \"r.\", label=\"Training loss\")\n",
    "plt.plot(epochs, val_loss_values, \"b\", label=\"Validation loss\")\n",
    "plt.title(\"Training and validation loss\")\n",
    "plt.xlabel(\"Epochs\")\n",
    "plt.ylabel(\"Loss\")\n",
    "plt.ylim(0,0.7)\n",
    "plt.xlim(0,100)\n",
    "plt.legend()\n",
    "plt.show()"
   ]
  },
  {
   "cell_type": "markdown",
   "metadata": {},
   "source": [
    "# Evolution de l'accuracy"
   ]
  },
  {
   "cell_type": "code",
   "execution_count": 10,
   "metadata": {},
   "outputs": [
    {
     "data": {
      "image/png": "[encoded data removed]",
      "text/plain": [
       "<Figure size 432x288 with 1 Axes>"
      ]
     },
     "metadata": {
      "needs_background": "light"
     },
     "output_type": "display_data"
    }
   ],
   "source": [
    "plt.clf()\n",
    "\n",
    "acc = history_dict[\"accuracy\"]\n",
    "val_acc = history_dict[\"val_accuracy\"]\n",
    "\n",
    "plt.plot(epochs, acc, \"r.\", label=\"Training acc\")\n",
    "plt.plot(epochs, val_acc, \"b\", label=\"Validation acc\")\n",
    "plt.title(\"Training and validation accuracy\")\n",
    "plt.xlabel(\"Epochs\")\n",
    "plt.ylabel(\"Accuracy\")\n",
    "plt.legend()\n",
    "plt.show()\n",
    "#si accuracy saccadé => pas assez de données"
   ]
  },
  {
   "cell_type": "markdown",
   "metadata": {},
   "source": [
    "# Résultat pour les données de test"
   ]
  },
  {
   "cell_type": "code",
   "execution_count": 11,
   "metadata": {},
   "outputs": [
    {
     "name": "stdout",
     "output_type": "stream",
     "text": [
      "accuracy: 0.65\n"
     ]
    }
   ],
   "source": [
    "model = get_model()\n",
    "model.fit(train_data, train_label, \n",
    "          epochs=40, batch_size=32, verbose=0)\n",
    "\n",
    "predictions = model(test_data)\n",
    "predictions = predictions.numpy()\n",
    "predicted_labels = np.argmax(predictions, axis=1)\n",
    "matches = predicted_labels == test_label\n",
    "print(f\"accuracy: {matches.mean():.2f}\")"
   ]
  },
  {
   "cell_type": "markdown",
   "metadata": {},
   "source": [
    "# Test sur le nouveau cas"
   ]
  },
  {
   "cell_type": "code",
   "execution_count": 12,
   "metadata": {},
   "outputs": [
    {
     "data": {
      "text/plain": [
       "array([[0.47391003]], dtype=float32)"
      ]
     },
     "execution_count": 12,
     "metadata": {},
     "output_type": "execute_result"
    }
   ],
   "source": [
    "nouvelle_patiente = np.array([[1,122,70,27,0,36.8,0.34,27]])\n",
    "nouvelle_patiente -= mean\n",
    "nouvelle_patiente /= std\n",
    "prediction = model(nouvelle_patiente)\n",
    "prediction = prediction.numpy()\n",
    "prediction"
   ]
  },
  {
   "cell_type": "markdown",
   "metadata": {},
   "source": [
    "# Méthode kfold"
   ]
  },
  {
   "cell_type": "code",
   "execution_count": 13,
   "metadata": {},
   "outputs": [
    {
     "name": "stdout",
     "output_type": "stream",
     "text": [
      "Processing fold #0\n",
      "Processing fold #1\n",
      "Processing fold #2\n",
      "Processing fold #3\n"
     ]
    }
   ],
   "source": [
    "k = 4\n",
    "num_val_samples = len(train_data) // k\n",
    "num_epochs = 200\n",
    "all_loss_histories = []\n",
    "all_val_loss_histories = []\n",
    "all_acc_histories = []\n",
    "all_val_acc_histories = []\n",
    "for i in range(k):\n",
    "    print(f\"Processing fold #{i}\")\n",
    "    val_data = train_data[i * num_val_samples: (i + 1) * num_val_samples]\n",
    "    val_labels = train_label[i * num_val_samples: (i + 1) * num_val_samples]\n",
    "    partial_train_data = np.concatenate(\n",
    "        [train_data[:i * num_val_samples],\n",
    "         train_data[(i + 1) * num_val_samples:]],\n",
    "        axis=0)\n",
    "    partial_train_labels = np.concatenate(\n",
    "        [train_label[:i * num_val_samples],\n",
    "         train_label[(i + 1) * num_val_samples:]],\n",
    "        axis=0)\n",
    "    model = get_model()\n",
    "    history = model.fit(partial_train_data, partial_train_labels,\n",
    "                        validation_data=(val_data, val_labels),\n",
    "                        epochs=num_epochs, batch_size=32, verbose=0)\n",
    "    all_loss_histories.append(history.history[\"loss\"])\n",
    "    all_val_loss_histories.append(history.history[\"val_loss\"])\n",
    "    all_acc_histories.append(history.history[\"accuracy\"])\n",
    "    all_val_acc_histories.append(history.history[\"val_accuracy\"])\n",
    "    \n",
    "    \n",
    "    average_loss = [\n",
    "    np.mean([x[i] for x in all_loss_histories]) for i in range(num_epochs)]\n",
    "average_val_loss = [\n",
    "    np.mean([x[i] for x in all_val_loss_histories]) for i in range(num_epochs)]\n",
    "average_acc = [\n",
    "    np.mean([x[i] for x in all_acc_histories]) for i in range(num_epochs)]\n",
    "average_val_acc = [\n",
    "    np.mean([x[i] for x in all_val_acc_histories]) for i in range(num_epochs)]"
   ]
  },
  {
   "cell_type": "markdown",
   "metadata": {},
   "source": [
    "# fonction de perte kfold"
   ]
  },
  {
   "cell_type": "code",
   "execution_count": 14,
   "metadata": {},
   "outputs": [
    {
     "data": {
      "image/png": "[encoded data removed]",
      "text/plain": [
       "<Figure size 432x288 with 1 Axes>"
      ]
     },
     "metadata": {
      "needs_background": "light"
     },
     "output_type": "display_data"
    }
   ],
   "source": [
    "import matplotlib.pyplot as plt\n",
    "epochs = range(1, len(average_loss) + 1)\n",
    "plt.plot(epochs, average_loss, \"r.\", label=\"Training loss\")\n",
    "plt.plot(epochs, average_val_loss, \"b\", label=\"Validation loss\")\n",
    "plt.title(\"Training and validation loss\")\n",
    "plt.xlabel(\"Epochs\")\n",
    "plt.ylabel(\"Loss\")\n",
    "plt.legend()\n",
    "plt.show()"
   ]
  },
  {
   "cell_type": "markdown",
   "metadata": {},
   "source": [
    "# Accuracy kfold"
   ]
  },
  {
   "cell_type": "code",
   "execution_count": 15,
   "metadata": {},
   "outputs": [
    {
     "data": {
      "image/png": "[encoded data removed]",
      "text/plain": [
       "<Figure size 432x288 with 1 Axes>"
      ]
     },
     "metadata": {
      "needs_background": "light"
     },
     "output_type": "display_data"
    }
   ],
   "source": [
    "plt.clf()\n",
    "plt.plot(epochs, average_acc, \"r.\", label=\"Training acc\")\n",
    "plt.plot(epochs, average_val_acc, \"b\", label=\"Validation acc\")\n",
    "plt.title(\"Training and validation accuracy\")\n",
    "plt.xlabel(\"Epochs\")\n",
    "plt.ylabel(\"Accuracy\")\n",
    "plt.legend()\n",
    "plt.show()"
   ]
  },
  {
   "cell_type": "markdown",
   "metadata": {},
   "source": [
    "# Approche multiclass"
   ]
  },
  {
   "cell_type": "code",
   "execution_count": null,
   "metadata": {},
   "outputs": [],
   "source": []
  },
  {
   "cell_type": "code",
   "execution_count": null,
   "metadata": {},
   "outputs": [],
   "source": []
  },
  {
   "cell_type": "code",
   "execution_count": null,
   "metadata": {},
   "outputs": [],
   "source": []
  }
 ],
 "metadata": {
  "kernelspec": {
   "display_name": "Python 3",
   "language": "python",
   "name": "python3"
  },
  "language_info": {
   "codemirror_mode": {
    "name": "ipython",
    "version": 3
   },
   "file_extension": ".py",
   "mimetype": "text/x-python",
   "name": "python",
   "nbconvert_exporter": "python",
   "pygments_lexer": "ipython3",
   "version": "3.8.5"
  }
 },
 "nbformat": 4,
 "nbformat_minor": 5
}
