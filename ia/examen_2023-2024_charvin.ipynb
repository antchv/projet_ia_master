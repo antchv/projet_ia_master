{
 "cells": [
  {
   "cell_type": "markdown",
   "metadata": {},
   "source": [
    "## Chargement des données de santé"
   ]
  },
  {
   "cell_type": "code",
   "execution_count": 1,
   "metadata": {
    "scrolled": true
   },
   "outputs": [
    {
     "name": "stdout",
     "output_type": "stream",
     "text": [
      "On a 918 lignes et 12 colonnes\n"
     ]
    }
   ],
   "source": [
    "import numpy as np \n",
    "\n",
    "donnees_sante = np.genfromtxt(\"donnees_risque_maladie.csv\", delimiter=\",\")\n",
    "nLig, nCol = donnees_sante.shape\n",
    "print(f\"On a {nLig} lignes et {nCol} colonnes\")"
   ]
  },
  {
   "cell_type": "markdown",
   "metadata": {},
   "source": [
    "# Exercices"
   ]
  },
  {
   "cell_type": "markdown",
   "metadata": {},
   "source": [
    "Voir le sujet donné sur papier"
   ]
  },
  {
   "cell_type": "markdown",
   "metadata": {},
   "source": [
    "# Question 1\n",
    "- Nous sommes face à un problème de classification binaire"
   ]
  },
  {
   "cell_type": "markdown",
   "metadata": {},
   "source": [
    "# Question 2\n"
   ]
  },
  {
   "cell_type": "code",
   "execution_count": 2,
   "metadata": {},
   "outputs": [
    {
     "name": "stdout",
     "output_type": "stream",
     "text": [
      "On a 550 lignes et 12 colonnes pour le training\n",
      "On a 184 lignes et 12 colonnes pour la validation du training\n",
      "On a 184 lignes et 12 colonnes pour le test\n",
      "soit bien un total de 918 lignes et 12 colonnes\n"
     ]
    }
   ],
   "source": [
    "# On sépare en 2 groupes : entrainement ( training + validation) et test\n",
    "\n",
    "donnees_sante_train = donnees_sante[:550,:]\n",
    "donnees_sante_validation = donnees_sante[550:734:,:]\n",
    "donnees_sante_test = donnees_sante[734:,:]\n",
    "\n",
    "print(f\"On a {donnees_sante_train.shape[0]} lignes et {donnees_sante_train.shape[1]} colonnes pour le training\")\n",
    "print(f\"On a {donnees_sante_validation.shape[0]} lignes et {donnees_sante_validation.shape[1]} colonnes pour la validation du training\")\n",
    "print(f\"On a {donnees_sante_test.shape[0]} lignes et {donnees_sante_test.shape[1]} colonnes pour le test\")\n",
    "\n",
    "print(f\"soit bien un total de {donnees_sante_train.shape[0] + donnees_sante_validation.shape[0] + donnees_sante_test.shape[0]} lignes et {donnees_sante_train.shape[1]} colonnes\")"
   ]
  },
  {
   "cell_type": "markdown",
   "metadata": {},
   "source": [
    "# Question 3/4\n"
   ]
  },
  {
   "cell_type": "code",
   "execution_count": 3,
   "metadata": {},
   "outputs": [],
   "source": [
    "train_data = donnees_sante_train[:,:-1]\n",
    "train_labels = donnees_sante_train[:,-1]\n",
    "\n",
    "validation_data = donnees_sante_validation[:,:-1]\n",
    "validation_labels = donnees_sante_validation[:,-1]\n",
    "\n",
    "test_data = donnees_sante_test[:,:-1]\n",
    "test_labels = donnees_sante_test[:,-1]\n"
   ]
  },
  {
   "cell_type": "markdown",
   "metadata": {},
   "source": [
    "## Normalisation des données"
   ]
  },
  {
   "cell_type": "code",
   "execution_count": 4,
   "metadata": {},
   "outputs": [],
   "source": [
    "mean = train_data.mean(axis=0)\n",
    "train_data -= mean\n",
    "std = train_data.std(axis=0)\n",
    "train_data /= std\n",
    "\n",
    "validation_data -= mean\n",
    "validation_data /= std\n",
    "\n",
    "test_data -= mean\n",
    "test_data /= std"
   ]
  },
  {
   "cell_type": "markdown",
   "metadata": {},
   "source": [
    "# Construction du réseau de neurones"
   ]
  },
  {
   "cell_type": "code",
   "execution_count": 5,
   "metadata": {},
   "outputs": [],
   "source": [
    "from tensorflow import keras\n",
    "from tensorflow.keras import layers\n",
    "\n",
    "def build_model():\n",
    "    model = keras.Sequential([\n",
    "    layers.Dense(8, activation=\"relu\"),\n",
    "    layers.Dense(4, activation=\"relu\"),\n",
    "    layers.Dense(1, activation=\"sigmoid\")\n",
    "    ])\n",
    "    model.compile(optimizer='rmsprop', \n",
    "                  loss='binary_crossentropy', \n",
    "                  metrics=['accuracy'])\n",
    "    return model"
   ]
  },
  {
   "cell_type": "code",
   "execution_count": 6,
   "metadata": {},
   "outputs": [],
   "source": [
    "model = build_model()"
   ]
  },
  {
   "cell_type": "markdown",
   "metadata": {},
   "source": [
    "# Sans K-FOLD ( training)"
   ]
  },
  {
   "cell_type": "code",
   "execution_count": 7,
   "metadata": {},
   "outputs": [
    {
     "name": "stdout",
     "output_type": "stream",
     "text": [
      "Epoch 1/200\n",
      "9/9 [==============================] - 1s 27ms/step - loss: 0.6525 - accuracy: 0.6200 - val_loss: 0.6401 - val_accuracy: 0.6141\n",
      "Epoch 2/200\n",
      "9/9 [==============================] - 0s 7ms/step - loss: 0.6140 - accuracy: 0.6618 - val_loss: 0.6232 - val_accuracy: 0.6250\n",
      "Epoch 3/200\n",
      "9/9 [==============================] - 0s 8ms/step - loss: 0.5858 - accuracy: 0.6891 - val_loss: 0.6095 - val_accuracy: 0.6576\n",
      "Epoch 4/200\n",
      "9/9 [==============================] - 0s 6ms/step - loss: 0.5618 - accuracy: 0.7164 - val_loss: 0.5970 - val_accuracy: 0.6630\n",
      "Epoch 5/200\n",
      "9/9 [==============================] - 0s 7ms/step - loss: 0.5402 - accuracy: 0.7400 - val_loss: 0.5856 - val_accuracy: 0.6957\n",
      "Epoch 6/200\n",
      "9/9 [==============================] - 0s 5ms/step - loss: 0.5203 - accuracy: 0.7636 - val_loss: 0.5756 - val_accuracy: 0.7011\n",
      "Epoch 7/200\n",
      "9/9 [==============================] - 0s 4ms/step - loss: 0.5024 - accuracy: 0.7782 - val_loss: 0.5670 - val_accuracy: 0.7120\n",
      "Epoch 8/200\n",
      "9/9 [==============================] - 0s 5ms/step - loss: 0.4861 - accuracy: 0.7945 - val_loss: 0.5596 - val_accuracy: 0.7283\n",
      "Epoch 9/200\n",
      "9/9 [==============================] - 0s 6ms/step - loss: 0.4715 - accuracy: 0.8055 - val_loss: 0.5538 - val_accuracy: 0.7391\n",
      "Epoch 10/200\n",
      "9/9 [==============================] - 0s 6ms/step - loss: 0.4582 - accuracy: 0.8182 - val_loss: 0.5475 - val_accuracy: 0.7554\n",
      "Epoch 11/200\n",
      "9/9 [==============================] - 0s 7ms/step - loss: 0.4458 - accuracy: 0.8200 - val_loss: 0.5424 - val_accuracy: 0.7609\n",
      "Epoch 12/200\n",
      "9/9 [==============================] - 0s 8ms/step - loss: 0.4343 - accuracy: 0.8291 - val_loss: 0.5377 - val_accuracy: 0.7663\n",
      "Epoch 13/200\n",
      "9/9 [==============================] - 0s 5ms/step - loss: 0.4232 - accuracy: 0.8400 - val_loss: 0.5332 - val_accuracy: 0.7772\n",
      "Epoch 14/200\n",
      "9/9 [==============================] - 0s 6ms/step - loss: 0.4127 - accuracy: 0.8491 - val_loss: 0.5289 - val_accuracy: 0.7826\n",
      "Epoch 15/200\n",
      "9/9 [==============================] - 0s 6ms/step - loss: 0.4031 - accuracy: 0.8527 - val_loss: 0.5253 - val_accuracy: 0.7826\n",
      "Epoch 16/200\n",
      "9/9 [==============================] - 0s 6ms/step - loss: 0.3938 - accuracy: 0.8600 - val_loss: 0.5223 - val_accuracy: 0.7772\n",
      "Epoch 17/200\n",
      "9/9 [==============================] - 0s 6ms/step - loss: 0.3850 - accuracy: 0.8691 - val_loss: 0.5198 - val_accuracy: 0.7717\n",
      "Epoch 18/200\n",
      "9/9 [==============================] - 0s 6ms/step - loss: 0.3767 - accuracy: 0.8745 - val_loss: 0.5178 - val_accuracy: 0.7772\n",
      "Epoch 19/200\n",
      "9/9 [==============================] - 0s 6ms/step - loss: 0.3688 - accuracy: 0.8764 - val_loss: 0.5155 - val_accuracy: 0.7880\n",
      "Epoch 20/200\n",
      "9/9 [==============================] - 0s 7ms/step - loss: 0.3616 - accuracy: 0.8764 - val_loss: 0.5144 - val_accuracy: 0.7880\n",
      "Epoch 21/200\n",
      "9/9 [==============================] - 0s 8ms/step - loss: 0.3549 - accuracy: 0.8764 - val_loss: 0.5135 - val_accuracy: 0.7880\n",
      "Epoch 22/200\n",
      "9/9 [==============================] - 0s 7ms/step - loss: 0.3488 - accuracy: 0.8782 - val_loss: 0.5125 - val_accuracy: 0.7880\n",
      "Epoch 23/200\n",
      "9/9 [==============================] - 0s 8ms/step - loss: 0.3428 - accuracy: 0.8764 - val_loss: 0.5122 - val_accuracy: 0.7826\n",
      "Epoch 24/200\n",
      "9/9 [==============================] - 0s 6ms/step - loss: 0.3372 - accuracy: 0.8764 - val_loss: 0.5122 - val_accuracy: 0.7826\n",
      "Epoch 25/200\n",
      "9/9 [==============================] - 0s 7ms/step - loss: 0.3321 - accuracy: 0.8836 - val_loss: 0.5120 - val_accuracy: 0.7826\n",
      "Epoch 26/200\n",
      "9/9 [==============================] - 0s 6ms/step - loss: 0.3272 - accuracy: 0.8873 - val_loss: 0.5125 - val_accuracy: 0.7826\n",
      "Epoch 27/200\n",
      "9/9 [==============================] - 0s 7ms/step - loss: 0.3227 - accuracy: 0.8873 - val_loss: 0.5131 - val_accuracy: 0.7826\n",
      "Epoch 28/200\n",
      "9/9 [==============================] - 0s 6ms/step - loss: 0.3191 - accuracy: 0.8891 - val_loss: 0.5140 - val_accuracy: 0.7826\n",
      "Epoch 29/200\n",
      "9/9 [==============================] - 0s 7ms/step - loss: 0.3154 - accuracy: 0.8891 - val_loss: 0.5140 - val_accuracy: 0.7826\n",
      "Epoch 30/200\n",
      "9/9 [==============================] - 0s 9ms/step - loss: 0.3116 - accuracy: 0.8909 - val_loss: 0.5143 - val_accuracy: 0.7826\n",
      "Epoch 31/200\n",
      "9/9 [==============================] - 0s 7ms/step - loss: 0.3086 - accuracy: 0.8927 - val_loss: 0.5153 - val_accuracy: 0.7880\n",
      "Epoch 32/200\n",
      "9/9 [==============================] - 0s 6ms/step - loss: 0.3054 - accuracy: 0.8909 - val_loss: 0.5163 - val_accuracy: 0.7880\n",
      "Epoch 33/200\n",
      "9/9 [==============================] - 0s 8ms/step - loss: 0.3021 - accuracy: 0.8927 - val_loss: 0.5164 - val_accuracy: 0.7935\n",
      "Epoch 34/200\n",
      "9/9 [==============================] - 0s 6ms/step - loss: 0.2996 - accuracy: 0.8945 - val_loss: 0.5173 - val_accuracy: 0.7935\n",
      "Epoch 35/200\n",
      "9/9 [==============================] - 0s 7ms/step - loss: 0.2968 - accuracy: 0.8964 - val_loss: 0.5182 - val_accuracy: 0.7935\n",
      "Epoch 36/200\n",
      "9/9 [==============================] - 0s 6ms/step - loss: 0.2945 - accuracy: 0.8964 - val_loss: 0.5190 - val_accuracy: 0.7935\n",
      "Epoch 37/200\n",
      "9/9 [==============================] - 0s 7ms/step - loss: 0.2921 - accuracy: 0.8964 - val_loss: 0.5193 - val_accuracy: 0.7935\n",
      "Epoch 38/200\n",
      "9/9 [==============================] - 0s 6ms/step - loss: 0.2898 - accuracy: 0.8964 - val_loss: 0.5198 - val_accuracy: 0.7935\n",
      "Epoch 39/200\n",
      "9/9 [==============================] - 0s 4ms/step - loss: 0.2879 - accuracy: 0.8982 - val_loss: 0.5204 - val_accuracy: 0.7935\n",
      "Epoch 40/200\n",
      "9/9 [==============================] - 0s 5ms/step - loss: 0.2856 - accuracy: 0.8982 - val_loss: 0.5202 - val_accuracy: 0.7935\n",
      "Epoch 41/200\n",
      "9/9 [==============================] - 0s 6ms/step - loss: 0.2833 - accuracy: 0.8982 - val_loss: 0.5215 - val_accuracy: 0.7935\n",
      "Epoch 42/200\n",
      "9/9 [==============================] - 0s 5ms/step - loss: 0.2815 - accuracy: 0.8982 - val_loss: 0.5225 - val_accuracy: 0.7935\n",
      "Epoch 43/200\n",
      "9/9 [==============================] - 0s 6ms/step - loss: 0.2792 - accuracy: 0.9018 - val_loss: 0.5235 - val_accuracy: 0.7935\n",
      "Epoch 44/200\n",
      "9/9 [==============================] - 0s 5ms/step - loss: 0.2772 - accuracy: 0.9036 - val_loss: 0.5241 - val_accuracy: 0.7935\n",
      "Epoch 45/200\n",
      "9/9 [==============================] - 0s 6ms/step - loss: 0.2751 - accuracy: 0.9018 - val_loss: 0.5252 - val_accuracy: 0.7935\n",
      "Epoch 46/200\n",
      "9/9 [==============================] - 0s 7ms/step - loss: 0.2731 - accuracy: 0.9036 - val_loss: 0.5258 - val_accuracy: 0.7935\n",
      "Epoch 47/200\n",
      "9/9 [==============================] - 0s 6ms/step - loss: 0.2712 - accuracy: 0.9036 - val_loss: 0.5272 - val_accuracy: 0.7935\n",
      "Epoch 48/200\n",
      "9/9 [==============================] - 0s 5ms/step - loss: 0.2691 - accuracy: 0.9055 - val_loss: 0.5286 - val_accuracy: 0.7935\n",
      "Epoch 49/200\n",
      "9/9 [==============================] - 0s 4ms/step - loss: 0.2672 - accuracy: 0.9055 - val_loss: 0.5298 - val_accuracy: 0.7935\n",
      "Epoch 50/200\n",
      "9/9 [==============================] - 0s 6ms/step - loss: 0.2650 - accuracy: 0.9073 - val_loss: 0.5303 - val_accuracy: 0.7935\n",
      "Epoch 51/200\n",
      "9/9 [==============================] - 0s 6ms/step - loss: 0.2632 - accuracy: 0.9055 - val_loss: 0.5313 - val_accuracy: 0.7935\n",
      "Epoch 52/200\n",
      "9/9 [==============================] - 0s 6ms/step - loss: 0.2611 - accuracy: 0.9091 - val_loss: 0.5327 - val_accuracy: 0.7935\n",
      "Epoch 53/200\n",
      "9/9 [==============================] - 0s 6ms/step - loss: 0.2591 - accuracy: 0.9073 - val_loss: 0.5329 - val_accuracy: 0.7935\n",
      "Epoch 54/200\n",
      "9/9 [==============================] - 0s 6ms/step - loss: 0.2573 - accuracy: 0.9109 - val_loss: 0.5333 - val_accuracy: 0.7880\n",
      "Epoch 55/200\n",
      "9/9 [==============================] - 0s 4ms/step - loss: 0.2552 - accuracy: 0.9109 - val_loss: 0.5344 - val_accuracy: 0.7880\n",
      "Epoch 56/200\n",
      "9/9 [==============================] - 0s 6ms/step - loss: 0.2532 - accuracy: 0.9109 - val_loss: 0.5349 - val_accuracy: 0.7826\n",
      "Epoch 57/200\n",
      "9/9 [==============================] - 0s 6ms/step - loss: 0.2514 - accuracy: 0.9109 - val_loss: 0.5364 - val_accuracy: 0.7826\n",
      "Epoch 58/200\n",
      "9/9 [==============================] - 0s 6ms/step - loss: 0.2495 - accuracy: 0.9127 - val_loss: 0.5372 - val_accuracy: 0.7826\n",
      "Epoch 59/200\n"
     ]
    },
    {
     "name": "stdout",
     "output_type": "stream",
     "text": [
      "9/9 [==============================] - 0s 5ms/step - loss: 0.2476 - accuracy: 0.9127 - val_loss: 0.5387 - val_accuracy: 0.7826\n",
      "Epoch 60/200\n",
      "9/9 [==============================] - 0s 4ms/step - loss: 0.2458 - accuracy: 0.9145 - val_loss: 0.5395 - val_accuracy: 0.7826\n",
      "Epoch 61/200\n",
      "9/9 [==============================] - 0s 4ms/step - loss: 0.2438 - accuracy: 0.9127 - val_loss: 0.5407 - val_accuracy: 0.7826\n",
      "Epoch 62/200\n",
      "9/9 [==============================] - 0s 6ms/step - loss: 0.2419 - accuracy: 0.9145 - val_loss: 0.5413 - val_accuracy: 0.7826\n",
      "Epoch 63/200\n",
      "9/9 [==============================] - 0s 5ms/step - loss: 0.2401 - accuracy: 0.9145 - val_loss: 0.5426 - val_accuracy: 0.7772\n",
      "Epoch 64/200\n",
      "9/9 [==============================] - 0s 4ms/step - loss: 0.2384 - accuracy: 0.9145 - val_loss: 0.5439 - val_accuracy: 0.7772\n",
      "Epoch 65/200\n",
      "9/9 [==============================] - 0s 5ms/step - loss: 0.2360 - accuracy: 0.9145 - val_loss: 0.5457 - val_accuracy: 0.7772\n",
      "Epoch 66/200\n",
      "9/9 [==============================] - 0s 6ms/step - loss: 0.2345 - accuracy: 0.9145 - val_loss: 0.5461 - val_accuracy: 0.7772\n",
      "Epoch 67/200\n",
      "9/9 [==============================] - 0s 6ms/step - loss: 0.2328 - accuracy: 0.9145 - val_loss: 0.5479 - val_accuracy: 0.7772\n",
      "Epoch 68/200\n",
      "9/9 [==============================] - 0s 4ms/step - loss: 0.2310 - accuracy: 0.9145 - val_loss: 0.5486 - val_accuracy: 0.7772\n",
      "Epoch 69/200\n",
      "9/9 [==============================] - 0s 5ms/step - loss: 0.2295 - accuracy: 0.9145 - val_loss: 0.5501 - val_accuracy: 0.7772\n",
      "Epoch 70/200\n",
      "9/9 [==============================] - 0s 6ms/step - loss: 0.2283 - accuracy: 0.9145 - val_loss: 0.5515 - val_accuracy: 0.7826\n",
      "Epoch 71/200\n",
      "9/9 [==============================] - 0s 6ms/step - loss: 0.2266 - accuracy: 0.9145 - val_loss: 0.5529 - val_accuracy: 0.7826\n",
      "Epoch 72/200\n",
      "9/9 [==============================] - 0s 5ms/step - loss: 0.2255 - accuracy: 0.9145 - val_loss: 0.5543 - val_accuracy: 0.7826\n",
      "Epoch 73/200\n",
      "9/9 [==============================] - 0s 4ms/step - loss: 0.2241 - accuracy: 0.9145 - val_loss: 0.5553 - val_accuracy: 0.7826\n",
      "Epoch 74/200\n",
      "9/9 [==============================] - 0s 6ms/step - loss: 0.2227 - accuracy: 0.9145 - val_loss: 0.5569 - val_accuracy: 0.7880\n",
      "Epoch 75/200\n",
      "9/9 [==============================] - 0s 6ms/step - loss: 0.2211 - accuracy: 0.9145 - val_loss: 0.5585 - val_accuracy: 0.7880\n",
      "Epoch 76/200\n",
      "9/9 [==============================] - 0s 5ms/step - loss: 0.2198 - accuracy: 0.9182 - val_loss: 0.5601 - val_accuracy: 0.7880\n",
      "Epoch 77/200\n",
      "9/9 [==============================] - 0s 4ms/step - loss: 0.2186 - accuracy: 0.9182 - val_loss: 0.5619 - val_accuracy: 0.7880\n",
      "Epoch 78/200\n",
      "9/9 [==============================] - 0s 5ms/step - loss: 0.2174 - accuracy: 0.9182 - val_loss: 0.5636 - val_accuracy: 0.7880\n",
      "Epoch 79/200\n",
      "9/9 [==============================] - 0s 6ms/step - loss: 0.2163 - accuracy: 0.9236 - val_loss: 0.5648 - val_accuracy: 0.7935\n",
      "Epoch 80/200\n",
      "9/9 [==============================] - 0s 6ms/step - loss: 0.2150 - accuracy: 0.9236 - val_loss: 0.5651 - val_accuracy: 0.7935\n",
      "Epoch 81/200\n",
      "9/9 [==============================] - 0s 4ms/step - loss: 0.2140 - accuracy: 0.9255 - val_loss: 0.5662 - val_accuracy: 0.7935\n",
      "Epoch 82/200\n",
      "9/9 [==============================] - 0s 4ms/step - loss: 0.2128 - accuracy: 0.9273 - val_loss: 0.5680 - val_accuracy: 0.7935\n",
      "Epoch 83/200\n",
      "9/9 [==============================] - 0s 5ms/step - loss: 0.2116 - accuracy: 0.9309 - val_loss: 0.5697 - val_accuracy: 0.7935\n",
      "Epoch 84/200\n",
      "9/9 [==============================] - 0s 6ms/step - loss: 0.2109 - accuracy: 0.9291 - val_loss: 0.5713 - val_accuracy: 0.7935\n",
      "Epoch 85/200\n",
      "9/9 [==============================] - 0s 5ms/step - loss: 0.2094 - accuracy: 0.9309 - val_loss: 0.5727 - val_accuracy: 0.7989\n",
      "Epoch 86/200\n",
      "9/9 [==============================] - 0s 6ms/step - loss: 0.2083 - accuracy: 0.9327 - val_loss: 0.5736 - val_accuracy: 0.7989\n",
      "Epoch 87/200\n",
      "9/9 [==============================] - 0s 4ms/step - loss: 0.2070 - accuracy: 0.9309 - val_loss: 0.5749 - val_accuracy: 0.7989\n",
      "Epoch 88/200\n",
      "9/9 [==============================] - 0s 5ms/step - loss: 0.2060 - accuracy: 0.9364 - val_loss: 0.5762 - val_accuracy: 0.7989\n",
      "Epoch 89/200\n",
      "9/9 [==============================] - 0s 6ms/step - loss: 0.2048 - accuracy: 0.9345 - val_loss: 0.5779 - val_accuracy: 0.7935\n",
      "Epoch 90/200\n",
      "9/9 [==============================] - 0s 6ms/step - loss: 0.2037 - accuracy: 0.9364 - val_loss: 0.5799 - val_accuracy: 0.7880\n",
      "Epoch 91/200\n",
      "9/9 [==============================] - 0s 5ms/step - loss: 0.2027 - accuracy: 0.9364 - val_loss: 0.5815 - val_accuracy: 0.7935\n",
      "Epoch 92/200\n",
      "9/9 [==============================] - 0s 4ms/step - loss: 0.2016 - accuracy: 0.9382 - val_loss: 0.5823 - val_accuracy: 0.7935\n",
      "Epoch 93/200\n",
      "9/9 [==============================] - 0s 7ms/step - loss: 0.2003 - accuracy: 0.9364 - val_loss: 0.5838 - val_accuracy: 0.7989\n",
      "Epoch 94/200\n",
      "9/9 [==============================] - 0s 4ms/step - loss: 0.1995 - accuracy: 0.9382 - val_loss: 0.5854 - val_accuracy: 0.7989\n",
      "Epoch 95/200\n",
      "9/9 [==============================] - 0s 6ms/step - loss: 0.1983 - accuracy: 0.9382 - val_loss: 0.5872 - val_accuracy: 0.7989\n",
      "Epoch 96/200\n",
      "9/9 [==============================] - 0s 4ms/step - loss: 0.1972 - accuracy: 0.9382 - val_loss: 0.5887 - val_accuracy: 0.7935\n",
      "Epoch 97/200\n",
      "9/9 [==============================] - 0s 4ms/step - loss: 0.1963 - accuracy: 0.9382 - val_loss: 0.5904 - val_accuracy: 0.7935\n",
      "Epoch 98/200\n",
      "9/9 [==============================] - 0s 5ms/step - loss: 0.1953 - accuracy: 0.9382 - val_loss: 0.5917 - val_accuracy: 0.7935\n",
      "Epoch 99/200\n",
      "9/9 [==============================] - 0s 6ms/step - loss: 0.1947 - accuracy: 0.9382 - val_loss: 0.5936 - val_accuracy: 0.7935\n",
      "Epoch 100/200\n",
      "9/9 [==============================] - 0s 5ms/step - loss: 0.1935 - accuracy: 0.9382 - val_loss: 0.5947 - val_accuracy: 0.7935\n",
      "Epoch 101/200\n",
      "9/9 [==============================] - 0s 4ms/step - loss: 0.1921 - accuracy: 0.9382 - val_loss: 0.5962 - val_accuracy: 0.7880\n",
      "Epoch 102/200\n",
      "9/9 [==============================] - 0s 5ms/step - loss: 0.1915 - accuracy: 0.9382 - val_loss: 0.5982 - val_accuracy: 0.7717\n",
      "Epoch 103/200\n",
      "9/9 [==============================] - 0s 6ms/step - loss: 0.1907 - accuracy: 0.9400 - val_loss: 0.5995 - val_accuracy: 0.7717\n",
      "Epoch 104/200\n",
      "9/9 [==============================] - 0s 5ms/step - loss: 0.1895 - accuracy: 0.9400 - val_loss: 0.6006 - val_accuracy: 0.7717\n",
      "Epoch 105/200\n",
      "9/9 [==============================] - 0s 4ms/step - loss: 0.1884 - accuracy: 0.9400 - val_loss: 0.6016 - val_accuracy: 0.7717\n",
      "Epoch 106/200\n",
      "9/9 [==============================] - 0s 5ms/step - loss: 0.1878 - accuracy: 0.9418 - val_loss: 0.6035 - val_accuracy: 0.7717\n",
      "Epoch 107/200\n",
      "9/9 [==============================] - 0s 6ms/step - loss: 0.1866 - accuracy: 0.9400 - val_loss: 0.6051 - val_accuracy: 0.7717\n",
      "Epoch 108/200\n",
      "9/9 [==============================] - 0s 6ms/step - loss: 0.1857 - accuracy: 0.9400 - val_loss: 0.6073 - val_accuracy: 0.7717\n",
      "Epoch 109/200\n",
      "9/9 [==============================] - 0s 4ms/step - loss: 0.1849 - accuracy: 0.9418 - val_loss: 0.6089 - val_accuracy: 0.7772\n",
      "Epoch 110/200\n",
      "9/9 [==============================] - 0s 4ms/step - loss: 0.1839 - accuracy: 0.9418 - val_loss: 0.6099 - val_accuracy: 0.7717\n",
      "Epoch 111/200\n",
      "9/9 [==============================] - 0s 5ms/step - loss: 0.1829 - accuracy: 0.9418 - val_loss: 0.6116 - val_accuracy: 0.7663\n",
      "Epoch 112/200\n",
      "9/9 [==============================] - 0s 6ms/step - loss: 0.1820 - accuracy: 0.9418 - val_loss: 0.6138 - val_accuracy: 0.7663\n",
      "Epoch 113/200\n",
      "9/9 [==============================] - 0s 4ms/step - loss: 0.1811 - accuracy: 0.9418 - val_loss: 0.6148 - val_accuracy: 0.7609\n",
      "Epoch 114/200\n",
      "9/9 [==============================] - 0s 4ms/step - loss: 0.1803 - accuracy: 0.9418 - val_loss: 0.6163 - val_accuracy: 0.7609\n",
      "Epoch 115/200\n",
      "9/9 [==============================] - 0s 5ms/step - loss: 0.1795 - accuracy: 0.9400 - val_loss: 0.6174 - val_accuracy: 0.7609\n",
      "Epoch 116/200\n",
      "9/9 [==============================] - 0s 6ms/step - loss: 0.1788 - accuracy: 0.9418 - val_loss: 0.6189 - val_accuracy: 0.7609\n",
      "Epoch 117/200\n"
     ]
    },
    {
     "name": "stdout",
     "output_type": "stream",
     "text": [
      "9/9 [==============================] - 0s 5ms/step - loss: 0.1780 - accuracy: 0.9382 - val_loss: 0.6197 - val_accuracy: 0.7609\n",
      "Epoch 118/200\n",
      "9/9 [==============================] - 0s 4ms/step - loss: 0.1770 - accuracy: 0.9436 - val_loss: 0.6227 - val_accuracy: 0.7609\n",
      "Epoch 119/200\n",
      "9/9 [==============================] - 0s 4ms/step - loss: 0.1763 - accuracy: 0.9418 - val_loss: 0.6245 - val_accuracy: 0.7609\n",
      "Epoch 120/200\n",
      "9/9 [==============================] - 0s 6ms/step - loss: 0.1755 - accuracy: 0.9418 - val_loss: 0.6260 - val_accuracy: 0.7609\n",
      "Epoch 121/200\n",
      "9/9 [==============================] - 0s 6ms/step - loss: 0.1746 - accuracy: 0.9436 - val_loss: 0.6273 - val_accuracy: 0.7609\n",
      "Epoch 122/200\n",
      "9/9 [==============================] - 0s 4ms/step - loss: 0.1741 - accuracy: 0.9418 - val_loss: 0.6293 - val_accuracy: 0.7609\n",
      "Epoch 123/200\n",
      "9/9 [==============================] - 0s 4ms/step - loss: 0.1733 - accuracy: 0.9455 - val_loss: 0.6312 - val_accuracy: 0.7609\n",
      "Epoch 124/200\n",
      "9/9 [==============================] - 0s 5ms/step - loss: 0.1729 - accuracy: 0.9400 - val_loss: 0.6331 - val_accuracy: 0.7609\n",
      "Epoch 125/200\n",
      "9/9 [==============================] - 0s 6ms/step - loss: 0.1721 - accuracy: 0.9418 - val_loss: 0.6345 - val_accuracy: 0.7609\n",
      "Epoch 126/200\n",
      "9/9 [==============================] - 0s 5ms/step - loss: 0.1715 - accuracy: 0.9418 - val_loss: 0.6372 - val_accuracy: 0.7609\n",
      "Epoch 127/200\n",
      "9/9 [==============================] - 0s 4ms/step - loss: 0.1707 - accuracy: 0.9418 - val_loss: 0.6384 - val_accuracy: 0.7609\n",
      "Epoch 128/200\n",
      "9/9 [==============================] - 0s 7ms/step - loss: 0.1701 - accuracy: 0.9436 - val_loss: 0.6411 - val_accuracy: 0.7609\n",
      "Epoch 129/200\n",
      "9/9 [==============================] - 0s 4ms/step - loss: 0.1695 - accuracy: 0.9418 - val_loss: 0.6434 - val_accuracy: 0.7609\n",
      "Epoch 130/200\n",
      "9/9 [==============================] - 0s 5ms/step - loss: 0.1690 - accuracy: 0.9436 - val_loss: 0.6455 - val_accuracy: 0.7609\n",
      "Epoch 131/200\n",
      "9/9 [==============================] - 0s 6ms/step - loss: 0.1681 - accuracy: 0.9473 - val_loss: 0.6482 - val_accuracy: 0.7609\n",
      "Epoch 132/200\n",
      "9/9 [==============================] - 0s 6ms/step - loss: 0.1676 - accuracy: 0.9455 - val_loss: 0.6491 - val_accuracy: 0.7609\n",
      "Epoch 133/200\n",
      "9/9 [==============================] - 0s 4ms/step - loss: 0.1670 - accuracy: 0.9455 - val_loss: 0.6516 - val_accuracy: 0.7609\n",
      "Epoch 134/200\n",
      "9/9 [==============================] - 0s 4ms/step - loss: 0.1664 - accuracy: 0.9455 - val_loss: 0.6538 - val_accuracy: 0.7609\n",
      "Epoch 135/200\n",
      "9/9 [==============================] - 0s 5ms/step - loss: 0.1660 - accuracy: 0.9491 - val_loss: 0.6554 - val_accuracy: 0.7609\n",
      "Epoch 136/200\n",
      "9/9 [==============================] - 0s 6ms/step - loss: 0.1650 - accuracy: 0.9473 - val_loss: 0.6560 - val_accuracy: 0.7609\n",
      "Epoch 137/200\n",
      "9/9 [==============================] - 0s 5ms/step - loss: 0.1644 - accuracy: 0.9491 - val_loss: 0.6574 - val_accuracy: 0.7609\n",
      "Epoch 138/200\n",
      "9/9 [==============================] - 0s 6ms/step - loss: 0.1637 - accuracy: 0.9491 - val_loss: 0.6596 - val_accuracy: 0.7609\n",
      "Epoch 139/200\n",
      "9/9 [==============================] - 0s 6ms/step - loss: 0.1635 - accuracy: 0.9491 - val_loss: 0.6613 - val_accuracy: 0.7609\n",
      "Epoch 140/200\n",
      "9/9 [==============================] - 0s 6ms/step - loss: 0.1629 - accuracy: 0.9491 - val_loss: 0.6638 - val_accuracy: 0.7609\n",
      "Epoch 141/200\n",
      "9/9 [==============================] - 0s 5ms/step - loss: 0.1625 - accuracy: 0.9473 - val_loss: 0.6654 - val_accuracy: 0.7609\n",
      "Epoch 142/200\n",
      "9/9 [==============================] - 0s 4ms/step - loss: 0.1615 - accuracy: 0.9491 - val_loss: 0.6674 - val_accuracy: 0.7609\n",
      "Epoch 143/200\n",
      "9/9 [==============================] - 0s 5ms/step - loss: 0.1611 - accuracy: 0.9491 - val_loss: 0.6687 - val_accuracy: 0.7609\n",
      "Epoch 144/200\n",
      "9/9 [==============================] - 0s 6ms/step - loss: 0.1605 - accuracy: 0.9491 - val_loss: 0.6695 - val_accuracy: 0.7609\n",
      "Epoch 145/200\n",
      "9/9 [==============================] - 0s 6ms/step - loss: 0.1599 - accuracy: 0.9491 - val_loss: 0.6708 - val_accuracy: 0.7609\n",
      "Epoch 146/200\n",
      "9/9 [==============================] - 0s 5ms/step - loss: 0.1594 - accuracy: 0.9491 - val_loss: 0.6724 - val_accuracy: 0.7609\n",
      "Epoch 147/200\n",
      "9/9 [==============================] - 0s 5ms/step - loss: 0.1587 - accuracy: 0.9491 - val_loss: 0.6741 - val_accuracy: 0.7609\n",
      "Epoch 148/200\n",
      "9/9 [==============================] - 0s 6ms/step - loss: 0.1583 - accuracy: 0.9491 - val_loss: 0.6758 - val_accuracy: 0.7609\n",
      "Epoch 149/200\n",
      "9/9 [==============================] - 0s 6ms/step - loss: 0.1582 - accuracy: 0.9491 - val_loss: 0.6784 - val_accuracy: 0.7609\n",
      "Epoch 150/200\n",
      "9/9 [==============================] - 0s 5ms/step - loss: 0.1575 - accuracy: 0.9491 - val_loss: 0.6804 - val_accuracy: 0.7609\n",
      "Epoch 151/200\n",
      "9/9 [==============================] - 0s 6ms/step - loss: 0.1569 - accuracy: 0.9491 - val_loss: 0.6808 - val_accuracy: 0.7609\n",
      "Epoch 152/200\n",
      "9/9 [==============================] - 0s 7ms/step - loss: 0.1564 - accuracy: 0.9491 - val_loss: 0.6840 - val_accuracy: 0.7609\n",
      "Epoch 153/200\n",
      "9/9 [==============================] - 0s 6ms/step - loss: 0.1560 - accuracy: 0.9473 - val_loss: 0.6861 - val_accuracy: 0.7609\n",
      "Epoch 154/200\n",
      "9/9 [==============================] - 0s 5ms/step - loss: 0.1556 - accuracy: 0.9491 - val_loss: 0.6865 - val_accuracy: 0.7609\n",
      "Epoch 155/200\n",
      "9/9 [==============================] - 0s 4ms/step - loss: 0.1550 - accuracy: 0.9473 - val_loss: 0.6876 - val_accuracy: 0.7609\n",
      "Epoch 156/200\n",
      "9/9 [==============================] - 0s 7ms/step - loss: 0.1548 - accuracy: 0.9491 - val_loss: 0.6903 - val_accuracy: 0.7609\n",
      "Epoch 157/200\n",
      "9/9 [==============================] - 0s 6ms/step - loss: 0.1541 - accuracy: 0.9491 - val_loss: 0.6923 - val_accuracy: 0.7609\n",
      "Epoch 158/200\n",
      "9/9 [==============================] - 0s 6ms/step - loss: 0.1540 - accuracy: 0.9491 - val_loss: 0.6941 - val_accuracy: 0.7609\n",
      "Epoch 159/200\n",
      "9/9 [==============================] - 0s 4ms/step - loss: 0.1531 - accuracy: 0.9491 - val_loss: 0.6959 - val_accuracy: 0.7663\n",
      "Epoch 160/200\n",
      "9/9 [==============================] - 0s 4ms/step - loss: 0.1529 - accuracy: 0.9473 - val_loss: 0.6978 - val_accuracy: 0.7663\n",
      "Epoch 161/200\n",
      "9/9 [==============================] - 0s 7ms/step - loss: 0.1526 - accuracy: 0.9491 - val_loss: 0.6997 - val_accuracy: 0.7663\n",
      "Epoch 162/200\n",
      "9/9 [==============================] - 0s 6ms/step - loss: 0.1522 - accuracy: 0.9473 - val_loss: 0.7019 - val_accuracy: 0.7663\n",
      "Epoch 163/200\n",
      "9/9 [==============================] - 0s 5ms/step - loss: 0.1518 - accuracy: 0.9473 - val_loss: 0.7050 - val_accuracy: 0.7663\n",
      "Epoch 164/200\n",
      "9/9 [==============================] - 0s 6ms/step - loss: 0.1512 - accuracy: 0.9473 - val_loss: 0.7067 - val_accuracy: 0.7663\n",
      "Epoch 165/200\n",
      "9/9 [==============================] - 0s 7ms/step - loss: 0.1507 - accuracy: 0.9473 - val_loss: 0.7075 - val_accuracy: 0.7663\n",
      "Epoch 166/200\n",
      "9/9 [==============================] - 0s 6ms/step - loss: 0.1504 - accuracy: 0.9473 - val_loss: 0.7099 - val_accuracy: 0.7663\n",
      "Epoch 167/200\n",
      "9/9 [==============================] - 0s 5ms/step - loss: 0.1499 - accuracy: 0.9473 - val_loss: 0.7113 - val_accuracy: 0.7609\n",
      "Epoch 168/200\n",
      "9/9 [==============================] - 0s 7ms/step - loss: 0.1495 - accuracy: 0.9491 - val_loss: 0.7141 - val_accuracy: 0.7609\n",
      "Epoch 169/200\n",
      "9/9 [==============================] - 0s 6ms/step - loss: 0.1491 - accuracy: 0.9491 - val_loss: 0.7164 - val_accuracy: 0.7609\n",
      "Epoch 170/200\n",
      "9/9 [==============================] - 0s 6ms/step - loss: 0.1486 - accuracy: 0.9473 - val_loss: 0.7187 - val_accuracy: 0.7609\n",
      "Epoch 171/200\n",
      "9/9 [==============================] - 0s 6ms/step - loss: 0.1482 - accuracy: 0.9473 - val_loss: 0.7201 - val_accuracy: 0.7609\n",
      "Epoch 172/200\n",
      "9/9 [==============================] - 0s 4ms/step - loss: 0.1477 - accuracy: 0.9491 - val_loss: 0.7224 - val_accuracy: 0.7609\n",
      "Epoch 173/200\n",
      "9/9 [==============================] - 0s 5ms/step - loss: 0.1474 - accuracy: 0.9473 - val_loss: 0.7249 - val_accuracy: 0.7609\n",
      "Epoch 174/200\n",
      "9/9 [==============================] - 0s 6ms/step - loss: 0.1469 - accuracy: 0.9491 - val_loss: 0.7264 - val_accuracy: 0.7609\n",
      "Epoch 175/200\n"
     ]
    },
    {
     "name": "stdout",
     "output_type": "stream",
     "text": [
      "9/9 [==============================] - 0s 6ms/step - loss: 0.1466 - accuracy: 0.9491 - val_loss: 0.7286 - val_accuracy: 0.7609\n",
      "Epoch 176/200\n",
      "9/9 [==============================] - 0s 5ms/step - loss: 0.1463 - accuracy: 0.9491 - val_loss: 0.7307 - val_accuracy: 0.7609\n",
      "Epoch 177/200\n",
      "9/9 [==============================] - 0s 6ms/step - loss: 0.1460 - accuracy: 0.9491 - val_loss: 0.7312 - val_accuracy: 0.7609\n",
      "Epoch 178/200\n",
      "9/9 [==============================] - 0s 6ms/step - loss: 0.1453 - accuracy: 0.9491 - val_loss: 0.7320 - val_accuracy: 0.7609\n",
      "Epoch 179/200\n",
      "9/9 [==============================] - 0s 6ms/step - loss: 0.1451 - accuracy: 0.9527 - val_loss: 0.7329 - val_accuracy: 0.7609\n",
      "Epoch 180/200\n",
      "9/9 [==============================] - 0s 4ms/step - loss: 0.1449 - accuracy: 0.9491 - val_loss: 0.7348 - val_accuracy: 0.7609\n",
      "Epoch 181/200\n",
      "9/9 [==============================] - 0s 5ms/step - loss: 0.1442 - accuracy: 0.9509 - val_loss: 0.7350 - val_accuracy: 0.7609\n",
      "Epoch 182/200\n",
      "9/9 [==============================] - 0s 6ms/step - loss: 0.1437 - accuracy: 0.9491 - val_loss: 0.7374 - val_accuracy: 0.7609\n",
      "Epoch 183/200\n",
      "9/9 [==============================] - 0s 5ms/step - loss: 0.1436 - accuracy: 0.9527 - val_loss: 0.7382 - val_accuracy: 0.7609\n",
      "Epoch 184/200\n",
      "9/9 [==============================] - 0s 4ms/step - loss: 0.1432 - accuracy: 0.9527 - val_loss: 0.7388 - val_accuracy: 0.7609\n",
      "Epoch 185/200\n",
      "9/9 [==============================] - 0s 5ms/step - loss: 0.1427 - accuracy: 0.9527 - val_loss: 0.7408 - val_accuracy: 0.7609\n",
      "Epoch 186/200\n",
      "9/9 [==============================] - 0s 6ms/step - loss: 0.1426 - accuracy: 0.9509 - val_loss: 0.7416 - val_accuracy: 0.7609\n",
      "Epoch 187/200\n",
      "9/9 [==============================] - 0s 5ms/step - loss: 0.1420 - accuracy: 0.9509 - val_loss: 0.7424 - val_accuracy: 0.7609\n",
      "Epoch 188/200\n",
      "9/9 [==============================] - 0s 6ms/step - loss: 0.1419 - accuracy: 0.9527 - val_loss: 0.7423 - val_accuracy: 0.7609\n",
      "Epoch 189/200\n",
      "9/9 [==============================] - 0s 7ms/step - loss: 0.1413 - accuracy: 0.9527 - val_loss: 0.7425 - val_accuracy: 0.7663\n",
      "Epoch 190/200\n",
      "9/9 [==============================] - 0s 6ms/step - loss: 0.1409 - accuracy: 0.9527 - val_loss: 0.7448 - val_accuracy: 0.7663\n",
      "Epoch 191/200\n",
      "9/9 [==============================] - 0s 6ms/step - loss: 0.1406 - accuracy: 0.9527 - val_loss: 0.7455 - val_accuracy: 0.7663\n",
      "Epoch 192/200\n",
      "9/9 [==============================] - 0s 6ms/step - loss: 0.1405 - accuracy: 0.9527 - val_loss: 0.7466 - val_accuracy: 0.7663\n",
      "Epoch 193/200\n",
      "9/9 [==============================] - 0s 4ms/step - loss: 0.1402 - accuracy: 0.9509 - val_loss: 0.7478 - val_accuracy: 0.7663\n",
      "Epoch 194/200\n",
      "9/9 [==============================] - 0s 5ms/step - loss: 0.1398 - accuracy: 0.9527 - val_loss: 0.7504 - val_accuracy: 0.7663\n",
      "Epoch 195/200\n",
      "9/9 [==============================] - 0s 6ms/step - loss: 0.1394 - accuracy: 0.9527 - val_loss: 0.7519 - val_accuracy: 0.7663\n",
      "Epoch 196/200\n",
      "9/9 [==============================] - 0s 5ms/step - loss: 0.1392 - accuracy: 0.9545 - val_loss: 0.7516 - val_accuracy: 0.7663\n",
      "Epoch 197/200\n",
      "9/9 [==============================] - 0s 4ms/step - loss: 0.1387 - accuracy: 0.9527 - val_loss: 0.7544 - val_accuracy: 0.7663\n",
      "Epoch 198/200\n",
      "9/9 [==============================] - 0s 5ms/step - loss: 0.1385 - accuracy: 0.9509 - val_loss: 0.7554 - val_accuracy: 0.7663\n",
      "Epoch 199/200\n",
      "9/9 [==============================] - 0s 6ms/step - loss: 0.1382 - accuracy: 0.9545 - val_loss: 0.7553 - val_accuracy: 0.7663\n",
      "Epoch 200/200\n",
      "9/9 [==============================] - 0s 5ms/step - loss: 0.1378 - accuracy: 0.9545 - val_loss: 0.7559 - val_accuracy: 0.7609\n"
     ]
    }
   ],
   "source": [
    "history = model.fit(train_data, train_labels, \n",
    "                    epochs=200, \n",
    "                    batch_size=64, \n",
    "                    validation_data=(validation_data, validation_labels))"
   ]
  },
  {
   "cell_type": "code",
   "execution_count": 8,
   "metadata": {},
   "outputs": [
    {
     "name": "stdout",
     "output_type": "stream",
     "text": [
      "Model: \"sequential\"\n",
      "_________________________________________________________________\n",
      " Layer (type)                Output Shape              Param #   \n",
      "=================================================================\n",
      " dense (Dense)               (None, 8)                 96        \n",
      "                                                                 \n",
      " dense_1 (Dense)             (None, 4)                 36        \n",
      "                                                                 \n",
      " dense_2 (Dense)             (None, 1)                 5         \n",
      "                                                                 \n",
      "=================================================================\n",
      "Total params: 137 (548.00 Byte)\n",
      "Trainable params: 137 (548.00 Byte)\n",
      "Non-trainable params: 0 (0.00 Byte)\n",
      "_________________________________________________________________\n"
     ]
    }
   ],
   "source": [
    "model.summary()"
   ]
  },
  {
   "cell_type": "code",
   "execution_count": 9,
   "metadata": {},
   "outputs": [
    {
     "data": {
      "text/plain": [
       "dict_keys(['loss', 'accuracy', 'val_loss', 'val_accuracy'])"
      ]
     },
     "execution_count": 9,
     "metadata": {},
     "output_type": "execute_result"
    }
   ],
   "source": [
    "history_dict = history.history\n",
    "\n",
    "\n",
    "history_dict.keys()"
   ]
  },
  {
   "cell_type": "markdown",
   "metadata": {},
   "source": [
    "## Loss fn\n"
   ]
  },
  {
   "cell_type": "code",
   "execution_count": 10,
   "metadata": {},
   "outputs": [
    {
     "data": {
      "image/png": "[encoded data removed]",
      "text/plain": [
       "<Figure size 432x288 with 1 Axes>"
      ]
     },
     "metadata": {
      "needs_background": "light"
     },
     "output_type": "display_data"
    }
   ],
   "source": [
    "import matplotlib.pyplot as plt\n",
    "import numpy as np\n",
    "\n",
    "loss = history_dict['loss']\n",
    "val_loss = history_dict['val_loss']\n",
    "\n",
    "epochs = range(1, len(loss)+1)\n",
    "\n",
    "plt.plot(epochs, loss, 'bo', label=\"Training loss\")\n",
    "plt.plot(epochs, val_loss, 'b', label=\"Validation loss\")\n",
    "plt.title(\"Training and validation loss\")\n",
    "plt.xlabel(\"Epochs\")\n",
    "plt.ylabel(\"Loss\")\n",
    "plt.legend()\n",
    "plt.show()"
   ]
  },
  {
   "cell_type": "markdown",
   "metadata": {},
   "source": [
    "### Loss fn tronquée\n"
   ]
  },
  {
   "cell_type": "code",
   "execution_count": 11,
   "metadata": {},
   "outputs": [
    {
     "data": {
      "image/png": "[encoded data removed]",
      "text/plain": [
       "<Figure size 432x288 with 1 Axes>"
      ]
     },
     "metadata": {
      "needs_background": "light"
     },
     "output_type": "display_data"
    }
   ],
   "source": [
    "plt.plot(epochs[1:50], loss[1:50], 'bo', label=\"Training loss\")\n",
    "plt.plot(epochs[1:50], val_loss[1:50], 'r', label=\"Validation loss\")\n",
    "plt.title(\"Training and validation loss\")\n",
    "plt.xlabel(\"Epochs\")\n",
    "plt.ylabel(\"Loss\")\n",
    "plt.legend()\n",
    "plt.show()"
   ]
  },
  {
   "cell_type": "markdown",
   "metadata": {},
   "source": [
    "# Loss fn accuracy"
   ]
  },
  {
   "cell_type": "code",
   "execution_count": 12,
   "metadata": {},
   "outputs": [
    {
     "data": {
      "image/png": "[encoded data removed]",
      "text/plain": [
       "<Figure size 432x288 with 1 Axes>"
      ]
     },
     "metadata": {
      "needs_background": "light"
     },
     "output_type": "display_data"
    }
   ],
   "source": [
    "\n",
    "accu = history_dict['accuracy']\n",
    "val_accu = history_dict['val_accuracy']\n",
    "\n",
    "plt.plot(epochs, accu, 'bo', label=\"Training accuracy\")\n",
    "plt.plot(epochs, val_accu, 'r', label=\"Validation accuracy\")\n",
    "plt.title(\"Training and validation accuracy\")\n",
    "plt.xlabel(\"Epochs\")\n",
    "plt.ylabel(\"Accuracy\")\n",
    "plt.legend()\n",
    "plt.show()"
   ]
  },
  {
   "cell_type": "markdown",
   "metadata": {},
   "source": [
    "### Loss fn accuracy tronquée"
   ]
  },
  {
   "cell_type": "code",
   "execution_count": 13,
   "metadata": {},
   "outputs": [
    {
     "data": {
      "image/png": "[encoded data removed]",
      "text/plain": [
       "<Figure size 432x288 with 1 Axes>"
      ]
     },
     "metadata": {
      "needs_background": "light"
     },
     "output_type": "display_data"
    }
   ],
   "source": [
    "plt.plot(epochs[1:50], accu[1:50], 'bo', label=\"Training accuracy\")\n",
    "plt.plot(epochs[1:50], val_accu[1:50], 'r', label=\"Validation accuracy\")\n",
    "plt.title(\"Training and validation accuracy\")\n",
    "plt.xlabel(\"Epochs\")\n",
    "plt.ylabel(\"Accuracy\")\n",
    "plt.legend()\n",
    "plt.show()"
   ]
  },
  {
   "cell_type": "markdown",
   "metadata": {},
   "source": [
    "# Nouvel entrainement avec un meilleur nombre d'epochs"
   ]
  },
  {
   "cell_type": "code",
   "execution_count": 14,
   "metadata": {},
   "outputs": [
    {
     "name": "stdout",
     "output_type": "stream",
     "text": [
      "Epoch 1/20\n",
      "35/35 [==============================] - 1s 6ms/step - loss: 0.6273 - accuracy: 0.6855 - val_loss: 0.6099 - val_accuracy: 0.7011\n",
      "Epoch 2/20\n",
      "35/35 [==============================] - 0s 2ms/step - loss: 0.5722 - accuracy: 0.7291 - val_loss: 0.5851 - val_accuracy: 0.7011\n",
      "Epoch 3/20\n",
      "35/35 [==============================] - 0s 2ms/step - loss: 0.5271 - accuracy: 0.7891 - val_loss: 0.5642 - val_accuracy: 0.7174\n",
      "Epoch 4/20\n",
      "35/35 [==============================] - 0s 3ms/step - loss: 0.4842 - accuracy: 0.8309 - val_loss: 0.5462 - val_accuracy: 0.7337\n",
      "Epoch 5/20\n",
      "35/35 [==============================] - 0s 2ms/step - loss: 0.4442 - accuracy: 0.8455 - val_loss: 0.5316 - val_accuracy: 0.7500\n",
      "Epoch 6/20\n",
      "35/35 [==============================] - 0s 3ms/step - loss: 0.4079 - accuracy: 0.8727 - val_loss: 0.5214 - val_accuracy: 0.7663\n",
      "Epoch 7/20\n",
      "35/35 [==============================] - 0s 2ms/step - loss: 0.3772 - accuracy: 0.8782 - val_loss: 0.5151 - val_accuracy: 0.7609\n",
      "Epoch 8/20\n",
      "35/35 [==============================] - 0s 3ms/step - loss: 0.3522 - accuracy: 0.8818 - val_loss: 0.5117 - val_accuracy: 0.7500\n",
      "Epoch 9/20\n",
      "35/35 [==============================] - 0s 3ms/step - loss: 0.3313 - accuracy: 0.8891 - val_loss: 0.5106 - val_accuracy: 0.7554\n",
      "Epoch 10/20\n",
      "35/35 [==============================] - 0s 2ms/step - loss: 0.3148 - accuracy: 0.8891 - val_loss: 0.5121 - val_accuracy: 0.7609\n",
      "Epoch 11/20\n",
      "35/35 [==============================] - 0s 2ms/step - loss: 0.3013 - accuracy: 0.8909 - val_loss: 0.5140 - val_accuracy: 0.7663\n",
      "Epoch 12/20\n",
      "35/35 [==============================] - 0s 3ms/step - loss: 0.2903 - accuracy: 0.8927 - val_loss: 0.5170 - val_accuracy: 0.7717\n",
      "Epoch 13/20\n",
      "35/35 [==============================] - 0s 2ms/step - loss: 0.2812 - accuracy: 0.8927 - val_loss: 0.5187 - val_accuracy: 0.7717\n",
      "Epoch 14/20\n",
      "35/35 [==============================] - 0s 2ms/step - loss: 0.2738 - accuracy: 0.8982 - val_loss: 0.5214 - val_accuracy: 0.7663\n",
      "Epoch 15/20\n",
      "35/35 [==============================] - 0s 2ms/step - loss: 0.2673 - accuracy: 0.9000 - val_loss: 0.5242 - val_accuracy: 0.7717\n",
      "Epoch 16/20\n",
      "35/35 [==============================] - 0s 2ms/step - loss: 0.2609 - accuracy: 0.9055 - val_loss: 0.5283 - val_accuracy: 0.7772\n",
      "Epoch 17/20\n",
      "35/35 [==============================] - 0s 2ms/step - loss: 0.2552 - accuracy: 0.9073 - val_loss: 0.5323 - val_accuracy: 0.7717\n",
      "Epoch 18/20\n",
      "35/35 [==============================] - 0s 2ms/step - loss: 0.2506 - accuracy: 0.9091 - val_loss: 0.5369 - val_accuracy: 0.7772\n",
      "Epoch 19/20\n",
      "35/35 [==============================] - 0s 3ms/step - loss: 0.2461 - accuracy: 0.9127 - val_loss: 0.5408 - val_accuracy: 0.7826\n",
      "Epoch 20/20\n",
      "35/35 [==============================] - 0s 2ms/step - loss: 0.2425 - accuracy: 0.9109 - val_loss: 0.5455 - val_accuracy: 0.7826\n"
     ]
    }
   ],
   "source": [
    "model = build_model()\n",
    "\n",
    "history = model.fit(train_data, train_labels,\n",
    "                    epochs=20,\n",
    "                    batch_size=16,\n",
    "                    validation_data=(validation_data, validation_labels))"
   ]
  },
  {
   "cell_type": "markdown",
   "metadata": {},
   "source": [
    "## Loss fn"
   ]
  },
  {
   "cell_type": "code",
   "execution_count": 15,
   "metadata": {},
   "outputs": [
    {
     "name": "stdout",
     "output_type": "stream",
     "text": [
      "Model: \"sequential_1\"\n",
      "_________________________________________________________________\n",
      " Layer (type)                Output Shape              Param #   \n",
      "=================================================================\n",
      " dense_3 (Dense)             (None, 8)                 96        \n",
      "                                                                 \n",
      " dense_4 (Dense)             (None, 4)                 36        \n",
      "                                                                 \n",
      " dense_5 (Dense)             (None, 1)                 5         \n",
      "                                                                 \n",
      "=================================================================\n",
      "Total params: 137 (548.00 Byte)\n",
      "Trainable params: 137 (548.00 Byte)\n",
      "Non-trainable params: 0 (0.00 Byte)\n",
      "_________________________________________________________________\n"
     ]
    },
    {
     "data": {
      "image/png": "[encoded data removed]",
      "text/plain": [
       "<Figure size 432x288 with 1 Axes>"
      ]
     },
     "metadata": {
      "needs_background": "light"
     },
     "output_type": "display_data"
    }
   ],
   "source": [
    "model.summary()\n",
    "\n",
    "history_dict = history.history\n",
    "history_dict.keys()\n",
    "\n",
    "loss = history_dict['loss']\n",
    "val_loss = history_dict['val_loss']\n",
    "\n",
    "epochs = range(1, len(loss)+1)\n",
    "\n",
    "plt.plot(epochs, loss, 'bo', label=\"Training loss\")\n",
    "plt.plot(epochs, val_loss, 'r', label=\"Validation loss\")\n",
    "plt.title(\"Training and validation loss\")\n",
    "plt.xlabel(\"Epochs\")\n",
    "plt.ylabel(\"Loss\")\n",
    "plt.legend()\n",
    "plt.show()\n",
    "\n"
   ]
  },
  {
   "cell_type": "markdown",
   "metadata": {},
   "source": [
    "## On test notre modèle sur les données de test qu'il n'a jamais vu"
   ]
  },
  {
   "cell_type": "code",
   "execution_count": 16,
   "metadata": {},
   "outputs": [
    {
     "name": "stdout",
     "output_type": "stream",
     "text": [
      "Epoch 1/20\n",
      "46/46 [==============================] - 1s 5ms/step - loss: 0.8078 - accuracy: 0.5068 - val_loss: 0.8417 - val_accuracy: 0.3804\n",
      "Epoch 2/20\n",
      "46/46 [==============================] - 0s 3ms/step - loss: 0.6962 - accuracy: 0.5450 - val_loss: 0.7487 - val_accuracy: 0.4728\n",
      "Epoch 3/20\n",
      "46/46 [==============================] - 0s 2ms/step - loss: 0.6395 - accuracy: 0.6512 - val_loss: 0.7114 - val_accuracy: 0.5380\n",
      "Epoch 4/20\n",
      "46/46 [==============================] - 0s 2ms/step - loss: 0.6036 - accuracy: 0.7330 - val_loss: 0.6935 - val_accuracy: 0.5815\n",
      "Epoch 5/20\n",
      "46/46 [==============================] - 0s 2ms/step - loss: 0.5720 - accuracy: 0.7548 - val_loss: 0.6745 - val_accuracy: 0.6250\n",
      "Epoch 6/20\n",
      "46/46 [==============================] - 0s 2ms/step - loss: 0.5406 - accuracy: 0.7738 - val_loss: 0.6512 - val_accuracy: 0.6739\n",
      "Epoch 7/20\n",
      "46/46 [==============================] - 0s 2ms/step - loss: 0.5100 - accuracy: 0.7970 - val_loss: 0.6232 - val_accuracy: 0.7065\n",
      "Epoch 8/20\n",
      "46/46 [==============================] - 0s 3ms/step - loss: 0.4825 - accuracy: 0.8120 - val_loss: 0.5926 - val_accuracy: 0.7337\n",
      "Epoch 9/20\n",
      "46/46 [==============================] - 0s 2ms/step - loss: 0.4589 - accuracy: 0.8188 - val_loss: 0.5640 - val_accuracy: 0.7554\n",
      "Epoch 10/20\n",
      "46/46 [==============================] - 0s 2ms/step - loss: 0.4388 - accuracy: 0.8215 - val_loss: 0.5415 - val_accuracy: 0.7663\n",
      "Epoch 11/20\n",
      "46/46 [==============================] - 0s 2ms/step - loss: 0.4218 - accuracy: 0.8324 - val_loss: 0.5235 - val_accuracy: 0.7663\n",
      "Epoch 12/20\n",
      "46/46 [==============================] - 0s 2ms/step - loss: 0.4080 - accuracy: 0.8392 - val_loss: 0.5114 - val_accuracy: 0.7609\n",
      "Epoch 13/20\n",
      "46/46 [==============================] - 0s 3ms/step - loss: 0.3962 - accuracy: 0.8420 - val_loss: 0.5012 - val_accuracy: 0.7717\n",
      "Epoch 14/20\n",
      "46/46 [==============================] - 0s 2ms/step - loss: 0.3855 - accuracy: 0.8501 - val_loss: 0.4954 - val_accuracy: 0.7772\n",
      "Epoch 15/20\n",
      "46/46 [==============================] - 0s 2ms/step - loss: 0.3756 - accuracy: 0.8529 - val_loss: 0.4905 - val_accuracy: 0.7772\n",
      "Epoch 16/20\n",
      "46/46 [==============================] - 0s 3ms/step - loss: 0.3669 - accuracy: 0.8610 - val_loss: 0.4885 - val_accuracy: 0.7772\n",
      "Epoch 17/20\n",
      "46/46 [==============================] - 0s 2ms/step - loss: 0.3595 - accuracy: 0.8733 - val_loss: 0.4876 - val_accuracy: 0.7772\n",
      "Epoch 18/20\n",
      "46/46 [==============================] - 0s 3ms/step - loss: 0.3531 - accuracy: 0.8733 - val_loss: 0.4896 - val_accuracy: 0.7717\n",
      "Epoch 19/20\n",
      "46/46 [==============================] - 0s 3ms/step - loss: 0.3475 - accuracy: 0.8747 - val_loss: 0.4891 - val_accuracy: 0.7826\n",
      "Epoch 20/20\n",
      "46/46 [==============================] - 0s 2ms/step - loss: 0.3422 - accuracy: 0.8801 - val_loss: 0.4893 - val_accuracy: 0.7826\n"
     ]
    }
   ],
   "source": [
    "model = build_model()\n",
    "\n",
    "# regouper le training et le validation pour avoir plus de données\n",
    "train_data = np.concatenate((train_data, validation_data))\n",
    "train_labels = np.concatenate((train_labels, validation_labels))\n",
    "\n",
    "history = model.fit(train_data, train_labels,\n",
    "                    epochs=20,\n",
    "                    batch_size=16,\n",
    "                    validation_data=(test_data, test_labels))\n",
    "\n"
   ]
  },
  {
   "cell_type": "markdown",
   "metadata": {},
   "source": [
    "## On trace la courbe de loss fn & accuracy\n"
   ]
  },
  {
   "cell_type": "code",
   "execution_count": 17,
   "metadata": {},
   "outputs": [
    {
     "name": "stdout",
     "output_type": "stream",
     "text": [
      "Model: \"sequential_2\"\n",
      "_________________________________________________________________\n",
      " Layer (type)                Output Shape              Param #   \n",
      "=================================================================\n",
      " dense_6 (Dense)             (None, 8)                 96        \n",
      "                                                                 \n",
      " dense_7 (Dense)             (None, 4)                 36        \n",
      "                                                                 \n",
      " dense_8 (Dense)             (None, 1)                 5         \n",
      "                                                                 \n",
      "=================================================================\n",
      "Total params: 137 (548.00 Byte)\n",
      "Trainable params: 137 (548.00 Byte)\n",
      "Non-trainable params: 0 (0.00 Byte)\n",
      "_________________________________________________________________\n"
     ]
    },
    {
     "data": {
      "image/png": "[encoded data removed]",
      "text/plain": [
       "<Figure size 432x288 with 1 Axes>"
      ]
     },
     "metadata": {
      "needs_background": "light"
     },
     "output_type": "display_data"
    },
    {
     "data": {
      "text/plain": [
       "<matplotlib.legend.Legend at 0x2079b33bcd0>"
      ]
     },
     "execution_count": 17,
     "metadata": {},
     "output_type": "execute_result"
    },
    {
     "data": {
      "image/png": "[encoded data removed]",
      "text/plain": [
       "<Figure size 432x288 with 1 Axes>"
      ]
     },
     "metadata": {
      "needs_background": "light"
     },
     "output_type": "display_data"
    }
   ],
   "source": [
    "model.summary()\n",
    "\n",
    "history_dict = history.history\n",
    "history_dict.keys()\n",
    "\n",
    "loss = history_dict['loss']\n",
    "val_loss = history_dict['val_loss']\n",
    "\n",
    "epochs = range(1, len(loss)+1)\n",
    "\n",
    "plt.plot(epochs, loss, 'bo', label=\"Training loss\")\n",
    "plt.plot(epochs, val_loss, 'r', label=\"Testing loss\")\n",
    "plt.title(\"Training and testing loss\")\n",
    "plt.xlabel(\"Epochs\")\n",
    "plt.ylabel(\"Loss\")\n",
    "plt.legend()\n",
    "plt.show()\n",
    "\n",
    "accu = history_dict['accuracy']\n",
    "val_accu = history_dict['val_accuracy']\n",
    "\n",
    "plt.plot(epochs, accu, 'bo', label=\"Training accuracy\")\n",
    "plt.plot(epochs, val_accu, 'r', label=\"Testing accuracy\")\n",
    "plt.title(\"Training and testing accuracy\")\n",
    "plt.xlabel(\"Epochs\")\n",
    "plt.ylabel(\"Accuracy\")\n",
    "plt.legend()\n",
    "    "
   ]
  },
  {
   "cell_type": "code",
   "execution_count": 18,
   "metadata": {},
   "outputs": [
    {
     "name": "stdout",
     "output_type": "stream",
     "text": [
      "on atteint une précision de 78.260869 sur le test\n"
     ]
    }
   ],
   "source": [
    "# On arrive à atteindre une précision\n",
    "print(f\"on atteint une précision de {val_accu[-1]*100:1f} sur le test\")"
   ]
  },
  {
   "cell_type": "markdown",
   "metadata": {},
   "source": [
    "# On fait une prédiction sur un nouveau patient"
   ]
  },
  {
   "cell_type": "code",
   "execution_count": 19,
   "metadata": {},
   "outputs": [],
   "source": [
    "new_patient = np.array([[43, 1, 3, 147, 243, 0, 0, 177, 0, 0.7, 2]])\n",
    "\n",
    "# On normalise les données\n",
    "new_patient -= mean\n",
    "new_patient /= std"
   ]
  },
  {
   "cell_type": "code",
   "execution_count": 20,
   "metadata": {},
   "outputs": [
    {
     "name": "stdout",
     "output_type": "stream",
     "text": [
      "1/1 [==============================] - 0s 82ms/step\n",
      "Le patient a 11.65% de chance de contracter la maladie\n",
      "Le modèle a une précision de 0.533 sur le test\n"
     ]
    }
   ],
   "source": [
    "prediction = model.predict(new_patient)\n",
    "# prediction = prediction.numpy()\n",
    "\n",
    "predicted_labels = np.argmax(prediction, axis=1)\n",
    "matches = predicted_labels == test_labels\n",
    "\n",
    "\n",
    "print(f\"Le patient a {prediction[0][0]*100:.2f}% de chance de contracter la maladie\")\n",
    "print(f\"Le modèle a une précision de {round(matches.mean(),3)} sur le test\")"
   ]
  },
  {
   "cell_type": "markdown",
   "metadata": {},
   "source": [
    "# Avec K-FOLD ( training)"
   ]
  },
  {
   "cell_type": "code",
   "execution_count": 21,
   "metadata": {},
   "outputs": [],
   "source": [
    "def build_model():\n",
    "    model = keras.Sequential([\n",
    "    layers.Dense(8, activation=\"relu\"),\n",
    "    layers.Dense(4, activation=\"relu\"),\n",
    "\n",
    "    layers.Dense(1, activation=\"sigmoid\")\n",
    "    ])\n",
    "    model.compile(optimizer='rmsprop', \n",
    "                  loss='binary_crossentropy', \n",
    "                  metrics=['accuracy'])\n",
    "    return model"
   ]
  },
  {
   "cell_type": "code",
   "execution_count": 22,
   "metadata": {},
   "outputs": [
    {
     "name": "stdout",
     "output_type": "stream",
     "text": [
      "processing fold #0\n",
      "Epoch 1/100\n",
      "35/35 [==============================] - 1s 6ms/step - loss: 0.7067 - accuracy: 0.5662 - val_loss: 0.5899 - val_accuracy: 0.7869\n",
      "Epoch 2/100\n",
      "35/35 [==============================] - 0s 2ms/step - loss: 0.6456 - accuracy: 0.6770 - val_loss: 0.5574 - val_accuracy: 0.8197\n",
      "Epoch 3/100\n",
      "35/35 [==============================] - 0s 3ms/step - loss: 0.6013 - accuracy: 0.7405 - val_loss: 0.5277 - val_accuracy: 0.8251\n",
      "Epoch 4/100\n",
      "35/35 [==============================] - 0s 3ms/step - loss: 0.5625 - accuracy: 0.7731 - val_loss: 0.4969 - val_accuracy: 0.8470\n",
      "Epoch 5/100\n",
      "35/35 [==============================] - 0s 3ms/step - loss: 0.5251 - accuracy: 0.7877 - val_loss: 0.4711 - val_accuracy: 0.8415\n",
      "Epoch 6/100\n",
      "35/35 [==============================] - 0s 3ms/step - loss: 0.4930 - accuracy: 0.8113 - val_loss: 0.4462 - val_accuracy: 0.8415\n",
      "Epoch 7/100\n",
      "35/35 [==============================] - 0s 3ms/step - loss: 0.4658 - accuracy: 0.8167 - val_loss: 0.4259 - val_accuracy: 0.8470\n",
      "Epoch 8/100\n",
      "35/35 [==============================] - 0s 2ms/step - loss: 0.4424 - accuracy: 0.8258 - val_loss: 0.4080 - val_accuracy: 0.8361\n",
      "Epoch 9/100\n",
      "35/35 [==============================] - 0s 3ms/step - loss: 0.4243 - accuracy: 0.8348 - val_loss: 0.3925 - val_accuracy: 0.8361\n",
      "Epoch 10/100\n",
      "35/35 [==============================] - 0s 3ms/step - loss: 0.4088 - accuracy: 0.8403 - val_loss: 0.3808 - val_accuracy: 0.8361\n",
      "Epoch 11/100\n",
      "35/35 [==============================] - 0s 2ms/step - loss: 0.3967 - accuracy: 0.8530 - val_loss: 0.3700 - val_accuracy: 0.8470\n",
      "Epoch 12/100\n",
      "35/35 [==============================] - 0s 2ms/step - loss: 0.3869 - accuracy: 0.8530 - val_loss: 0.3628 - val_accuracy: 0.8525\n",
      "Epoch 13/100\n",
      "35/35 [==============================] - 0s 3ms/step - loss: 0.3789 - accuracy: 0.8548 - val_loss: 0.3549 - val_accuracy: 0.8470\n",
      "Epoch 14/100\n",
      "35/35 [==============================] - 0s 2ms/step - loss: 0.3722 - accuracy: 0.8603 - val_loss: 0.3487 - val_accuracy: 0.8470\n",
      "Epoch 15/100\n",
      "35/35 [==============================] - 0s 2ms/step - loss: 0.3669 - accuracy: 0.8584 - val_loss: 0.3423 - val_accuracy: 0.8470\n",
      "Epoch 16/100\n",
      "35/35 [==============================] - 0s 2ms/step - loss: 0.3620 - accuracy: 0.8639 - val_loss: 0.3347 - val_accuracy: 0.8470\n",
      "Epoch 17/100\n",
      "35/35 [==============================] - 0s 2ms/step - loss: 0.3579 - accuracy: 0.8657 - val_loss: 0.3297 - val_accuracy: 0.8470\n",
      "Epoch 18/100\n",
      "35/35 [==============================] - 0s 2ms/step - loss: 0.3547 - accuracy: 0.8621 - val_loss: 0.3258 - val_accuracy: 0.8525\n",
      "Epoch 19/100\n",
      "35/35 [==============================] - 0s 2ms/step - loss: 0.3514 - accuracy: 0.8621 - val_loss: 0.3218 - val_accuracy: 0.8579\n",
      "Epoch 20/100\n",
      "35/35 [==============================] - 0s 2ms/step - loss: 0.3483 - accuracy: 0.8639 - val_loss: 0.3170 - val_accuracy: 0.8579\n",
      "Epoch 21/100\n",
      "35/35 [==============================] - 0s 2ms/step - loss: 0.3457 - accuracy: 0.8693 - val_loss: 0.3126 - val_accuracy: 0.8579\n",
      "Epoch 22/100\n",
      "35/35 [==============================] - 0s 2ms/step - loss: 0.3426 - accuracy: 0.8693 - val_loss: 0.3108 - val_accuracy: 0.8579\n",
      "Epoch 23/100\n",
      "35/35 [==============================] - 0s 2ms/step - loss: 0.3407 - accuracy: 0.8675 - val_loss: 0.3067 - val_accuracy: 0.8634\n",
      "Epoch 24/100\n",
      "35/35 [==============================] - 0s 2ms/step - loss: 0.3384 - accuracy: 0.8711 - val_loss: 0.3041 - val_accuracy: 0.8634\n",
      "Epoch 25/100\n",
      "35/35 [==============================] - 0s 3ms/step - loss: 0.3369 - accuracy: 0.8693 - val_loss: 0.3022 - val_accuracy: 0.8689\n",
      "Epoch 26/100\n",
      "35/35 [==============================] - 0s 3ms/step - loss: 0.3349 - accuracy: 0.8711 - val_loss: 0.3006 - val_accuracy: 0.8689\n",
      "Epoch 27/100\n",
      "35/35 [==============================] - 0s 3ms/step - loss: 0.3334 - accuracy: 0.8693 - val_loss: 0.2984 - val_accuracy: 0.8689\n",
      "Epoch 28/100\n",
      "35/35 [==============================] - 0s 2ms/step - loss: 0.3320 - accuracy: 0.8693 - val_loss: 0.2960 - val_accuracy: 0.8689\n",
      "Epoch 29/100\n",
      "35/35 [==============================] - 0s 2ms/step - loss: 0.3307 - accuracy: 0.8675 - val_loss: 0.2941 - val_accuracy: 0.8743\n",
      "Epoch 30/100\n",
      "35/35 [==============================] - 0s 2ms/step - loss: 0.3290 - accuracy: 0.8693 - val_loss: 0.2925 - val_accuracy: 0.8743\n",
      "Epoch 31/100\n",
      "35/35 [==============================] - 0s 2ms/step - loss: 0.3283 - accuracy: 0.8748 - val_loss: 0.2894 - val_accuracy: 0.8743\n",
      "Epoch 32/100\n",
      "35/35 [==============================] - 0s 2ms/step - loss: 0.3265 - accuracy: 0.8711 - val_loss: 0.2878 - val_accuracy: 0.8798\n",
      "Epoch 33/100\n",
      "35/35 [==============================] - 0s 2ms/step - loss: 0.3254 - accuracy: 0.8675 - val_loss: 0.2858 - val_accuracy: 0.8798\n",
      "Epoch 34/100\n",
      "35/35 [==============================] - 0s 3ms/step - loss: 0.3243 - accuracy: 0.8693 - val_loss: 0.2846 - val_accuracy: 0.8743\n",
      "Epoch 35/100\n",
      "35/35 [==============================] - 0s 2ms/step - loss: 0.3234 - accuracy: 0.8730 - val_loss: 0.2831 - val_accuracy: 0.8798\n",
      "Epoch 36/100\n",
      "35/35 [==============================] - 0s 2ms/step - loss: 0.3217 - accuracy: 0.8711 - val_loss: 0.2812 - val_accuracy: 0.8743\n",
      "Epoch 37/100\n",
      "35/35 [==============================] - 0s 2ms/step - loss: 0.3214 - accuracy: 0.8748 - val_loss: 0.2793 - val_accuracy: 0.8798\n",
      "Epoch 38/100\n",
      "35/35 [==============================] - 0s 2ms/step - loss: 0.3199 - accuracy: 0.8730 - val_loss: 0.2773 - val_accuracy: 0.8852\n",
      "Epoch 39/100\n",
      "35/35 [==============================] - 0s 2ms/step - loss: 0.3189 - accuracy: 0.8711 - val_loss: 0.2761 - val_accuracy: 0.8907\n",
      "Epoch 40/100\n",
      "35/35 [==============================] - 0s 2ms/step - loss: 0.3182 - accuracy: 0.8766 - val_loss: 0.2752 - val_accuracy: 0.8852\n",
      "Epoch 41/100\n",
      "35/35 [==============================] - 0s 2ms/step - loss: 0.3169 - accuracy: 0.8784 - val_loss: 0.2737 - val_accuracy: 0.8852\n",
      "Epoch 42/100\n",
      "35/35 [==============================] - 0s 2ms/step - loss: 0.3163 - accuracy: 0.8784 - val_loss: 0.2718 - val_accuracy: 0.8907\n",
      "Epoch 43/100\n",
      "35/35 [==============================] - 0s 2ms/step - loss: 0.3149 - accuracy: 0.8802 - val_loss: 0.2714 - val_accuracy: 0.8852\n",
      "Epoch 44/100\n",
      "35/35 [==============================] - 0s 2ms/step - loss: 0.3137 - accuracy: 0.8730 - val_loss: 0.2694 - val_accuracy: 0.8907\n",
      "Epoch 45/100\n",
      "35/35 [==============================] - 0s 2ms/step - loss: 0.3135 - accuracy: 0.8802 - val_loss: 0.2680 - val_accuracy: 0.8852\n",
      "Epoch 46/100\n",
      "35/35 [==============================] - 0s 2ms/step - loss: 0.3124 - accuracy: 0.8802 - val_loss: 0.2661 - val_accuracy: 0.8907\n",
      "Epoch 47/100\n",
      "35/35 [==============================] - 0s 2ms/step - loss: 0.3111 - accuracy: 0.8802 - val_loss: 0.2659 - val_accuracy: 0.8852\n",
      "Epoch 48/100\n",
      "35/35 [==============================] - 0s 2ms/step - loss: 0.3103 - accuracy: 0.8820 - val_loss: 0.2635 - val_accuracy: 0.8907\n",
      "Epoch 49/100\n",
      "35/35 [==============================] - 0s 2ms/step - loss: 0.3096 - accuracy: 0.8857 - val_loss: 0.2625 - val_accuracy: 0.8907\n",
      "Epoch 50/100\n",
      "35/35 [==============================] - 0s 2ms/step - loss: 0.3089 - accuracy: 0.8857 - val_loss: 0.2608 - val_accuracy: 0.8962\n",
      "Epoch 51/100\n",
      "35/35 [==============================] - 0s 2ms/step - loss: 0.3081 - accuracy: 0.8802 - val_loss: 0.2593 - val_accuracy: 0.8907\n",
      "Epoch 52/100\n",
      "35/35 [==============================] - 0s 2ms/step - loss: 0.3074 - accuracy: 0.8820 - val_loss: 0.2580 - val_accuracy: 0.8907\n",
      "Epoch 53/100\n",
      "35/35 [==============================] - 0s 2ms/step - loss: 0.3063 - accuracy: 0.8838 - val_loss: 0.2577 - val_accuracy: 0.8907\n",
      "Epoch 54/100\n",
      "35/35 [==============================] - 0s 2ms/step - loss: 0.3058 - accuracy: 0.8857 - val_loss: 0.2573 - val_accuracy: 0.8907\n",
      "Epoch 55/100\n",
      "35/35 [==============================] - 0s 2ms/step - loss: 0.3053 - accuracy: 0.8820 - val_loss: 0.2571 - val_accuracy: 0.8907\n",
      "Epoch 56/100\n",
      "35/35 [==============================] - 0s 2ms/step - loss: 0.3044 - accuracy: 0.8857 - val_loss: 0.2566 - val_accuracy: 0.8907\n",
      "Epoch 57/100\n",
      "35/35 [==============================] - 0s 2ms/step - loss: 0.3037 - accuracy: 0.8838 - val_loss: 0.2563 - val_accuracy: 0.8907\n",
      "Epoch 58/100\n"
     ]
    },
    {
     "name": "stdout",
     "output_type": "stream",
     "text": [
      "35/35 [==============================] - 0s 2ms/step - loss: 0.3031 - accuracy: 0.8838 - val_loss: 0.2549 - val_accuracy: 0.8907\n",
      "Epoch 59/100\n",
      "35/35 [==============================] - 0s 2ms/step - loss: 0.3022 - accuracy: 0.8820 - val_loss: 0.2546 - val_accuracy: 0.8907\n",
      "Epoch 60/100\n",
      "35/35 [==============================] - 0s 2ms/step - loss: 0.3013 - accuracy: 0.8838 - val_loss: 0.2517 - val_accuracy: 0.8907\n",
      "Epoch 61/100\n",
      "35/35 [==============================] - 0s 2ms/step - loss: 0.3004 - accuracy: 0.8820 - val_loss: 0.2506 - val_accuracy: 0.8907\n",
      "Epoch 62/100\n",
      "35/35 [==============================] - 0s 2ms/step - loss: 0.2997 - accuracy: 0.8820 - val_loss: 0.2499 - val_accuracy: 0.8852\n",
      "Epoch 63/100\n",
      "35/35 [==============================] - 0s 2ms/step - loss: 0.2987 - accuracy: 0.8820 - val_loss: 0.2487 - val_accuracy: 0.8852\n",
      "Epoch 64/100\n",
      "35/35 [==============================] - 0s 2ms/step - loss: 0.2986 - accuracy: 0.8820 - val_loss: 0.2478 - val_accuracy: 0.8798\n",
      "Epoch 65/100\n",
      "35/35 [==============================] - 0s 2ms/step - loss: 0.2978 - accuracy: 0.8838 - val_loss: 0.2472 - val_accuracy: 0.8798\n",
      "Epoch 66/100\n",
      "35/35 [==============================] - 0s 2ms/step - loss: 0.2970 - accuracy: 0.8838 - val_loss: 0.2474 - val_accuracy: 0.8798\n",
      "Epoch 67/100\n",
      "35/35 [==============================] - 0s 2ms/step - loss: 0.2960 - accuracy: 0.8820 - val_loss: 0.2456 - val_accuracy: 0.8798\n",
      "Epoch 68/100\n",
      "35/35 [==============================] - 0s 2ms/step - loss: 0.2964 - accuracy: 0.8820 - val_loss: 0.2454 - val_accuracy: 0.8798\n",
      "Epoch 69/100\n",
      "35/35 [==============================] - 0s 2ms/step - loss: 0.2951 - accuracy: 0.8838 - val_loss: 0.2443 - val_accuracy: 0.8798\n",
      "Epoch 70/100\n",
      "35/35 [==============================] - 0s 2ms/step - loss: 0.2944 - accuracy: 0.8838 - val_loss: 0.2429 - val_accuracy: 0.8798\n",
      "Epoch 71/100\n",
      "35/35 [==============================] - 0s 2ms/step - loss: 0.2938 - accuracy: 0.8857 - val_loss: 0.2421 - val_accuracy: 0.8798\n",
      "Epoch 72/100\n",
      "35/35 [==============================] - 0s 2ms/step - loss: 0.2935 - accuracy: 0.8838 - val_loss: 0.2425 - val_accuracy: 0.8852\n",
      "Epoch 73/100\n",
      "35/35 [==============================] - 0s 2ms/step - loss: 0.2923 - accuracy: 0.8820 - val_loss: 0.2414 - val_accuracy: 0.8852\n",
      "Epoch 74/100\n",
      "35/35 [==============================] - 0s 2ms/step - loss: 0.2920 - accuracy: 0.8838 - val_loss: 0.2412 - val_accuracy: 0.8852\n",
      "Epoch 75/100\n",
      "35/35 [==============================] - 0s 2ms/step - loss: 0.2912 - accuracy: 0.8857 - val_loss: 0.2404 - val_accuracy: 0.8852\n",
      "Epoch 76/100\n",
      "35/35 [==============================] - 0s 2ms/step - loss: 0.2905 - accuracy: 0.8893 - val_loss: 0.2402 - val_accuracy: 0.8852\n",
      "Epoch 77/100\n",
      "35/35 [==============================] - 0s 2ms/step - loss: 0.2900 - accuracy: 0.8857 - val_loss: 0.2392 - val_accuracy: 0.8852\n",
      "Epoch 78/100\n",
      "35/35 [==============================] - 0s 2ms/step - loss: 0.2893 - accuracy: 0.8875 - val_loss: 0.2383 - val_accuracy: 0.8852\n",
      "Epoch 79/100\n",
      "35/35 [==============================] - 0s 2ms/step - loss: 0.2883 - accuracy: 0.8875 - val_loss: 0.2388 - val_accuracy: 0.8852\n",
      "Epoch 80/100\n",
      "35/35 [==============================] - 0s 2ms/step - loss: 0.2883 - accuracy: 0.8857 - val_loss: 0.2383 - val_accuracy: 0.8907\n",
      "Epoch 81/100\n",
      "35/35 [==============================] - 0s 2ms/step - loss: 0.2876 - accuracy: 0.8875 - val_loss: 0.2374 - val_accuracy: 0.8907\n",
      "Epoch 82/100\n",
      "35/35 [==============================] - 0s 2ms/step - loss: 0.2868 - accuracy: 0.8857 - val_loss: 0.2373 - val_accuracy: 0.8907\n",
      "Epoch 83/100\n",
      "35/35 [==============================] - 0s 2ms/step - loss: 0.2868 - accuracy: 0.8857 - val_loss: 0.2371 - val_accuracy: 0.8907\n",
      "Epoch 84/100\n",
      "35/35 [==============================] - 0s 2ms/step - loss: 0.2859 - accuracy: 0.8875 - val_loss: 0.2374 - val_accuracy: 0.8962\n",
      "Epoch 85/100\n",
      "35/35 [==============================] - 0s 2ms/step - loss: 0.2850 - accuracy: 0.8893 - val_loss: 0.2357 - val_accuracy: 0.8907\n",
      "Epoch 86/100\n",
      "35/35 [==============================] - 0s 2ms/step - loss: 0.2847 - accuracy: 0.8893 - val_loss: 0.2350 - val_accuracy: 0.8962\n",
      "Epoch 87/100\n",
      "35/35 [==============================] - 0s 2ms/step - loss: 0.2841 - accuracy: 0.8875 - val_loss: 0.2345 - val_accuracy: 0.8962\n",
      "Epoch 88/100\n",
      "35/35 [==============================] - 0s 2ms/step - loss: 0.2836 - accuracy: 0.8893 - val_loss: 0.2351 - val_accuracy: 0.8962\n",
      "Epoch 89/100\n",
      "35/35 [==============================] - 0s 2ms/step - loss: 0.2831 - accuracy: 0.8893 - val_loss: 0.2344 - val_accuracy: 0.8962\n",
      "Epoch 90/100\n",
      "35/35 [==============================] - 0s 2ms/step - loss: 0.2827 - accuracy: 0.8893 - val_loss: 0.2339 - val_accuracy: 0.8962\n",
      "Epoch 91/100\n",
      "35/35 [==============================] - 0s 2ms/step - loss: 0.2823 - accuracy: 0.8893 - val_loss: 0.2338 - val_accuracy: 0.8962\n",
      "Epoch 92/100\n",
      "35/35 [==============================] - 0s 2ms/step - loss: 0.2818 - accuracy: 0.8893 - val_loss: 0.2348 - val_accuracy: 0.8962\n",
      "Epoch 93/100\n",
      "35/35 [==============================] - 0s 2ms/step - loss: 0.2812 - accuracy: 0.8893 - val_loss: 0.2339 - val_accuracy: 0.8962\n",
      "Epoch 94/100\n",
      "35/35 [==============================] - 0s 2ms/step - loss: 0.2801 - accuracy: 0.8857 - val_loss: 0.2339 - val_accuracy: 0.8962\n",
      "Epoch 95/100\n",
      "35/35 [==============================] - 0s 2ms/step - loss: 0.2801 - accuracy: 0.8947 - val_loss: 0.2336 - val_accuracy: 0.8962\n",
      "Epoch 96/100\n",
      "35/35 [==============================] - 0s 2ms/step - loss: 0.2794 - accuracy: 0.8911 - val_loss: 0.2328 - val_accuracy: 0.8962\n",
      "Epoch 97/100\n",
      "35/35 [==============================] - 0s 2ms/step - loss: 0.2789 - accuracy: 0.8893 - val_loss: 0.2335 - val_accuracy: 0.8962\n",
      "Epoch 98/100\n",
      "35/35 [==============================] - 0s 2ms/step - loss: 0.2782 - accuracy: 0.8911 - val_loss: 0.2323 - val_accuracy: 0.8962\n",
      "Epoch 99/100\n",
      "35/35 [==============================] - 0s 2ms/step - loss: 0.2781 - accuracy: 0.8911 - val_loss: 0.2322 - val_accuracy: 0.8962\n",
      "Epoch 100/100\n",
      "35/35 [==============================] - 0s 3ms/step - loss: 0.2775 - accuracy: 0.8929 - val_loss: 0.2334 - val_accuracy: 0.8962\n",
      "processing fold #1\n",
      "Epoch 1/100\n",
      "35/35 [==============================] - 1s 5ms/step - loss: 0.8447 - accuracy: 0.5844 - val_loss: 0.7723 - val_accuracy: 0.5464\n",
      "Epoch 2/100\n",
      "35/35 [==============================] - 0s 2ms/step - loss: 0.7385 - accuracy: 0.5826 - val_loss: 0.6868 - val_accuracy: 0.5519\n",
      "Epoch 3/100\n",
      "35/35 [==============================] - 0s 2ms/step - loss: 0.6717 - accuracy: 0.5826 - val_loss: 0.6422 - val_accuracy: 0.5574\n",
      "Epoch 4/100\n",
      "35/35 [==============================] - 0s 2ms/step - loss: 0.6329 - accuracy: 0.5844 - val_loss: 0.6213 - val_accuracy: 0.6066\n",
      "Epoch 5/100\n",
      "35/35 [==============================] - 0s 2ms/step - loss: 0.6066 - accuracy: 0.6134 - val_loss: 0.6047 - val_accuracy: 0.6339\n",
      "Epoch 6/100\n",
      "35/35 [==============================] - 0s 2ms/step - loss: 0.5830 - accuracy: 0.6443 - val_loss: 0.5910 - val_accuracy: 0.6721\n",
      "Epoch 7/100\n",
      "35/35 [==============================] - 0s 2ms/step - loss: 0.5631 - accuracy: 0.6806 - val_loss: 0.5773 - val_accuracy: 0.7049\n",
      "Epoch 8/100\n",
      "35/35 [==============================] - 0s 2ms/step - loss: 0.5459 - accuracy: 0.7132 - val_loss: 0.5651 - val_accuracy: 0.7541\n",
      "Epoch 9/100\n",
      "35/35 [==============================] - 0s 3ms/step - loss: 0.5311 - accuracy: 0.7441 - val_loss: 0.5544 - val_accuracy: 0.7596\n",
      "Epoch 10/100\n",
      "35/35 [==============================] - 0s 2ms/step - loss: 0.5183 - accuracy: 0.7695 - val_loss: 0.5452 - val_accuracy: 0.7705\n",
      "Epoch 11/100\n",
      "35/35 [==============================] - 0s 2ms/step - loss: 0.5082 - accuracy: 0.7895 - val_loss: 0.5380 - val_accuracy: 0.8033\n",
      "Epoch 12/100\n",
      "35/35 [==============================] - 0s 2ms/step - loss: 0.4995 - accuracy: 0.8022 - val_loss: 0.5317 - val_accuracy: 0.8251\n",
      "Epoch 13/100\n",
      "35/35 [==============================] - 0s 2ms/step - loss: 0.4924 - accuracy: 0.8185 - val_loss: 0.5266 - val_accuracy: 0.8415\n",
      "Epoch 14/100\n",
      "35/35 [==============================] - 0s 2ms/step - loss: 0.4858 - accuracy: 0.8258 - val_loss: 0.5225 - val_accuracy: 0.8251\n",
      "Epoch 15/100\n",
      "35/35 [==============================] - 0s 2ms/step - loss: 0.4806 - accuracy: 0.8240 - val_loss: 0.5195 - val_accuracy: 0.8251\n"
     ]
    },
    {
     "name": "stdout",
     "output_type": "stream",
     "text": [
      "Epoch 16/100\n",
      "35/35 [==============================] - 0s 3ms/step - loss: 0.4756 - accuracy: 0.8203 - val_loss: 0.5152 - val_accuracy: 0.8251\n",
      "Epoch 17/100\n",
      "35/35 [==============================] - 0s 2ms/step - loss: 0.4711 - accuracy: 0.8312 - val_loss: 0.5120 - val_accuracy: 0.8197\n",
      "Epoch 18/100\n",
      "35/35 [==============================] - 0s 2ms/step - loss: 0.4671 - accuracy: 0.8367 - val_loss: 0.5080 - val_accuracy: 0.8251\n",
      "Epoch 19/100\n",
      "35/35 [==============================] - 0s 2ms/step - loss: 0.4632 - accuracy: 0.8348 - val_loss: 0.5050 - val_accuracy: 0.8197\n",
      "Epoch 20/100\n",
      "35/35 [==============================] - 0s 2ms/step - loss: 0.4595 - accuracy: 0.8276 - val_loss: 0.5017 - val_accuracy: 0.8197\n",
      "Epoch 21/100\n",
      "35/35 [==============================] - 0s 2ms/step - loss: 0.4557 - accuracy: 0.8312 - val_loss: 0.4984 - val_accuracy: 0.8142\n",
      "Epoch 22/100\n",
      "35/35 [==============================] - 0s 2ms/step - loss: 0.4522 - accuracy: 0.8294 - val_loss: 0.4956 - val_accuracy: 0.8142\n",
      "Epoch 23/100\n",
      "35/35 [==============================] - 0s 2ms/step - loss: 0.4488 - accuracy: 0.8330 - val_loss: 0.4928 - val_accuracy: 0.8142\n",
      "Epoch 24/100\n",
      "35/35 [==============================] - 0s 2ms/step - loss: 0.4456 - accuracy: 0.8348 - val_loss: 0.4896 - val_accuracy: 0.8197\n",
      "Epoch 25/100\n",
      "35/35 [==============================] - 0s 2ms/step - loss: 0.4426 - accuracy: 0.8348 - val_loss: 0.4880 - val_accuracy: 0.8087\n",
      "Epoch 26/100\n",
      "35/35 [==============================] - 0s 2ms/step - loss: 0.4394 - accuracy: 0.8385 - val_loss: 0.4852 - val_accuracy: 0.8033\n",
      "Epoch 27/100\n",
      "35/35 [==============================] - 0s 3ms/step - loss: 0.4364 - accuracy: 0.8421 - val_loss: 0.4822 - val_accuracy: 0.8033\n",
      "Epoch 28/100\n",
      "35/35 [==============================] - 0s 2ms/step - loss: 0.4338 - accuracy: 0.8421 - val_loss: 0.4798 - val_accuracy: 0.7978\n",
      "Epoch 29/100\n",
      "35/35 [==============================] - 0s 2ms/step - loss: 0.4311 - accuracy: 0.8439 - val_loss: 0.4775 - val_accuracy: 0.8033\n",
      "Epoch 30/100\n",
      "35/35 [==============================] - 0s 2ms/step - loss: 0.4284 - accuracy: 0.8439 - val_loss: 0.4742 - val_accuracy: 0.7923\n",
      "Epoch 31/100\n",
      "35/35 [==============================] - 0s 2ms/step - loss: 0.4252 - accuracy: 0.8457 - val_loss: 0.4704 - val_accuracy: 0.7923\n",
      "Epoch 32/100\n",
      "35/35 [==============================] - 0s 2ms/step - loss: 0.4226 - accuracy: 0.8457 - val_loss: 0.4678 - val_accuracy: 0.7923\n",
      "Epoch 33/100\n",
      "35/35 [==============================] - 0s 2ms/step - loss: 0.4195 - accuracy: 0.8475 - val_loss: 0.4648 - val_accuracy: 0.7978\n",
      "Epoch 34/100\n",
      "35/35 [==============================] - 0s 2ms/step - loss: 0.4168 - accuracy: 0.8475 - val_loss: 0.4599 - val_accuracy: 0.8033\n",
      "Epoch 35/100\n",
      "35/35 [==============================] - 0s 2ms/step - loss: 0.4140 - accuracy: 0.8494 - val_loss: 0.4557 - val_accuracy: 0.8087\n",
      "Epoch 36/100\n",
      "35/35 [==============================] - 0s 2ms/step - loss: 0.4108 - accuracy: 0.8530 - val_loss: 0.4518 - val_accuracy: 0.8087\n",
      "Epoch 37/100\n",
      "35/35 [==============================] - 0s 2ms/step - loss: 0.4083 - accuracy: 0.8548 - val_loss: 0.4474 - val_accuracy: 0.8142\n",
      "Epoch 38/100\n",
      "35/35 [==============================] - 0s 3ms/step - loss: 0.4048 - accuracy: 0.8548 - val_loss: 0.4423 - val_accuracy: 0.8087\n",
      "Epoch 39/100\n",
      "35/35 [==============================] - 0s 2ms/step - loss: 0.4020 - accuracy: 0.8566 - val_loss: 0.4378 - val_accuracy: 0.8142\n",
      "Epoch 40/100\n",
      "35/35 [==============================] - 0s 3ms/step - loss: 0.3989 - accuracy: 0.8530 - val_loss: 0.4346 - val_accuracy: 0.8251\n",
      "Epoch 41/100\n",
      "35/35 [==============================] - 0s 2ms/step - loss: 0.3962 - accuracy: 0.8548 - val_loss: 0.4330 - val_accuracy: 0.8251\n",
      "Epoch 42/100\n",
      "35/35 [==============================] - 0s 2ms/step - loss: 0.3931 - accuracy: 0.8548 - val_loss: 0.4290 - val_accuracy: 0.8251\n",
      "Epoch 43/100\n",
      "35/35 [==============================] - 0s 2ms/step - loss: 0.3903 - accuracy: 0.8584 - val_loss: 0.4270 - val_accuracy: 0.8251\n",
      "Epoch 44/100\n",
      "35/35 [==============================] - 0s 2ms/step - loss: 0.3871 - accuracy: 0.8566 - val_loss: 0.4221 - val_accuracy: 0.8361\n",
      "Epoch 45/100\n",
      "35/35 [==============================] - 0s 2ms/step - loss: 0.3838 - accuracy: 0.8603 - val_loss: 0.4196 - val_accuracy: 0.8306\n",
      "Epoch 46/100\n",
      "35/35 [==============================] - 0s 2ms/step - loss: 0.3810 - accuracy: 0.8603 - val_loss: 0.4169 - val_accuracy: 0.8306\n",
      "Epoch 47/100\n",
      "35/35 [==============================] - 0s 2ms/step - loss: 0.3788 - accuracy: 0.8603 - val_loss: 0.4145 - val_accuracy: 0.8306\n",
      "Epoch 48/100\n",
      "35/35 [==============================] - 0s 2ms/step - loss: 0.3755 - accuracy: 0.8693 - val_loss: 0.4126 - val_accuracy: 0.8306\n",
      "Epoch 49/100\n",
      "35/35 [==============================] - 0s 2ms/step - loss: 0.3724 - accuracy: 0.8711 - val_loss: 0.4105 - val_accuracy: 0.8361\n",
      "Epoch 50/100\n",
      "35/35 [==============================] - 0s 2ms/step - loss: 0.3701 - accuracy: 0.8711 - val_loss: 0.4068 - val_accuracy: 0.8306\n",
      "Epoch 51/100\n",
      "35/35 [==============================] - 0s 2ms/step - loss: 0.3672 - accuracy: 0.8784 - val_loss: 0.4039 - val_accuracy: 0.8306\n",
      "Epoch 52/100\n",
      "35/35 [==============================] - 0s 3ms/step - loss: 0.3644 - accuracy: 0.8802 - val_loss: 0.4017 - val_accuracy: 0.8361\n",
      "Epoch 53/100\n",
      "35/35 [==============================] - 0s 2ms/step - loss: 0.3618 - accuracy: 0.8820 - val_loss: 0.3991 - val_accuracy: 0.8306\n",
      "Epoch 54/100\n",
      "35/35 [==============================] - 0s 2ms/step - loss: 0.3589 - accuracy: 0.8802 - val_loss: 0.3953 - val_accuracy: 0.8306\n",
      "Epoch 55/100\n",
      "35/35 [==============================] - 0s 2ms/step - loss: 0.3567 - accuracy: 0.8838 - val_loss: 0.3939 - val_accuracy: 0.8361\n",
      "Epoch 56/100\n",
      "35/35 [==============================] - 0s 2ms/step - loss: 0.3543 - accuracy: 0.8838 - val_loss: 0.3930 - val_accuracy: 0.8361\n",
      "Epoch 57/100\n",
      "35/35 [==============================] - 0s 2ms/step - loss: 0.3514 - accuracy: 0.8820 - val_loss: 0.3917 - val_accuracy: 0.8361\n",
      "Epoch 58/100\n",
      "35/35 [==============================] - 0s 2ms/step - loss: 0.3494 - accuracy: 0.8802 - val_loss: 0.3907 - val_accuracy: 0.8306\n",
      "Epoch 59/100\n",
      "35/35 [==============================] - 0s 2ms/step - loss: 0.3468 - accuracy: 0.8820 - val_loss: 0.3899 - val_accuracy: 0.8306\n",
      "Epoch 60/100\n",
      "35/35 [==============================] - 0s 2ms/step - loss: 0.3445 - accuracy: 0.8820 - val_loss: 0.3873 - val_accuracy: 0.8361\n",
      "Epoch 61/100\n",
      "35/35 [==============================] - 0s 2ms/step - loss: 0.3426 - accuracy: 0.8820 - val_loss: 0.3869 - val_accuracy: 0.8251\n",
      "Epoch 62/100\n",
      "35/35 [==============================] - 0s 2ms/step - loss: 0.3400 - accuracy: 0.8838 - val_loss: 0.3846 - val_accuracy: 0.8361\n",
      "Epoch 63/100\n",
      "35/35 [==============================] - 0s 3ms/step - loss: 0.3389 - accuracy: 0.8838 - val_loss: 0.3844 - val_accuracy: 0.8306\n",
      "Epoch 64/100\n",
      "35/35 [==============================] - 0s 2ms/step - loss: 0.3367 - accuracy: 0.8857 - val_loss: 0.3832 - val_accuracy: 0.8306\n",
      "Epoch 65/100\n",
      "35/35 [==============================] - 0s 2ms/step - loss: 0.3345 - accuracy: 0.8857 - val_loss: 0.3809 - val_accuracy: 0.8306\n",
      "Epoch 66/100\n",
      "35/35 [==============================] - 0s 3ms/step - loss: 0.3334 - accuracy: 0.8857 - val_loss: 0.3800 - val_accuracy: 0.8306\n",
      "Epoch 67/100\n",
      "35/35 [==============================] - 0s 3ms/step - loss: 0.3310 - accuracy: 0.8857 - val_loss: 0.3794 - val_accuracy: 0.8306\n",
      "Epoch 68/100\n",
      "35/35 [==============================] - 0s 3ms/step - loss: 0.3298 - accuracy: 0.8857 - val_loss: 0.3792 - val_accuracy: 0.8306\n",
      "Epoch 69/100\n",
      "35/35 [==============================] - 0s 3ms/step - loss: 0.3281 - accuracy: 0.8857 - val_loss: 0.3774 - val_accuracy: 0.8306\n",
      "Epoch 70/100\n",
      "35/35 [==============================] - 0s 3ms/step - loss: 0.3268 - accuracy: 0.8893 - val_loss: 0.3770 - val_accuracy: 0.8306\n",
      "Epoch 71/100\n",
      "35/35 [==============================] - 0s 3ms/step - loss: 0.3253 - accuracy: 0.8893 - val_loss: 0.3777 - val_accuracy: 0.8251\n",
      "Epoch 72/100\n",
      "35/35 [==============================] - 0s 3ms/step - loss: 0.3233 - accuracy: 0.8929 - val_loss: 0.3760 - val_accuracy: 0.8306\n",
      "Epoch 73/100\n",
      "35/35 [==============================] - 0s 3ms/step - loss: 0.3220 - accuracy: 0.8911 - val_loss: 0.3751 - val_accuracy: 0.8306\n"
     ]
    },
    {
     "name": "stdout",
     "output_type": "stream",
     "text": [
      "Epoch 74/100\n",
      "35/35 [==============================] - 0s 3ms/step - loss: 0.3204 - accuracy: 0.8929 - val_loss: 0.3733 - val_accuracy: 0.8361\n",
      "Epoch 75/100\n",
      "35/35 [==============================] - 0s 3ms/step - loss: 0.3193 - accuracy: 0.8911 - val_loss: 0.3740 - val_accuracy: 0.8361\n",
      "Epoch 76/100\n",
      "35/35 [==============================] - 0s 2ms/step - loss: 0.3178 - accuracy: 0.8929 - val_loss: 0.3723 - val_accuracy: 0.8415\n",
      "Epoch 77/100\n",
      "35/35 [==============================] - 0s 2ms/step - loss: 0.3164 - accuracy: 0.8929 - val_loss: 0.3718 - val_accuracy: 0.8361\n",
      "Epoch 78/100\n",
      "35/35 [==============================] - 0s 2ms/step - loss: 0.3155 - accuracy: 0.8929 - val_loss: 0.3714 - val_accuracy: 0.8361\n",
      "Epoch 79/100\n",
      "35/35 [==============================] - 0s 2ms/step - loss: 0.3139 - accuracy: 0.8911 - val_loss: 0.3711 - val_accuracy: 0.8361\n",
      "Epoch 80/100\n",
      "35/35 [==============================] - 0s 2ms/step - loss: 0.3124 - accuracy: 0.8929 - val_loss: 0.3682 - val_accuracy: 0.8415\n",
      "Epoch 81/100\n",
      "35/35 [==============================] - 0s 2ms/step - loss: 0.3116 - accuracy: 0.8929 - val_loss: 0.3685 - val_accuracy: 0.8415\n",
      "Epoch 82/100\n",
      "35/35 [==============================] - 0s 2ms/step - loss: 0.3102 - accuracy: 0.8929 - val_loss: 0.3674 - val_accuracy: 0.8361\n",
      "Epoch 83/100\n",
      "35/35 [==============================] - 0s 2ms/step - loss: 0.3085 - accuracy: 0.8911 - val_loss: 0.3655 - val_accuracy: 0.8415\n",
      "Epoch 84/100\n",
      "35/35 [==============================] - 0s 2ms/step - loss: 0.3084 - accuracy: 0.8911 - val_loss: 0.3638 - val_accuracy: 0.8415\n",
      "Epoch 85/100\n",
      "35/35 [==============================] - 0s 2ms/step - loss: 0.3071 - accuracy: 0.8929 - val_loss: 0.3632 - val_accuracy: 0.8415\n",
      "Epoch 86/100\n",
      "35/35 [==============================] - 0s 2ms/step - loss: 0.3057 - accuracy: 0.8929 - val_loss: 0.3618 - val_accuracy: 0.8470\n",
      "Epoch 87/100\n",
      "35/35 [==============================] - 0s 2ms/step - loss: 0.3047 - accuracy: 0.8929 - val_loss: 0.3603 - val_accuracy: 0.8579\n",
      "Epoch 88/100\n",
      "35/35 [==============================] - 0s 2ms/step - loss: 0.3046 - accuracy: 0.8929 - val_loss: 0.3597 - val_accuracy: 0.8525\n",
      "Epoch 89/100\n",
      "35/35 [==============================] - 0s 2ms/step - loss: 0.3032 - accuracy: 0.8929 - val_loss: 0.3595 - val_accuracy: 0.8525\n",
      "Epoch 90/100\n",
      "35/35 [==============================] - 0s 2ms/step - loss: 0.3017 - accuracy: 0.8929 - val_loss: 0.3585 - val_accuracy: 0.8579\n",
      "Epoch 91/100\n",
      "35/35 [==============================] - 0s 2ms/step - loss: 0.3014 - accuracy: 0.8966 - val_loss: 0.3573 - val_accuracy: 0.8634\n",
      "Epoch 92/100\n",
      "35/35 [==============================] - 0s 2ms/step - loss: 0.3005 - accuracy: 0.8947 - val_loss: 0.3558 - val_accuracy: 0.8634\n",
      "Epoch 93/100\n",
      "35/35 [==============================] - 0s 2ms/step - loss: 0.2992 - accuracy: 0.8947 - val_loss: 0.3545 - val_accuracy: 0.8634\n",
      "Epoch 94/100\n",
      "35/35 [==============================] - 0s 2ms/step - loss: 0.2983 - accuracy: 0.8966 - val_loss: 0.3530 - val_accuracy: 0.8634\n",
      "Epoch 95/100\n",
      "35/35 [==============================] - 0s 3ms/step - loss: 0.2975 - accuracy: 0.8929 - val_loss: 0.3541 - val_accuracy: 0.8689\n",
      "Epoch 96/100\n",
      "35/35 [==============================] - 0s 2ms/step - loss: 0.2965 - accuracy: 0.8929 - val_loss: 0.3522 - val_accuracy: 0.8634\n",
      "Epoch 97/100\n",
      "35/35 [==============================] - 0s 2ms/step - loss: 0.2953 - accuracy: 0.8947 - val_loss: 0.3524 - val_accuracy: 0.8634\n",
      "Epoch 98/100\n",
      "35/35 [==============================] - 0s 2ms/step - loss: 0.2941 - accuracy: 0.8984 - val_loss: 0.3514 - val_accuracy: 0.8634\n",
      "Epoch 99/100\n",
      "35/35 [==============================] - 0s 2ms/step - loss: 0.2935 - accuracy: 0.8966 - val_loss: 0.3502 - val_accuracy: 0.8689\n",
      "Epoch 100/100\n",
      "35/35 [==============================] - 0s 2ms/step - loss: 0.2921 - accuracy: 0.9002 - val_loss: 0.3482 - val_accuracy: 0.8689\n",
      "processing fold #2\n",
      "Epoch 1/100\n",
      "35/35 [==============================] - 1s 6ms/step - loss: 0.6683 - accuracy: 0.6243 - val_loss: 0.7122 - val_accuracy: 0.5519\n",
      "Epoch 2/100\n",
      "35/35 [==============================] - 0s 2ms/step - loss: 0.6466 - accuracy: 0.6969 - val_loss: 0.7031 - val_accuracy: 0.6230\n",
      "Epoch 3/100\n",
      "35/35 [==============================] - 0s 2ms/step - loss: 0.6232 - accuracy: 0.7260 - val_loss: 0.6894 - val_accuracy: 0.7049\n",
      "Epoch 4/100\n",
      "35/35 [==============================] - 0s 2ms/step - loss: 0.5989 - accuracy: 0.7477 - val_loss: 0.6701 - val_accuracy: 0.7486\n",
      "Epoch 5/100\n",
      "35/35 [==============================] - 0s 2ms/step - loss: 0.5705 - accuracy: 0.7804 - val_loss: 0.6465 - val_accuracy: 0.7923\n",
      "Epoch 6/100\n",
      "35/35 [==============================] - 0s 2ms/step - loss: 0.5405 - accuracy: 0.8022 - val_loss: 0.6172 - val_accuracy: 0.8251\n",
      "Epoch 7/100\n",
      "35/35 [==============================] - 0s 3ms/step - loss: 0.5095 - accuracy: 0.8149 - val_loss: 0.5848 - val_accuracy: 0.8251\n",
      "Epoch 8/100\n",
      "35/35 [==============================] - 0s 2ms/step - loss: 0.4822 - accuracy: 0.8203 - val_loss: 0.5498 - val_accuracy: 0.8306\n",
      "Epoch 9/100\n",
      "35/35 [==============================] - 0s 2ms/step - loss: 0.4588 - accuracy: 0.8203 - val_loss: 0.5152 - val_accuracy: 0.8415\n",
      "Epoch 10/100\n",
      "35/35 [==============================] - 0s 2ms/step - loss: 0.4384 - accuracy: 0.8258 - val_loss: 0.4822 - val_accuracy: 0.8470\n",
      "Epoch 11/100\n",
      "35/35 [==============================] - 0s 2ms/step - loss: 0.4220 - accuracy: 0.8276 - val_loss: 0.4560 - val_accuracy: 0.8525\n",
      "Epoch 12/100\n",
      "35/35 [==============================] - 0s 2ms/step - loss: 0.4082 - accuracy: 0.8348 - val_loss: 0.4348 - val_accuracy: 0.8525\n",
      "Epoch 13/100\n",
      "35/35 [==============================] - 0s 2ms/step - loss: 0.3976 - accuracy: 0.8421 - val_loss: 0.4166 - val_accuracy: 0.8634\n",
      "Epoch 14/100\n",
      "35/35 [==============================] - 0s 2ms/step - loss: 0.3884 - accuracy: 0.8421 - val_loss: 0.4021 - val_accuracy: 0.8634\n",
      "Epoch 15/100\n",
      "35/35 [==============================] - 0s 2ms/step - loss: 0.3803 - accuracy: 0.8421 - val_loss: 0.3907 - val_accuracy: 0.8634\n",
      "Epoch 16/100\n",
      "35/35 [==============================] - 0s 2ms/step - loss: 0.3726 - accuracy: 0.8421 - val_loss: 0.3807 - val_accuracy: 0.8689\n",
      "Epoch 17/100\n",
      "35/35 [==============================] - 0s 2ms/step - loss: 0.3656 - accuracy: 0.8512 - val_loss: 0.3717 - val_accuracy: 0.8689\n",
      "Epoch 18/100\n",
      "35/35 [==============================] - 0s 2ms/step - loss: 0.3588 - accuracy: 0.8530 - val_loss: 0.3632 - val_accuracy: 0.8743\n",
      "Epoch 19/100\n",
      "35/35 [==============================] - 0s 2ms/step - loss: 0.3524 - accuracy: 0.8603 - val_loss: 0.3568 - val_accuracy: 0.8743\n",
      "Epoch 20/100\n",
      "35/35 [==============================] - 0s 2ms/step - loss: 0.3464 - accuracy: 0.8603 - val_loss: 0.3500 - val_accuracy: 0.8743\n",
      "Epoch 21/100\n",
      "35/35 [==============================] - 0s 3ms/step - loss: 0.3410 - accuracy: 0.8621 - val_loss: 0.3442 - val_accuracy: 0.8798\n",
      "Epoch 22/100\n",
      "35/35 [==============================] - 0s 2ms/step - loss: 0.3360 - accuracy: 0.8621 - val_loss: 0.3393 - val_accuracy: 0.8798\n",
      "Epoch 23/100\n",
      "35/35 [==============================] - 0s 2ms/step - loss: 0.3311 - accuracy: 0.8675 - val_loss: 0.3338 - val_accuracy: 0.8798\n",
      "Epoch 24/100\n",
      "35/35 [==============================] - 0s 2ms/step - loss: 0.3267 - accuracy: 0.8693 - val_loss: 0.3300 - val_accuracy: 0.8798\n",
      "Epoch 25/100\n",
      "35/35 [==============================] - 0s 2ms/step - loss: 0.3225 - accuracy: 0.8711 - val_loss: 0.3249 - val_accuracy: 0.8798\n",
      "Epoch 26/100\n",
      "35/35 [==============================] - 0s 2ms/step - loss: 0.3189 - accuracy: 0.8730 - val_loss: 0.3222 - val_accuracy: 0.8743\n",
      "Epoch 27/100\n",
      "35/35 [==============================] - 0s 2ms/step - loss: 0.3152 - accuracy: 0.8766 - val_loss: 0.3186 - val_accuracy: 0.8798\n",
      "Epoch 28/100\n",
      "35/35 [==============================] - 0s 2ms/step - loss: 0.3117 - accuracy: 0.8820 - val_loss: 0.3162 - val_accuracy: 0.8907\n",
      "Epoch 29/100\n",
      "35/35 [==============================] - 0s 2ms/step - loss: 0.3090 - accuracy: 0.8857 - val_loss: 0.3140 - val_accuracy: 0.8907\n",
      "Epoch 30/100\n",
      "35/35 [==============================] - 0s 2ms/step - loss: 0.3066 - accuracy: 0.8838 - val_loss: 0.3128 - val_accuracy: 0.8907\n",
      "Epoch 31/100\n"
     ]
    },
    {
     "name": "stdout",
     "output_type": "stream",
     "text": [
      "35/35 [==============================] - 0s 2ms/step - loss: 0.3035 - accuracy: 0.8857 - val_loss: 0.3112 - val_accuracy: 0.8907\n",
      "Epoch 32/100\n",
      "35/35 [==============================] - 0s 2ms/step - loss: 0.3010 - accuracy: 0.8857 - val_loss: 0.3097 - val_accuracy: 0.8907\n",
      "Epoch 33/100\n",
      "35/35 [==============================] - 0s 2ms/step - loss: 0.2987 - accuracy: 0.8893 - val_loss: 0.3089 - val_accuracy: 0.8907\n",
      "Epoch 34/100\n",
      "35/35 [==============================] - 0s 2ms/step - loss: 0.2962 - accuracy: 0.8911 - val_loss: 0.3086 - val_accuracy: 0.8962\n",
      "Epoch 35/100\n",
      "35/35 [==============================] - 0s 2ms/step - loss: 0.2942 - accuracy: 0.8893 - val_loss: 0.3075 - val_accuracy: 0.8962\n",
      "Epoch 36/100\n",
      "35/35 [==============================] - 0s 2ms/step - loss: 0.2921 - accuracy: 0.8929 - val_loss: 0.3067 - val_accuracy: 0.8907\n",
      "Epoch 37/100\n",
      "35/35 [==============================] - 0s 2ms/step - loss: 0.2906 - accuracy: 0.8911 - val_loss: 0.3064 - val_accuracy: 0.8907\n",
      "Epoch 38/100\n",
      "35/35 [==============================] - 0s 2ms/step - loss: 0.2881 - accuracy: 0.8911 - val_loss: 0.3059 - val_accuracy: 0.8907\n",
      "Epoch 39/100\n",
      "35/35 [==============================] - 0s 2ms/step - loss: 0.2869 - accuracy: 0.8911 - val_loss: 0.3058 - val_accuracy: 0.8907\n",
      "Epoch 40/100\n",
      "35/35 [==============================] - 0s 2ms/step - loss: 0.2851 - accuracy: 0.8911 - val_loss: 0.3058 - val_accuracy: 0.8907\n",
      "Epoch 41/100\n",
      "35/35 [==============================] - 0s 2ms/step - loss: 0.2835 - accuracy: 0.8911 - val_loss: 0.3057 - val_accuracy: 0.8907\n",
      "Epoch 42/100\n",
      "35/35 [==============================] - 0s 2ms/step - loss: 0.2819 - accuracy: 0.8911 - val_loss: 0.3063 - val_accuracy: 0.8852\n",
      "Epoch 43/100\n",
      "35/35 [==============================] - 0s 2ms/step - loss: 0.2804 - accuracy: 0.8911 - val_loss: 0.3070 - val_accuracy: 0.8852\n",
      "Epoch 44/100\n",
      "35/35 [==============================] - 0s 2ms/step - loss: 0.2790 - accuracy: 0.8911 - val_loss: 0.3076 - val_accuracy: 0.8852\n",
      "Epoch 45/100\n",
      "35/35 [==============================] - 0s 2ms/step - loss: 0.2775 - accuracy: 0.8929 - val_loss: 0.3075 - val_accuracy: 0.8852\n",
      "Epoch 46/100\n",
      "35/35 [==============================] - 0s 3ms/step - loss: 0.2759 - accuracy: 0.8966 - val_loss: 0.3081 - val_accuracy: 0.8852\n",
      "Epoch 47/100\n",
      "35/35 [==============================] - 0s 2ms/step - loss: 0.2745 - accuracy: 0.8966 - val_loss: 0.3089 - val_accuracy: 0.8852\n",
      "Epoch 48/100\n",
      "35/35 [==============================] - 0s 2ms/step - loss: 0.2728 - accuracy: 0.8984 - val_loss: 0.3094 - val_accuracy: 0.8852\n",
      "Epoch 49/100\n",
      "35/35 [==============================] - 0s 2ms/step - loss: 0.2718 - accuracy: 0.8984 - val_loss: 0.3106 - val_accuracy: 0.8852\n",
      "Epoch 50/100\n",
      "35/35 [==============================] - 0s 2ms/step - loss: 0.2704 - accuracy: 0.8984 - val_loss: 0.3124 - val_accuracy: 0.8852\n",
      "Epoch 51/100\n",
      "35/35 [==============================] - 0s 2ms/step - loss: 0.2687 - accuracy: 0.8984 - val_loss: 0.3118 - val_accuracy: 0.8852\n",
      "Epoch 52/100\n",
      "35/35 [==============================] - 0s 2ms/step - loss: 0.2679 - accuracy: 0.9002 - val_loss: 0.3129 - val_accuracy: 0.8852\n",
      "Epoch 53/100\n",
      "35/35 [==============================] - 0s 2ms/step - loss: 0.2662 - accuracy: 0.8984 - val_loss: 0.3131 - val_accuracy: 0.8852\n",
      "Epoch 54/100\n",
      "35/35 [==============================] - 0s 2ms/step - loss: 0.2652 - accuracy: 0.9020 - val_loss: 0.3145 - val_accuracy: 0.8852\n",
      "Epoch 55/100\n",
      "35/35 [==============================] - 0s 2ms/step - loss: 0.2638 - accuracy: 0.9020 - val_loss: 0.3144 - val_accuracy: 0.8907\n",
      "Epoch 56/100\n",
      "35/35 [==============================] - 0s 2ms/step - loss: 0.2625 - accuracy: 0.9038 - val_loss: 0.3155 - val_accuracy: 0.8798\n",
      "Epoch 57/100\n",
      "35/35 [==============================] - 0s 2ms/step - loss: 0.2612 - accuracy: 0.9020 - val_loss: 0.3152 - val_accuracy: 0.8852\n",
      "Epoch 58/100\n",
      "35/35 [==============================] - 0s 2ms/step - loss: 0.2604 - accuracy: 0.9038 - val_loss: 0.3179 - val_accuracy: 0.8852\n",
      "Epoch 59/100\n",
      "35/35 [==============================] - 0s 2ms/step - loss: 0.2593 - accuracy: 0.9020 - val_loss: 0.3189 - val_accuracy: 0.8852\n",
      "Epoch 60/100\n",
      "35/35 [==============================] - 0s 2ms/step - loss: 0.2583 - accuracy: 0.9056 - val_loss: 0.3190 - val_accuracy: 0.8852\n",
      "Epoch 61/100\n",
      "35/35 [==============================] - 0s 2ms/step - loss: 0.2569 - accuracy: 0.9038 - val_loss: 0.3200 - val_accuracy: 0.8852\n",
      "Epoch 62/100\n",
      "35/35 [==============================] - 0s 2ms/step - loss: 0.2564 - accuracy: 0.9056 - val_loss: 0.3214 - val_accuracy: 0.8798\n",
      "Epoch 63/100\n",
      "35/35 [==============================] - 0s 2ms/step - loss: 0.2557 - accuracy: 0.9056 - val_loss: 0.3220 - val_accuracy: 0.8743\n",
      "Epoch 64/100\n",
      "35/35 [==============================] - 0s 2ms/step - loss: 0.2545 - accuracy: 0.9056 - val_loss: 0.3236 - val_accuracy: 0.8743\n",
      "Epoch 65/100\n",
      "35/35 [==============================] - 0s 2ms/step - loss: 0.2534 - accuracy: 0.9056 - val_loss: 0.3241 - val_accuracy: 0.8743\n",
      "Epoch 66/100\n",
      "35/35 [==============================] - 0s 2ms/step - loss: 0.2524 - accuracy: 0.9056 - val_loss: 0.3239 - val_accuracy: 0.8743\n",
      "Epoch 67/100\n",
      "35/35 [==============================] - 0s 2ms/step - loss: 0.2516 - accuracy: 0.9074 - val_loss: 0.3239 - val_accuracy: 0.8743\n",
      "Epoch 68/100\n",
      "35/35 [==============================] - 0s 2ms/step - loss: 0.2504 - accuracy: 0.9056 - val_loss: 0.3257 - val_accuracy: 0.8743\n",
      "Epoch 69/100\n",
      "35/35 [==============================] - 0s 2ms/step - loss: 0.2497 - accuracy: 0.9038 - val_loss: 0.3258 - val_accuracy: 0.8743\n",
      "Epoch 70/100\n",
      "35/35 [==============================] - 0s 3ms/step - loss: 0.2494 - accuracy: 0.9038 - val_loss: 0.3270 - val_accuracy: 0.8743\n",
      "Epoch 71/100\n",
      "35/35 [==============================] - 0s 3ms/step - loss: 0.2485 - accuracy: 0.9038 - val_loss: 0.3277 - val_accuracy: 0.8743\n",
      "Epoch 72/100\n",
      "35/35 [==============================] - 0s 2ms/step - loss: 0.2475 - accuracy: 0.9020 - val_loss: 0.3284 - val_accuracy: 0.8743\n",
      "Epoch 73/100\n",
      "35/35 [==============================] - 0s 3ms/step - loss: 0.2469 - accuracy: 0.9020 - val_loss: 0.3288 - val_accuracy: 0.8743\n",
      "Epoch 74/100\n",
      "35/35 [==============================] - 0s 3ms/step - loss: 0.2467 - accuracy: 0.9020 - val_loss: 0.3306 - val_accuracy: 0.8743\n",
      "Epoch 75/100\n",
      "35/35 [==============================] - 0s 3ms/step - loss: 0.2458 - accuracy: 0.9020 - val_loss: 0.3300 - val_accuracy: 0.8743\n",
      "Epoch 76/100\n",
      "35/35 [==============================] - 0s 3ms/step - loss: 0.2454 - accuracy: 0.9038 - val_loss: 0.3316 - val_accuracy: 0.8743\n",
      "Epoch 77/100\n",
      "35/35 [==============================] - 0s 3ms/step - loss: 0.2445 - accuracy: 0.9038 - val_loss: 0.3314 - val_accuracy: 0.8743\n",
      "Epoch 78/100\n",
      "35/35 [==============================] - 0s 3ms/step - loss: 0.2442 - accuracy: 0.9038 - val_loss: 0.3335 - val_accuracy: 0.8743\n",
      "Epoch 79/100\n",
      "35/35 [==============================] - 0s 3ms/step - loss: 0.2438 - accuracy: 0.9038 - val_loss: 0.3339 - val_accuracy: 0.8743\n",
      "Epoch 80/100\n",
      "35/35 [==============================] - 0s 3ms/step - loss: 0.2433 - accuracy: 0.9038 - val_loss: 0.3342 - val_accuracy: 0.8743\n",
      "Epoch 81/100\n",
      "35/35 [==============================] - 0s 3ms/step - loss: 0.2429 - accuracy: 0.9038 - val_loss: 0.3360 - val_accuracy: 0.8743\n",
      "Epoch 82/100\n",
      "35/35 [==============================] - 0s 3ms/step - loss: 0.2417 - accuracy: 0.9038 - val_loss: 0.3361 - val_accuracy: 0.8743\n",
      "Epoch 83/100\n",
      "35/35 [==============================] - 0s 3ms/step - loss: 0.2418 - accuracy: 0.9038 - val_loss: 0.3369 - val_accuracy: 0.8743\n",
      "Epoch 84/100\n",
      "35/35 [==============================] - 0s 3ms/step - loss: 0.2414 - accuracy: 0.9038 - val_loss: 0.3378 - val_accuracy: 0.8743\n",
      "Epoch 85/100\n",
      "35/35 [==============================] - 0s 3ms/step - loss: 0.2405 - accuracy: 0.9038 - val_loss: 0.3392 - val_accuracy: 0.8689\n",
      "Epoch 86/100\n",
      "35/35 [==============================] - 0s 3ms/step - loss: 0.2404 - accuracy: 0.9020 - val_loss: 0.3394 - val_accuracy: 0.8689\n",
      "Epoch 87/100\n",
      "35/35 [==============================] - 0s 2ms/step - loss: 0.2398 - accuracy: 0.9038 - val_loss: 0.3413 - val_accuracy: 0.8689\n",
      "Epoch 88/100\n",
      "35/35 [==============================] - 0s 3ms/step - loss: 0.2394 - accuracy: 0.9038 - val_loss: 0.3412 - val_accuracy: 0.8634\n"
     ]
    },
    {
     "name": "stdout",
     "output_type": "stream",
     "text": [
      "Epoch 89/100\n",
      "35/35 [==============================] - 0s 3ms/step - loss: 0.2387 - accuracy: 0.9056 - val_loss: 0.3412 - val_accuracy: 0.8634\n",
      "Epoch 90/100\n",
      "35/35 [==============================] - 0s 3ms/step - loss: 0.2388 - accuracy: 0.9056 - val_loss: 0.3412 - val_accuracy: 0.8634\n",
      "Epoch 91/100\n",
      "35/35 [==============================] - 0s 3ms/step - loss: 0.2382 - accuracy: 0.9056 - val_loss: 0.3421 - val_accuracy: 0.8634\n",
      "Epoch 92/100\n",
      "35/35 [==============================] - 0s 3ms/step - loss: 0.2376 - accuracy: 0.9056 - val_loss: 0.3421 - val_accuracy: 0.8634\n",
      "Epoch 93/100\n",
      "35/35 [==============================] - 0s 2ms/step - loss: 0.2369 - accuracy: 0.9074 - val_loss: 0.3430 - val_accuracy: 0.8634\n",
      "Epoch 94/100\n",
      "35/35 [==============================] - 0s 3ms/step - loss: 0.2366 - accuracy: 0.9056 - val_loss: 0.3438 - val_accuracy: 0.8634\n",
      "Epoch 95/100\n",
      "35/35 [==============================] - 0s 3ms/step - loss: 0.2365 - accuracy: 0.9038 - val_loss: 0.3450 - val_accuracy: 0.8634\n",
      "Epoch 96/100\n",
      "35/35 [==============================] - 0s 3ms/step - loss: 0.2364 - accuracy: 0.9056 - val_loss: 0.3468 - val_accuracy: 0.8634\n",
      "Epoch 97/100\n",
      "35/35 [==============================] - 0s 3ms/step - loss: 0.2355 - accuracy: 0.9074 - val_loss: 0.3470 - val_accuracy: 0.8634\n",
      "Epoch 98/100\n",
      "35/35 [==============================] - 0s 3ms/step - loss: 0.2350 - accuracy: 0.9074 - val_loss: 0.3480 - val_accuracy: 0.8634\n",
      "Epoch 99/100\n",
      "35/35 [==============================] - 0s 2ms/step - loss: 0.2345 - accuracy: 0.9056 - val_loss: 0.3485 - val_accuracy: 0.8634\n",
      "Epoch 100/100\n",
      "35/35 [==============================] - 0s 2ms/step - loss: 0.2338 - accuracy: 0.9074 - val_loss: 0.3469 - val_accuracy: 0.8634\n",
      "processing fold #3\n",
      "Epoch 1/100\n",
      "35/35 [==============================] - 1s 7ms/step - loss: 0.7472 - accuracy: 0.5354 - val_loss: 0.7378 - val_accuracy: 0.5246\n",
      "Epoch 2/100\n",
      "35/35 [==============================] - 0s 3ms/step - loss: 0.6899 - accuracy: 0.5880 - val_loss: 0.6995 - val_accuracy: 0.5628\n",
      "Epoch 3/100\n",
      "35/35 [==============================] - 0s 3ms/step - loss: 0.6447 - accuracy: 0.6461 - val_loss: 0.6680 - val_accuracy: 0.5792\n",
      "Epoch 4/100\n",
      "35/35 [==============================] - 0s 3ms/step - loss: 0.6016 - accuracy: 0.7005 - val_loss: 0.6397 - val_accuracy: 0.6230\n",
      "Epoch 5/100\n",
      "35/35 [==============================] - 0s 3ms/step - loss: 0.5586 - accuracy: 0.7477 - val_loss: 0.6128 - val_accuracy: 0.6612\n",
      "Epoch 6/100\n",
      "35/35 [==============================] - 0s 2ms/step - loss: 0.5135 - accuracy: 0.8113 - val_loss: 0.5886 - val_accuracy: 0.6940\n",
      "Epoch 7/100\n",
      "35/35 [==============================] - 0s 2ms/step - loss: 0.4708 - accuracy: 0.8457 - val_loss: 0.5650 - val_accuracy: 0.7213\n",
      "Epoch 8/100\n",
      "35/35 [==============================] - 0s 3ms/step - loss: 0.4284 - accuracy: 0.8766 - val_loss: 0.5435 - val_accuracy: 0.7322\n",
      "Epoch 9/100\n",
      "35/35 [==============================] - 0s 2ms/step - loss: 0.3911 - accuracy: 0.8893 - val_loss: 0.5259 - val_accuracy: 0.7541\n",
      "Epoch 10/100\n",
      "35/35 [==============================] - 0s 3ms/step - loss: 0.3593 - accuracy: 0.8947 - val_loss: 0.5151 - val_accuracy: 0.7760\n",
      "Epoch 11/100\n",
      "35/35 [==============================] - 0s 3ms/step - loss: 0.3330 - accuracy: 0.9002 - val_loss: 0.5076 - val_accuracy: 0.7869\n",
      "Epoch 12/100\n",
      "35/35 [==============================] - 0s 2ms/step - loss: 0.3115 - accuracy: 0.9002 - val_loss: 0.5038 - val_accuracy: 0.7923\n",
      "Epoch 13/100\n",
      "35/35 [==============================] - 0s 2ms/step - loss: 0.2940 - accuracy: 0.9002 - val_loss: 0.5035 - val_accuracy: 0.7869\n",
      "Epoch 14/100\n",
      "35/35 [==============================] - 0s 2ms/step - loss: 0.2804 - accuracy: 0.8984 - val_loss: 0.5062 - val_accuracy: 0.7978\n",
      "Epoch 15/100\n",
      "35/35 [==============================] - 0s 2ms/step - loss: 0.2702 - accuracy: 0.9002 - val_loss: 0.5101 - val_accuracy: 0.7978\n",
      "Epoch 16/100\n",
      "35/35 [==============================] - 0s 3ms/step - loss: 0.2623 - accuracy: 0.8984 - val_loss: 0.5149 - val_accuracy: 0.7978\n",
      "Epoch 17/100\n",
      "35/35 [==============================] - 0s 2ms/step - loss: 0.2550 - accuracy: 0.8984 - val_loss: 0.5199 - val_accuracy: 0.7978\n",
      "Epoch 18/100\n",
      "35/35 [==============================] - 0s 2ms/step - loss: 0.2490 - accuracy: 0.9020 - val_loss: 0.5266 - val_accuracy: 0.8033\n",
      "Epoch 19/100\n",
      "35/35 [==============================] - 0s 3ms/step - loss: 0.2438 - accuracy: 0.9038 - val_loss: 0.5330 - val_accuracy: 0.8142\n",
      "Epoch 20/100\n",
      "35/35 [==============================] - 0s 3ms/step - loss: 0.2392 - accuracy: 0.9093 - val_loss: 0.5381 - val_accuracy: 0.8142\n",
      "Epoch 21/100\n",
      "35/35 [==============================] - 0s 2ms/step - loss: 0.2356 - accuracy: 0.9074 - val_loss: 0.5429 - val_accuracy: 0.8087\n",
      "Epoch 22/100\n",
      "35/35 [==============================] - 0s 2ms/step - loss: 0.2322 - accuracy: 0.9093 - val_loss: 0.5477 - val_accuracy: 0.8033\n",
      "Epoch 23/100\n",
      "35/35 [==============================] - 0s 2ms/step - loss: 0.2291 - accuracy: 0.9129 - val_loss: 0.5526 - val_accuracy: 0.8033\n",
      "Epoch 24/100\n",
      "35/35 [==============================] - 0s 3ms/step - loss: 0.2267 - accuracy: 0.9147 - val_loss: 0.5583 - val_accuracy: 0.8033\n",
      "Epoch 25/100\n",
      "35/35 [==============================] - 0s 3ms/step - loss: 0.2238 - accuracy: 0.9165 - val_loss: 0.5626 - val_accuracy: 0.8033\n",
      "Epoch 26/100\n",
      "35/35 [==============================] - 0s 2ms/step - loss: 0.2220 - accuracy: 0.9129 - val_loss: 0.5662 - val_accuracy: 0.8033\n",
      "Epoch 27/100\n",
      "35/35 [==============================] - 0s 2ms/step - loss: 0.2198 - accuracy: 0.9183 - val_loss: 0.5691 - val_accuracy: 0.8033\n",
      "Epoch 28/100\n",
      "35/35 [==============================] - 0s 3ms/step - loss: 0.2182 - accuracy: 0.9201 - val_loss: 0.5715 - val_accuracy: 0.8087\n",
      "Epoch 29/100\n",
      "35/35 [==============================] - 0s 3ms/step - loss: 0.2163 - accuracy: 0.9201 - val_loss: 0.5760 - val_accuracy: 0.8087\n",
      "Epoch 30/100\n",
      "35/35 [==============================] - 0s 3ms/step - loss: 0.2149 - accuracy: 0.9220 - val_loss: 0.5794 - val_accuracy: 0.8087\n",
      "Epoch 31/100\n",
      "35/35 [==============================] - 0s 3ms/step - loss: 0.2131 - accuracy: 0.9256 - val_loss: 0.5829 - val_accuracy: 0.8033\n",
      "Epoch 32/100\n",
      "35/35 [==============================] - 0s 3ms/step - loss: 0.2119 - accuracy: 0.9256 - val_loss: 0.5865 - val_accuracy: 0.8033\n",
      "Epoch 33/100\n",
      "35/35 [==============================] - 0s 2ms/step - loss: 0.2106 - accuracy: 0.9256 - val_loss: 0.5901 - val_accuracy: 0.8087\n",
      "Epoch 34/100\n",
      "35/35 [==============================] - 0s 2ms/step - loss: 0.2096 - accuracy: 0.9256 - val_loss: 0.5930 - val_accuracy: 0.8033\n",
      "Epoch 35/100\n",
      "35/35 [==============================] - 0s 2ms/step - loss: 0.2084 - accuracy: 0.9256 - val_loss: 0.5956 - val_accuracy: 0.8033\n",
      "Epoch 36/100\n",
      "35/35 [==============================] - 0s 2ms/step - loss: 0.2074 - accuracy: 0.9256 - val_loss: 0.5974 - val_accuracy: 0.8033\n",
      "Epoch 37/100\n",
      "35/35 [==============================] - 0s 2ms/step - loss: 0.2061 - accuracy: 0.9274 - val_loss: 0.5996 - val_accuracy: 0.8087\n",
      "Epoch 38/100\n",
      "35/35 [==============================] - 0s 2ms/step - loss: 0.2053 - accuracy: 0.9274 - val_loss: 0.6024 - val_accuracy: 0.8087\n",
      "Epoch 39/100\n",
      "35/35 [==============================] - 0s 2ms/step - loss: 0.2041 - accuracy: 0.9256 - val_loss: 0.6046 - val_accuracy: 0.8087\n",
      "Epoch 40/100\n",
      "35/35 [==============================] - 0s 3ms/step - loss: 0.2031 - accuracy: 0.9292 - val_loss: 0.6089 - val_accuracy: 0.8087\n",
      "Epoch 41/100\n",
      "35/35 [==============================] - 0s 3ms/step - loss: 0.2021 - accuracy: 0.9292 - val_loss: 0.6113 - val_accuracy: 0.8087\n",
      "Epoch 42/100\n",
      "35/35 [==============================] - 0s 2ms/step - loss: 0.2012 - accuracy: 0.9310 - val_loss: 0.6141 - val_accuracy: 0.8033\n",
      "Epoch 43/100\n",
      "35/35 [==============================] - 0s 2ms/step - loss: 0.2003 - accuracy: 0.9310 - val_loss: 0.6172 - val_accuracy: 0.8033\n",
      "Epoch 44/100\n",
      "35/35 [==============================] - 0s 2ms/step - loss: 0.1996 - accuracy: 0.9310 - val_loss: 0.6193 - val_accuracy: 0.8033\n",
      "Epoch 45/100\n",
      "35/35 [==============================] - 0s 2ms/step - loss: 0.1989 - accuracy: 0.9310 - val_loss: 0.6200 - val_accuracy: 0.8033\n",
      "Epoch 46/100\n"
     ]
    },
    {
     "name": "stdout",
     "output_type": "stream",
     "text": [
      "35/35 [==============================] - 0s 2ms/step - loss: 0.1977 - accuracy: 0.9310 - val_loss: 0.6229 - val_accuracy: 0.7923\n",
      "Epoch 47/100\n",
      "35/35 [==============================] - 0s 2ms/step - loss: 0.1974 - accuracy: 0.9310 - val_loss: 0.6258 - val_accuracy: 0.7923\n",
      "Epoch 48/100\n",
      "35/35 [==============================] - 0s 3ms/step - loss: 0.1964 - accuracy: 0.9328 - val_loss: 0.6307 - val_accuracy: 0.7869\n",
      "Epoch 49/100\n",
      "35/35 [==============================] - 0s 2ms/step - loss: 0.1957 - accuracy: 0.9310 - val_loss: 0.6323 - val_accuracy: 0.7923\n",
      "Epoch 50/100\n",
      "35/35 [==============================] - 0s 2ms/step - loss: 0.1953 - accuracy: 0.9310 - val_loss: 0.6323 - val_accuracy: 0.7923\n",
      "Epoch 51/100\n",
      "35/35 [==============================] - 0s 2ms/step - loss: 0.1944 - accuracy: 0.9310 - val_loss: 0.6333 - val_accuracy: 0.7869\n",
      "Epoch 52/100\n",
      "35/35 [==============================] - 0s 2ms/step - loss: 0.1935 - accuracy: 0.9310 - val_loss: 0.6340 - val_accuracy: 0.7923\n",
      "Epoch 53/100\n",
      "35/35 [==============================] - 0s 2ms/step - loss: 0.1935 - accuracy: 0.9328 - val_loss: 0.6365 - val_accuracy: 0.7869\n",
      "Epoch 54/100\n",
      "35/35 [==============================] - 0s 2ms/step - loss: 0.1927 - accuracy: 0.9310 - val_loss: 0.6385 - val_accuracy: 0.7923\n",
      "Epoch 55/100\n",
      "35/35 [==============================] - 0s 2ms/step - loss: 0.1924 - accuracy: 0.9328 - val_loss: 0.6390 - val_accuracy: 0.7923\n",
      "Epoch 56/100\n",
      "35/35 [==============================] - 0s 2ms/step - loss: 0.1914 - accuracy: 0.9328 - val_loss: 0.6413 - val_accuracy: 0.7869\n",
      "Epoch 57/100\n",
      "35/35 [==============================] - 0s 2ms/step - loss: 0.1912 - accuracy: 0.9310 - val_loss: 0.6443 - val_accuracy: 0.7869\n",
      "Epoch 58/100\n",
      "35/35 [==============================] - 0s 2ms/step - loss: 0.1905 - accuracy: 0.9328 - val_loss: 0.6430 - val_accuracy: 0.7923\n",
      "Epoch 59/100\n",
      "35/35 [==============================] - 0s 2ms/step - loss: 0.1900 - accuracy: 0.9310 - val_loss: 0.6451 - val_accuracy: 0.7869\n",
      "Epoch 60/100\n",
      "35/35 [==============================] - 0s 2ms/step - loss: 0.1894 - accuracy: 0.9328 - val_loss: 0.6476 - val_accuracy: 0.7869\n",
      "Epoch 61/100\n",
      "35/35 [==============================] - 0s 2ms/step - loss: 0.1890 - accuracy: 0.9310 - val_loss: 0.6474 - val_accuracy: 0.7869\n",
      "Epoch 62/100\n",
      "35/35 [==============================] - 0s 2ms/step - loss: 0.1888 - accuracy: 0.9328 - val_loss: 0.6494 - val_accuracy: 0.7869\n",
      "Epoch 63/100\n",
      "35/35 [==============================] - 0s 2ms/step - loss: 0.1878 - accuracy: 0.9310 - val_loss: 0.6526 - val_accuracy: 0.7814\n",
      "Epoch 64/100\n",
      "35/35 [==============================] - 0s 2ms/step - loss: 0.1876 - accuracy: 0.9328 - val_loss: 0.6524 - val_accuracy: 0.7869\n",
      "Epoch 65/100\n",
      "35/35 [==============================] - 0s 2ms/step - loss: 0.1871 - accuracy: 0.9328 - val_loss: 0.6541 - val_accuracy: 0.7814\n",
      "Epoch 66/100\n",
      "35/35 [==============================] - 0s 2ms/step - loss: 0.1866 - accuracy: 0.9328 - val_loss: 0.6579 - val_accuracy: 0.7814\n",
      "Epoch 67/100\n",
      "35/35 [==============================] - 0s 2ms/step - loss: 0.1861 - accuracy: 0.9310 - val_loss: 0.6605 - val_accuracy: 0.7814\n",
      "Epoch 68/100\n",
      "35/35 [==============================] - 0s 2ms/step - loss: 0.1856 - accuracy: 0.9328 - val_loss: 0.6587 - val_accuracy: 0.7869\n",
      "Epoch 69/100\n",
      "35/35 [==============================] - 0s 2ms/step - loss: 0.1849 - accuracy: 0.9310 - val_loss: 0.6579 - val_accuracy: 0.7869\n",
      "Epoch 70/100\n",
      "35/35 [==============================] - 0s 2ms/step - loss: 0.1846 - accuracy: 0.9310 - val_loss: 0.6622 - val_accuracy: 0.7869\n",
      "Epoch 71/100\n",
      "35/35 [==============================] - 0s 2ms/step - loss: 0.1841 - accuracy: 0.9310 - val_loss: 0.6648 - val_accuracy: 0.7814\n",
      "Epoch 72/100\n",
      "35/35 [==============================] - 0s 2ms/step - loss: 0.1837 - accuracy: 0.9328 - val_loss: 0.6664 - val_accuracy: 0.7814\n",
      "Epoch 73/100\n",
      "35/35 [==============================] - 0s 2ms/step - loss: 0.1835 - accuracy: 0.9310 - val_loss: 0.6677 - val_accuracy: 0.7814\n",
      "Epoch 74/100\n",
      "35/35 [==============================] - 0s 2ms/step - loss: 0.1828 - accuracy: 0.9310 - val_loss: 0.6661 - val_accuracy: 0.7814\n",
      "Epoch 75/100\n",
      "35/35 [==============================] - 0s 2ms/step - loss: 0.1822 - accuracy: 0.9310 - val_loss: 0.6700 - val_accuracy: 0.7814\n",
      "Epoch 76/100\n",
      "35/35 [==============================] - 0s 2ms/step - loss: 0.1820 - accuracy: 0.9328 - val_loss: 0.6710 - val_accuracy: 0.7814\n",
      "Epoch 77/100\n",
      "35/35 [==============================] - 0s 2ms/step - loss: 0.1813 - accuracy: 0.9328 - val_loss: 0.6745 - val_accuracy: 0.7814\n",
      "Epoch 78/100\n",
      "35/35 [==============================] - 0s 2ms/step - loss: 0.1812 - accuracy: 0.9347 - val_loss: 0.6760 - val_accuracy: 0.7869\n",
      "Epoch 79/100\n",
      "35/35 [==============================] - 0s 2ms/step - loss: 0.1809 - accuracy: 0.9328 - val_loss: 0.6785 - val_accuracy: 0.7869\n",
      "Epoch 80/100\n",
      "35/35 [==============================] - 0s 2ms/step - loss: 0.1800 - accuracy: 0.9328 - val_loss: 0.6765 - val_accuracy: 0.7869\n",
      "Epoch 81/100\n",
      "35/35 [==============================] - 0s 2ms/step - loss: 0.1795 - accuracy: 0.9347 - val_loss: 0.6766 - val_accuracy: 0.7869\n",
      "Epoch 82/100\n",
      "35/35 [==============================] - 0s 2ms/step - loss: 0.1792 - accuracy: 0.9347 - val_loss: 0.6781 - val_accuracy: 0.7869\n",
      "Epoch 83/100\n",
      "35/35 [==============================] - 0s 2ms/step - loss: 0.1785 - accuracy: 0.9347 - val_loss: 0.6785 - val_accuracy: 0.7869\n",
      "Epoch 84/100\n",
      "35/35 [==============================] - 0s 2ms/step - loss: 0.1783 - accuracy: 0.9347 - val_loss: 0.6815 - val_accuracy: 0.7869\n",
      "Epoch 85/100\n",
      "35/35 [==============================] - 0s 2ms/step - loss: 0.1775 - accuracy: 0.9328 - val_loss: 0.6813 - val_accuracy: 0.7869\n",
      "Epoch 86/100\n",
      "35/35 [==============================] - 0s 2ms/step - loss: 0.1772 - accuracy: 0.9347 - val_loss: 0.6818 - val_accuracy: 0.7869\n",
      "Epoch 87/100\n",
      "35/35 [==============================] - 0s 2ms/step - loss: 0.1767 - accuracy: 0.9347 - val_loss: 0.6830 - val_accuracy: 0.7869\n",
      "Epoch 88/100\n",
      "35/35 [==============================] - 0s 2ms/step - loss: 0.1759 - accuracy: 0.9328 - val_loss: 0.6847 - val_accuracy: 0.7869\n",
      "Epoch 89/100\n",
      "35/35 [==============================] - 0s 3ms/step - loss: 0.1754 - accuracy: 0.9328 - val_loss: 0.6868 - val_accuracy: 0.7869\n",
      "Epoch 90/100\n",
      "35/35 [==============================] - 0s 2ms/step - loss: 0.1753 - accuracy: 0.9347 - val_loss: 0.6862 - val_accuracy: 0.7869\n",
      "Epoch 91/100\n",
      "35/35 [==============================] - 0s 2ms/step - loss: 0.1742 - accuracy: 0.9347 - val_loss: 0.6867 - val_accuracy: 0.7869\n",
      "Epoch 92/100\n",
      "35/35 [==============================] - 0s 2ms/step - loss: 0.1742 - accuracy: 0.9347 - val_loss: 0.6861 - val_accuracy: 0.7869\n",
      "Epoch 93/100\n",
      "35/35 [==============================] - 0s 2ms/step - loss: 0.1735 - accuracy: 0.9347 - val_loss: 0.6858 - val_accuracy: 0.7869\n",
      "Epoch 94/100\n",
      "35/35 [==============================] - 0s 2ms/step - loss: 0.1732 - accuracy: 0.9365 - val_loss: 0.6864 - val_accuracy: 0.7923\n",
      "Epoch 95/100\n",
      "35/35 [==============================] - 0s 2ms/step - loss: 0.1727 - accuracy: 0.9328 - val_loss: 0.6861 - val_accuracy: 0.7923\n",
      "Epoch 96/100\n",
      "35/35 [==============================] - 0s 2ms/step - loss: 0.1722 - accuracy: 0.9328 - val_loss: 0.6857 - val_accuracy: 0.7923\n",
      "Epoch 97/100\n",
      "35/35 [==============================] - 0s 2ms/step - loss: 0.1718 - accuracy: 0.9328 - val_loss: 0.6867 - val_accuracy: 0.7923\n",
      "Epoch 98/100\n",
      "35/35 [==============================] - 0s 2ms/step - loss: 0.1710 - accuracy: 0.9310 - val_loss: 0.6860 - val_accuracy: 0.7923\n",
      "Epoch 99/100\n",
      "35/35 [==============================] - 0s 2ms/step - loss: 0.1707 - accuracy: 0.9292 - val_loss: 0.6868 - val_accuracy: 0.7923\n",
      "Epoch 100/100\n",
      "35/35 [==============================] - 0s 2ms/step - loss: 0.1705 - accuracy: 0.9310 - val_loss: 0.6900 - val_accuracy: 0.7923\n"
     ]
    }
   ],
   "source": [
    "k = 4\n",
    "num_val_samples = len(train_data) // k\n",
    "num_epochs = 100\n",
    "all_loss_histories = []\n",
    "all_val_loss_histories = []\n",
    "all_accu_histories = []\n",
    "all_val_accu_histories = []\n",
    "\n",
    "for i in range(k):\n",
    "    print(f\"processing fold #{i}\")\n",
    "    val_data = train_data[i*num_val_samples: (i+1)*num_val_samples]\n",
    "    val_labels = train_labels[i*num_val_samples: (i+1)*num_val_samples]\n",
    "    \n",
    "    partial_train_data = np.concatenate((train_data[:i*num_val_samples], train_data[(i+1)*num_val_samples:]))\n",
    "    partial_train_labels = np.concatenate((train_labels[:i*num_val_samples], train_labels[(i+1)*num_val_samples:]))\n",
    "    \n",
    "    model = build_model()\n",
    "    history = model.fit(partial_train_data, partial_train_labels, \n",
    "                        epochs=num_epochs, \n",
    "                        batch_size=16, \n",
    "                        validation_data=(val_data, val_labels))\n",
    "    \n",
    "    loss_history = history.history['loss']\n",
    "    val_loss_history = history.history['val_loss']\n",
    "    accu_history = history.history['accuracy']\n",
    "    val_accu_history = history.history['val_accuracy']\n",
    "    \n",
    "    all_loss_histories.append(loss_history)\n",
    "    all_val_loss_histories.append(val_loss_history)\n",
    "    all_accu_histories.append(accu_history)\n",
    "    all_val_accu_histories.append(val_accu_history)\n",
    "\n",
    "average_loss = [np.mean([x[i] for x in all_loss_histories]) for i in range(num_epochs)]\n",
    "average_val_loss = [np.mean([x[i] for x in all_val_loss_histories]) for i in range(num_epochs)]\n",
    "average_accu_history = [np.mean([x[i] for x in all_accu_histories]) for i in range(num_epochs)]\n",
    "average_val_accu_history = [np.mean([x[i] for x in all_val_accu_histories]) for i in range(num_epochs)]"
   ]
  },
  {
   "cell_type": "code",
   "execution_count": 23,
   "metadata": {},
   "outputs": [
    {
     "name": "stdout",
     "output_type": "stream",
     "text": [
      "Model: \"sequential_6\"\n",
      "_________________________________________________________________\n",
      " Layer (type)                Output Shape              Param #   \n",
      "=================================================================\n",
      " dense_18 (Dense)            (None, 8)                 96        \n",
      "                                                                 \n",
      " dense_19 (Dense)            (None, 4)                 36        \n",
      "                                                                 \n",
      " dense_20 (Dense)            (None, 1)                 5         \n",
      "                                                                 \n",
      "=================================================================\n",
      "Total params: 137 (548.00 Byte)\n",
      "Trainable params: 137 (548.00 Byte)\n",
      "Non-trainable params: 0 (0.00 Byte)\n",
      "_________________________________________________________________\n"
     ]
    }
   ],
   "source": [
    "model.summary()"
   ]
  },
  {
   "cell_type": "code",
   "execution_count": 24,
   "metadata": {},
   "outputs": [
    {
     "data": {
      "image/png": "[encoded data removed]",
      "text/plain": [
       "<Figure size 432x288 with 1 Axes>"
      ]
     },
     "metadata": {
      "needs_background": "light"
     },
     "output_type": "display_data"
    },
    {
     "data": {
      "image/png": "[encoded data removed]",
      "text/plain": [
       "<Figure size 432x288 with 1 Axes>"
      ]
     },
     "metadata": {
      "needs_background": "light"
     },
     "output_type": "display_data"
    }
   ],
   "source": [
    "epochs = range(1, len(average_loss) + 1)\n",
    "plt.plot(epochs, average_loss, \"r.\", label=\"Training loss\")\n",
    "plt.plot(epochs, average_val_loss, \"b\", label=\"Validation loss\")\n",
    "plt.title(\"Training and validation loss\")\n",
    "plt.xlabel(\"Epochs\")\n",
    "plt.ylabel(\"Loss\")\n",
    "plt.legend()\n",
    "plt.show()\n",
    "\n",
    "plt.plot(epochs, average_accu_history, \"r.\", label=\"Training accuracy\")\n",
    "plt.plot(epochs, average_val_accu_history, \"b\", label=\"Validation accuracy\")\n",
    "plt.title(\"Training and validation accuracy\")\n",
    "plt.xlabel(\"Epochs\")\n",
    "plt.ylabel(\"Accuracy\")\n",
    "plt.legend()\n",
    "plt.show()"
   ]
  },
  {
   "cell_type": "markdown",
   "metadata": {},
   "source": [
    "## plot tronqué"
   ]
  },
  {
   "cell_type": "code",
   "execution_count": 25,
   "metadata": {},
   "outputs": [
    {
     "data": {
      "image/png": "[encoded data removed]",
      "text/plain": [
       "<Figure size 432x288 with 1 Axes>"
      ]
     },
     "metadata": {
      "needs_background": "light"
     },
     "output_type": "display_data"
    },
    {
     "data": {
      "image/png": "[encoded data removed]",
      "text/plain": [
       "<Figure size 432x288 with 1 Axes>"
      ]
     },
     "metadata": {
      "needs_background": "light"
     },
     "output_type": "display_data"
    }
   ],
   "source": [
    "plt.plot(epochs[1:50], average_loss[1:50], \"r.\", label=\"Training loss\")\n",
    "plt.plot(epochs[1:50], average_val_loss[1:50], \"b\", label=\"Validation loss\")\n",
    "plt.title(\"Training and validation loss\")\n",
    "plt.xlabel(\"Epochs\")\n",
    "plt.ylabel(\"Loss\")\n",
    "plt.legend()\n",
    "plt.show()\n",
    "\n",
    "plt.plot(epochs[1:50], average_accu_history[1:50], \"r.\", label=\"Training accuracy\")\n",
    "plt.plot(epochs[1:50], average_val_accu_history[1:50], \"b\", label=\"Validation accuracy\")\n",
    "plt.title(\"Training and validation accuracy\")\n",
    "plt.xlabel(\"Epochs\")\n",
    "plt.ylabel(\"Accuracy\")\n",
    "plt.legend()\n",
    "plt.show()\n"
   ]
  },
  {
   "cell_type": "code",
   "execution_count": 26,
   "metadata": {},
   "outputs": [
    {
     "name": "stdout",
     "output_type": "stream",
     "text": [
      "Epoch 1/30\n",
      "23/23 [==============================] - 0s 2ms/step - loss: 1.2568 - accuracy: 0.4401\n",
      "Epoch 2/30\n",
      "23/23 [==============================] - 0s 1ms/step - loss: 1.0294 - accuracy: 0.4482\n",
      "Epoch 3/30\n",
      "23/23 [==============================] - 0s 1ms/step - loss: 0.8727 - accuracy: 0.4687\n",
      "Epoch 4/30\n",
      "23/23 [==============================] - 0s 2ms/step - loss: 0.7642 - accuracy: 0.5054\n",
      "Epoch 5/30\n",
      "23/23 [==============================] - 0s 1ms/step - loss: 0.6913 - accuracy: 0.5668\n",
      "Epoch 6/30\n",
      "23/23 [==============================] - 0s 1ms/step - loss: 0.6402 - accuracy: 0.6308\n",
      "Epoch 7/30\n",
      "23/23 [==============================] - 0s 2ms/step - loss: 0.6005 - accuracy: 0.7057\n",
      "Epoch 8/30\n",
      "23/23 [==============================] - 0s 1ms/step - loss: 0.5681 - accuracy: 0.7698\n",
      "Epoch 9/30\n",
      "23/23 [==============================] - 0s 1ms/step - loss: 0.5394 - accuracy: 0.8038\n",
      "Epoch 10/30\n",
      "23/23 [==============================] - 0s 1ms/step - loss: 0.5131 - accuracy: 0.8202\n",
      "Epoch 11/30\n",
      "23/23 [==============================] - 0s 1ms/step - loss: 0.4879 - accuracy: 0.8420\n",
      "Epoch 12/30\n",
      "23/23 [==============================] - 0s 1ms/step - loss: 0.4654 - accuracy: 0.8406\n",
      "Epoch 13/30\n",
      "23/23 [==============================] - 0s 1ms/step - loss: 0.4450 - accuracy: 0.8420\n",
      "Epoch 14/30\n",
      "23/23 [==============================] - 0s 1ms/step - loss: 0.4263 - accuracy: 0.8474\n",
      "Epoch 15/30\n",
      "23/23 [==============================] - 0s 2ms/step - loss: 0.4091 - accuracy: 0.8529\n",
      "Epoch 16/30\n",
      "23/23 [==============================] - 0s 1ms/step - loss: 0.3937 - accuracy: 0.8542\n",
      "Epoch 17/30\n",
      "23/23 [==============================] - 0s 1ms/step - loss: 0.3809 - accuracy: 0.8583\n",
      "Epoch 18/30\n",
      "23/23 [==============================] - 0s 1ms/step - loss: 0.3702 - accuracy: 0.8610\n",
      "Epoch 19/30\n",
      "23/23 [==============================] - 0s 1ms/step - loss: 0.3608 - accuracy: 0.8624\n",
      "Epoch 20/30\n",
      "23/23 [==============================] - 0s 1ms/step - loss: 0.3529 - accuracy: 0.8624\n",
      "Epoch 21/30\n",
      "23/23 [==============================] - 0s 2ms/step - loss: 0.3466 - accuracy: 0.8624\n",
      "Epoch 22/30\n",
      "23/23 [==============================] - 0s 1ms/step - loss: 0.3413 - accuracy: 0.8624\n",
      "Epoch 23/30\n",
      "23/23 [==============================] - 0s 1ms/step - loss: 0.3365 - accuracy: 0.8638\n",
      "Epoch 24/30\n",
      "23/23 [==============================] - 0s 1ms/step - loss: 0.3325 - accuracy: 0.8665\n",
      "Epoch 25/30\n",
      "23/23 [==============================] - 0s 1ms/step - loss: 0.3288 - accuracy: 0.8665\n",
      "Epoch 26/30\n",
      "23/23 [==============================] - 0s 2ms/step - loss: 0.3255 - accuracy: 0.8719\n",
      "Epoch 27/30\n",
      "23/23 [==============================] - 0s 1ms/step - loss: 0.3226 - accuracy: 0.8719\n",
      "Epoch 28/30\n",
      "23/23 [==============================] - 0s 2ms/step - loss: 0.3203 - accuracy: 0.8733\n",
      "Epoch 29/30\n",
      "23/23 [==============================] - 0s 1ms/step - loss: 0.3179 - accuracy: 0.8719\n",
      "Epoch 30/30\n",
      "23/23 [==============================] - 0s 1ms/step - loss: 0.3158 - accuracy: 0.8719\n"
     ]
    },
    {
     "data": {
      "text/plain": [
       "<keras.src.callbacks.History at 0x2079c99ddc0>"
      ]
     },
     "execution_count": 26,
     "metadata": {},
     "output_type": "execute_result"
    }
   ],
   "source": [
    "model = build_model()\n",
    "model.fit(train_data, train_labels, \n",
    "          epochs=30, \n",
    "          batch_size=32)\n"
   ]
  },
  {
   "cell_type": "code",
   "execution_count": 27,
   "metadata": {},
   "outputs": [
    {
     "name": "stdout",
     "output_type": "stream",
     "text": [
      "6/6 [==============================] - 0s 3ms/step\n",
      "Le patient a 98.53% de chance de contracter la maladie\n",
      "Le modèle a une précision de 0.532608695652174% sur le test\n"
     ]
    }
   ],
   "source": [
    "predictions = model.predict(test_data)\n",
    "# predictions = predictions.numpy()\n",
    "predicted_labels = np.argmax(predictions, axis=1)\n",
    "matches = predicted_labels == test_labels\n",
    "\n",
    "\n",
    "print(f\"Le patient a {predictions[0][0]*100:.2f}% de chance de contracter la maladie\")\n",
    "print(f\"Le modèle a une précision de {matches.mean()}% sur le test\")"
   ]
  },
  {
   "cell_type": "code",
   "execution_count": null,
   "metadata": {},
   "outputs": [],
   "source": [
    "\n",
    "\n"
   ]
  },
  {
   "cell_type": "code",
   "execution_count": 28,
   "metadata": {},
   "outputs": [],
   "source": [
    "###methode du cours pour multiclass"
   ]
  },
  {
   "cell_type": "code",
   "execution_count": 57,
   "metadata": {},
   "outputs": [],
   "source": [
    "import numpy as np\n",
    "def vectorize_sequences(sequences, dimension=918):\n",
    "    results = np.zeros((len(sequences), dimension))\n",
    "    for i, sequence in enumerate(sequences):\n",
    "        for j in sequence:\n",
    "            results[i, j] = 1.\n",
    "    return results"
   ]
  },
  {
   "cell_type": "code",
   "execution_count": 62,
   "metadata": {},
   "outputs": [],
   "source": [
    "\"\"\"\n",
    "from tensorflow.keras.datasets import reuters\n",
    "(train_data, train_labels), (test_data, test_labels) = reuters.load_data(\n",
    "    num_words=10000)\n",
    "\"\"\"\n",
    "donnees_sante_test_label = donnees_sante[734:,-1]\n",
    "donnees_sante_train_label = donnees_sante[:550,-1]\n"
   ]
  },
  {
   "cell_type": "code",
   "execution_count": 31,
   "metadata": {},
   "outputs": [
    {
     "data": {
      "text/plain": [
       "'? tunisia is expected to tender shortly for 100 000 tonnes of soft wheat for shipment between april and june covered by ? export credits trade sources said over 300 000 tonnes of french soft wheat have been sold to tunisia since the beginning of the 1986 87 campaign of which 225 000 to 250 000 tonnes have already been shipped they said reuter 3'"
      ]
     },
     "execution_count": 31,
     "metadata": {},
     "output_type": "execute_result"
    }
   ],
   "source": [
    "\"\"\"\n",
    "word_index = reuters.get_word_index()\n",
    "reverse_word_index = dict([(value, key) for (key, value) in word_index.items()])\n",
    "decoded_newswire = \" \".join([reverse_word_index.get(i - 3, \"?\") for i in\n",
    "    train_data[6000]])\n",
    "decoded_newswire\n",
    "\n",
    "\"\"\"\n"
   ]
  },
  {
   "cell_type": "code",
   "execution_count": null,
   "metadata": {},
   "outputs": [],
   "source": []
  },
  {
   "cell_type": "code",
   "execution_count": null,
   "metadata": {},
   "outputs": [],
   "source": []
  },
  {
   "cell_type": "code",
   "execution_count": null,
   "metadata": {},
   "outputs": [],
   "source": []
  },
  {
   "cell_type": "code",
   "execution_count": 58,
   "metadata": {},
   "outputs": [
    {
     "ename": "IndexError",
     "evalue": "only integers, slices (`:`), ellipsis (`...`), numpy.newaxis (`None`) and integer or boolean arrays are valid indices",
     "output_type": "error",
     "traceback": [
      "\u001b[1;31m---------------------------------------------------------------------------\u001b[0m",
      "\u001b[1;31mIndexError\u001b[0m                                Traceback (most recent call last)",
      "\u001b[1;32m<ipython-input-58-182859a07951>\u001b[0m in \u001b[0;36m<module>\u001b[1;34m\u001b[0m\n\u001b[1;32m----> 1\u001b[1;33m \u001b[0mx_train\u001b[0m \u001b[1;33m=\u001b[0m \u001b[0mvectorize_sequences\u001b[0m\u001b[1;33m(\u001b[0m\u001b[0mdonnees_sante_train\u001b[0m\u001b[1;33m)\u001b[0m\u001b[1;33m\u001b[0m\u001b[1;33m\u001b[0m\u001b[0m\n\u001b[0m\u001b[0;32m      2\u001b[0m \u001b[0mx_test\u001b[0m \u001b[1;33m=\u001b[0m \u001b[0mvectorize_sequences\u001b[0m\u001b[1;33m(\u001b[0m\u001b[0mdonnees_sante_test\u001b[0m\u001b[1;33m)\u001b[0m\u001b[1;33m\u001b[0m\u001b[1;33m\u001b[0m\u001b[0m\n\u001b[0;32m      3\u001b[0m \u001b[1;33m\u001b[0m\u001b[0m\n\u001b[0;32m      4\u001b[0m \"\"\"\n\u001b[0;32m      5\u001b[0m \u001b[0mx_train\u001b[0m \u001b[1;33m=\u001b[0m \u001b[0mvectorize_sequences\u001b[0m\u001b[1;33m(\u001b[0m\u001b[0mtrain_data\u001b[0m\u001b[1;33m)\u001b[0m\u001b[1;33m\u001b[0m\u001b[1;33m\u001b[0m\u001b[0m\n",
      "\u001b[1;32m<ipython-input-57-a2a18371ff30>\u001b[0m in \u001b[0;36mvectorize_sequences\u001b[1;34m(sequences, dimension)\u001b[0m\n\u001b[0;32m      4\u001b[0m     \u001b[1;32mfor\u001b[0m \u001b[0mi\u001b[0m\u001b[1;33m,\u001b[0m \u001b[0msequence\u001b[0m \u001b[1;32min\u001b[0m \u001b[0menumerate\u001b[0m\u001b[1;33m(\u001b[0m\u001b[0msequences\u001b[0m\u001b[1;33m)\u001b[0m\u001b[1;33m:\u001b[0m\u001b[1;33m\u001b[0m\u001b[1;33m\u001b[0m\u001b[0m\n\u001b[0;32m      5\u001b[0m         \u001b[1;32mfor\u001b[0m \u001b[0mj\u001b[0m \u001b[1;32min\u001b[0m \u001b[0msequence\u001b[0m\u001b[1;33m:\u001b[0m\u001b[1;33m\u001b[0m\u001b[1;33m\u001b[0m\u001b[0m\n\u001b[1;32m----> 6\u001b[1;33m             \u001b[0mresults\u001b[0m\u001b[1;33m[\u001b[0m\u001b[0mi\u001b[0m\u001b[1;33m,\u001b[0m \u001b[0mj\u001b[0m\u001b[1;33m]\u001b[0m \u001b[1;33m=\u001b[0m \u001b[1;36m1.\u001b[0m\u001b[1;33m\u001b[0m\u001b[1;33m\u001b[0m\u001b[0m\n\u001b[0m\u001b[0;32m      7\u001b[0m     \u001b[1;32mreturn\u001b[0m \u001b[0mresults\u001b[0m\u001b[1;33m\u001b[0m\u001b[1;33m\u001b[0m\u001b[0m\n",
      "\u001b[1;31mIndexError\u001b[0m: only integers, slices (`:`), ellipsis (`...`), numpy.newaxis (`None`) and integer or boolean arrays are valid indices"
     ]
    }
   ],
   "source": [
    "\n",
    "x_train = vectorize_sequences(donnees_sante_train)\n",
    "x_test = vectorize_sequences(donnees_sante_test)\n",
    "\n",
    "\"\"\"\n",
    "x_train = vectorize_sequences(train_data)\n",
    "x_test = vectorize_sequences(test_data)\n",
    "\"\"\""
   ]
  },
  {
   "cell_type": "code",
   "execution_count": 63,
   "metadata": {},
   "outputs": [
    {
     "ename": "IndexError",
     "evalue": "only integers, slices (`:`), ellipsis (`...`), numpy.newaxis (`None`) and integer or boolean arrays are valid indices",
     "output_type": "error",
     "traceback": [
      "\u001b[1;31m---------------------------------------------------------------------------\u001b[0m",
      "\u001b[1;31mIndexError\u001b[0m                                Traceback (most recent call last)",
      "\u001b[1;32m<ipython-input-63-49afbe0107d0>\u001b[0m in \u001b[0;36m<module>\u001b[1;34m\u001b[0m\n\u001b[0;32m      4\u001b[0m         \u001b[0mresults\u001b[0m\u001b[1;33m[\u001b[0m\u001b[0mi\u001b[0m\u001b[1;33m,\u001b[0m \u001b[0mlabel\u001b[0m\u001b[1;33m]\u001b[0m \u001b[1;33m=\u001b[0m \u001b[1;36m1.\u001b[0m\u001b[1;33m\u001b[0m\u001b[1;33m\u001b[0m\u001b[0m\n\u001b[0;32m      5\u001b[0m     \u001b[1;32mreturn\u001b[0m \u001b[0mresults\u001b[0m\u001b[1;33m\u001b[0m\u001b[1;33m\u001b[0m\u001b[0m\n\u001b[1;32m----> 6\u001b[1;33m \u001b[0my_train\u001b[0m \u001b[1;33m=\u001b[0m \u001b[0mto_one_hot\u001b[0m\u001b[1;33m(\u001b[0m\u001b[0mdonnees_sante_train_label\u001b[0m\u001b[1;33m)\u001b[0m\u001b[1;33m\u001b[0m\u001b[1;33m\u001b[0m\u001b[0m\n\u001b[0m\u001b[0;32m      7\u001b[0m \u001b[0my_test\u001b[0m \u001b[1;33m=\u001b[0m \u001b[0mto_one_hot\u001b[0m\u001b[1;33m(\u001b[0m\u001b[0mdonnees_sante_test_label\u001b[0m\u001b[1;33m)\u001b[0m\u001b[1;33m\u001b[0m\u001b[1;33m\u001b[0m\u001b[0m\n",
      "\u001b[1;32m<ipython-input-63-49afbe0107d0>\u001b[0m in \u001b[0;36mto_one_hot\u001b[1;34m(labels, dimension)\u001b[0m\n\u001b[0;32m      2\u001b[0m     \u001b[0mresults\u001b[0m \u001b[1;33m=\u001b[0m \u001b[0mnp\u001b[0m\u001b[1;33m.\u001b[0m\u001b[0mzeros\u001b[0m\u001b[1;33m(\u001b[0m\u001b[1;33m(\u001b[0m\u001b[0mlen\u001b[0m\u001b[1;33m(\u001b[0m\u001b[0mlabels\u001b[0m\u001b[1;33m)\u001b[0m\u001b[1;33m,\u001b[0m \u001b[0mdimension\u001b[0m\u001b[1;33m)\u001b[0m\u001b[1;33m)\u001b[0m\u001b[1;33m\u001b[0m\u001b[1;33m\u001b[0m\u001b[0m\n\u001b[0;32m      3\u001b[0m     \u001b[1;32mfor\u001b[0m \u001b[0mi\u001b[0m\u001b[1;33m,\u001b[0m \u001b[0mlabel\u001b[0m \u001b[1;32min\u001b[0m \u001b[0menumerate\u001b[0m\u001b[1;33m(\u001b[0m\u001b[0mlabels\u001b[0m\u001b[1;33m)\u001b[0m\u001b[1;33m:\u001b[0m\u001b[1;33m\u001b[0m\u001b[1;33m\u001b[0m\u001b[0m\n\u001b[1;32m----> 4\u001b[1;33m         \u001b[0mresults\u001b[0m\u001b[1;33m[\u001b[0m\u001b[0mi\u001b[0m\u001b[1;33m,\u001b[0m \u001b[0mlabel\u001b[0m\u001b[1;33m]\u001b[0m \u001b[1;33m=\u001b[0m \u001b[1;36m1.\u001b[0m\u001b[1;33m\u001b[0m\u001b[1;33m\u001b[0m\u001b[0m\n\u001b[0m\u001b[0;32m      5\u001b[0m     \u001b[1;32mreturn\u001b[0m \u001b[0mresults\u001b[0m\u001b[1;33m\u001b[0m\u001b[1;33m\u001b[0m\u001b[0m\n\u001b[0;32m      6\u001b[0m \u001b[0my_train\u001b[0m \u001b[1;33m=\u001b[0m \u001b[0mto_one_hot\u001b[0m\u001b[1;33m(\u001b[0m\u001b[0mdonnees_sante_train_label\u001b[0m\u001b[1;33m)\u001b[0m\u001b[1;33m\u001b[0m\u001b[1;33m\u001b[0m\u001b[0m\n",
      "\u001b[1;31mIndexError\u001b[0m: only integers, slices (`:`), ellipsis (`...`), numpy.newaxis (`None`) and integer or boolean arrays are valid indices"
     ]
    }
   ],
   "source": [
    "def to_one_hot(labels, dimension=46):\n",
    "    results = np.zeros((len(labels), dimension))\n",
    "    for i, label in enumerate(labels):\n",
    "        results[i, label] = 1.\n",
    "    return results\n",
    "y_train = to_one_hot(donnees_sante_train_label)\n",
    "y_test = to_one_hot(donnees_sante_test_label)"
   ]
  },
  {
   "cell_type": "code",
   "execution_count": 64,
   "metadata": {},
   "outputs": [],
   "source": [
    "from tensorflow.keras.utils import to_categorical\n",
    "y_train = to_categorical(train_labels)\n",
    "y_test = to_categorical(test_labels)"
   ]
  },
  {
   "cell_type": "code",
   "execution_count": 65,
   "metadata": {},
   "outputs": [],
   "source": [
    "model = keras.Sequential([\n",
    "    layers.Dense(8, activation=\"relu\"),\n",
    "    layers.Dense(2, activation=\"relu\"),\n",
    "    layers.Dense(1, activation=\"softmax\")\n",
    "])"
   ]
  },
  {
   "cell_type": "code",
   "execution_count": 66,
   "metadata": {},
   "outputs": [],
   "source": [
    "model.compile(optimizer=\"rmsprop\",\n",
    "              loss=\"categorical_crossentropy\",\n",
    "              metrics=[\"accuracy\"])"
   ]
  },
  {
   "cell_type": "code",
   "execution_count": 67,
   "metadata": {},
   "outputs": [],
   "source": [
    "x_val = x_train[:400]\n",
    "partial_x_train = x_train[400:]\n",
    "y_val = y_train[:400]\n",
    "partial_y_train = y_train[400:]"
   ]
  },
  {
   "cell_type": "code",
   "execution_count": 68,
   "metadata": {},
   "outputs": [
    {
     "ename": "ValueError",
     "evalue": "Data cardinality is ambiguous:\n  x sizes: 150\n  y sizes: 8582\nMake sure all arrays contain the same number of samples.",
     "output_type": "error",
     "traceback": [
      "\u001b[1;31m---------------------------------------------------------------------------\u001b[0m",
      "\u001b[1;31mValueError\u001b[0m                                Traceback (most recent call last)",
      "\u001b[1;32m<ipython-input-68-90a50ee7d258>\u001b[0m in \u001b[0;36m<module>\u001b[1;34m\u001b[0m\n\u001b[1;32m----> 1\u001b[1;33m history = model.fit(partial_x_train,\n\u001b[0m\u001b[0;32m      2\u001b[0m                     \u001b[0mpartial_y_train\u001b[0m\u001b[1;33m,\u001b[0m\u001b[1;33m\u001b[0m\u001b[1;33m\u001b[0m\u001b[0m\n\u001b[0;32m      3\u001b[0m                     \u001b[0mepochs\u001b[0m\u001b[1;33m=\u001b[0m\u001b[1;36m20\u001b[0m\u001b[1;33m,\u001b[0m\u001b[1;33m\u001b[0m\u001b[1;33m\u001b[0m\u001b[0m\n\u001b[0;32m      4\u001b[0m                     \u001b[0mbatch_size\u001b[0m\u001b[1;33m=\u001b[0m\u001b[1;36m512\u001b[0m\u001b[1;33m,\u001b[0m\u001b[1;33m\u001b[0m\u001b[1;33m\u001b[0m\u001b[0m\n\u001b[0;32m      5\u001b[0m                     validation_data=(x_val, y_val))\n",
      "\u001b[1;32m~\\anaconda3\\lib\\site-packages\\keras\\src\\utils\\traceback_utils.py\u001b[0m in \u001b[0;36merror_handler\u001b[1;34m(*args, **kwargs)\u001b[0m\n\u001b[0;32m     68\u001b[0m             \u001b[1;31m# To get the full stack trace, call:\u001b[0m\u001b[1;33m\u001b[0m\u001b[1;33m\u001b[0m\u001b[1;33m\u001b[0m\u001b[0m\n\u001b[0;32m     69\u001b[0m             \u001b[1;31m# `tf.debugging.disable_traceback_filtering()`\u001b[0m\u001b[1;33m\u001b[0m\u001b[1;33m\u001b[0m\u001b[1;33m\u001b[0m\u001b[0m\n\u001b[1;32m---> 70\u001b[1;33m             \u001b[1;32mraise\u001b[0m \u001b[0me\u001b[0m\u001b[1;33m.\u001b[0m\u001b[0mwith_traceback\u001b[0m\u001b[1;33m(\u001b[0m\u001b[0mfiltered_tb\u001b[0m\u001b[1;33m)\u001b[0m \u001b[1;32mfrom\u001b[0m \u001b[1;32mNone\u001b[0m\u001b[1;33m\u001b[0m\u001b[1;33m\u001b[0m\u001b[0m\n\u001b[0m\u001b[0;32m     71\u001b[0m         \u001b[1;32mfinally\u001b[0m\u001b[1;33m:\u001b[0m\u001b[1;33m\u001b[0m\u001b[1;33m\u001b[0m\u001b[0m\n\u001b[0;32m     72\u001b[0m             \u001b[1;32mdel\u001b[0m \u001b[0mfiltered_tb\u001b[0m\u001b[1;33m\u001b[0m\u001b[1;33m\u001b[0m\u001b[0m\n",
      "\u001b[1;32m~\\anaconda3\\lib\\site-packages\\keras\\src\\engine\\data_adapter.py\u001b[0m in \u001b[0;36m_check_data_cardinality\u001b[1;34m(data)\u001b[0m\n\u001b[0;32m   1948\u001b[0m             )\n\u001b[0;32m   1949\u001b[0m         \u001b[0mmsg\u001b[0m \u001b[1;33m+=\u001b[0m \u001b[1;34m\"Make sure all arrays contain the same number of samples.\"\u001b[0m\u001b[1;33m\u001b[0m\u001b[1;33m\u001b[0m\u001b[0m\n\u001b[1;32m-> 1950\u001b[1;33m         \u001b[1;32mraise\u001b[0m \u001b[0mValueError\u001b[0m\u001b[1;33m(\u001b[0m\u001b[0mmsg\u001b[0m\u001b[1;33m)\u001b[0m\u001b[1;33m\u001b[0m\u001b[1;33m\u001b[0m\u001b[0m\n\u001b[0m\u001b[0;32m   1951\u001b[0m \u001b[1;33m\u001b[0m\u001b[0m\n\u001b[0;32m   1952\u001b[0m \u001b[1;33m\u001b[0m\u001b[0m\n",
      "\u001b[1;31mValueError\u001b[0m: Data cardinality is ambiguous:\n  x sizes: 150\n  y sizes: 8582\nMake sure all arrays contain the same number of samples."
     ]
    }
   ],
   "source": [
    "history = model.fit(partial_x_train,\n",
    "                    partial_y_train,\n",
    "                    epochs=20,\n",
    "                    batch_size=40,\n",
    "                    validation_data=(x_val, y_val))"
   ]
  },
  {
   "cell_type": "code",
   "execution_count": 69,
   "metadata": {},
   "outputs": [
    {
     "data": {
      "text/plain": [
       "dict_keys(['loss', 'accuracy', 'val_loss', 'val_accuracy'])"
      ]
     },
     "execution_count": 69,
     "metadata": {},
     "output_type": "execute_result"
    }
   ],
   "source": [
    "history_dict = history.history\n",
    "history_dict.keys()"
   ]
  },
  {
   "cell_type": "code",
   "execution_count": 70,
   "metadata": {},
   "outputs": [
    {
     "data": {
      "image/png": "[encoded data removed]",
      "text/plain": [
       "<Figure size 432x288 with 1 Axes>"
      ]
     },
     "metadata": {
      "needs_background": "light"
     },
     "output_type": "display_data"
    }
   ],
   "source": [
    "import matplotlib.pyplot as plt\n",
    "history_dict = history.history\n",
    "loss_values = history_dict[\"loss\"]\n",
    "val_loss_values = history_dict[\"val_loss\"]\n",
    "epochs = range(1, len(loss_values) + 1)\n",
    "plt.plot(epochs, loss_values, \"bo\", label=\"Training loss\")\n",
    "plt.plot(epochs, val_loss_values, \"b\", label=\"Validation loss\")\n",
    "plt.title(\"Training and validation loss\")\n",
    "plt.xlabel(\"Epochs\")\n",
    "plt.ylabel(\"Loss\")\n",
    "plt.legend()\n",
    "plt.show()"
   ]
  },
  {
   "cell_type": "code",
   "execution_count": 71,
   "metadata": {},
   "outputs": [
    {
     "data": {
      "image/png": "[encoded data removed]",
      "text/plain": [
       "<Figure size 432x288 with 1 Axes>"
      ]
     },
     "metadata": {
      "needs_background": "light"
     },
     "output_type": "display_data"
    }
   ],
   "source": [
    "plt.clf()\n",
    "acc = history_dict[\"accuracy\"]\n",
    "val_acc = history_dict[\"val_accuracy\"]\n",
    "plt.plot(epochs, acc, \"bo\", label=\"Training acc\")\n",
    "plt.plot(epochs, val_acc, \"b\", label=\"Validation acc\")\n",
    "plt.title(\"Training and validation accuracy\")\n",
    "plt.xlabel(\"Epochs\")\n",
    "plt.ylabel(\"Accuracy\")\n",
    "plt.legend()\n",
    "plt.show()"
   ]
  },
  {
   "cell_type": "code",
   "execution_count": 72,
   "metadata": {},
   "outputs": [
    {
     "ename": "ValueError",
     "evalue": "Data cardinality is ambiguous:\n  x sizes: 550\n  y sizes: 8982\nMake sure all arrays contain the same number of samples.",
     "output_type": "error",
     "traceback": [
      "\u001b[1;31m---------------------------------------------------------------------------\u001b[0m",
      "\u001b[1;31mValueError\u001b[0m                                Traceback (most recent call last)",
      "\u001b[1;32m<ipython-input-72-2f40db1ff283>\u001b[0m in \u001b[0;36m<module>\u001b[1;34m\u001b[0m\n\u001b[0;32m      7\u001b[0m               \u001b[0mloss\u001b[0m\u001b[1;33m=\u001b[0m\u001b[1;34m\"binary_crossentropy\"\u001b[0m\u001b[1;33m,\u001b[0m\u001b[1;33m\u001b[0m\u001b[1;33m\u001b[0m\u001b[0m\n\u001b[0;32m      8\u001b[0m               metrics=[\"accuracy\"])\n\u001b[1;32m----> 9\u001b[1;33m \u001b[0mmodel\u001b[0m\u001b[1;33m.\u001b[0m\u001b[0mfit\u001b[0m\u001b[1;33m(\u001b[0m\u001b[0mx_train\u001b[0m\u001b[1;33m,\u001b[0m \u001b[0my_train\u001b[0m\u001b[1;33m,\u001b[0m \u001b[0mepochs\u001b[0m\u001b[1;33m=\u001b[0m\u001b[1;36m4\u001b[0m\u001b[1;33m,\u001b[0m \u001b[0mbatch_size\u001b[0m\u001b[1;33m=\u001b[0m\u001b[1;36m512\u001b[0m\u001b[1;33m)\u001b[0m\u001b[1;33m\u001b[0m\u001b[1;33m\u001b[0m\u001b[0m\n\u001b[0m",
      "\u001b[1;32m~\\anaconda3\\lib\\site-packages\\keras\\src\\utils\\traceback_utils.py\u001b[0m in \u001b[0;36merror_handler\u001b[1;34m(*args, **kwargs)\u001b[0m\n\u001b[0;32m     68\u001b[0m             \u001b[1;31m# To get the full stack trace, call:\u001b[0m\u001b[1;33m\u001b[0m\u001b[1;33m\u001b[0m\u001b[1;33m\u001b[0m\u001b[0m\n\u001b[0;32m     69\u001b[0m             \u001b[1;31m# `tf.debugging.disable_traceback_filtering()`\u001b[0m\u001b[1;33m\u001b[0m\u001b[1;33m\u001b[0m\u001b[1;33m\u001b[0m\u001b[0m\n\u001b[1;32m---> 70\u001b[1;33m             \u001b[1;32mraise\u001b[0m \u001b[0me\u001b[0m\u001b[1;33m.\u001b[0m\u001b[0mwith_traceback\u001b[0m\u001b[1;33m(\u001b[0m\u001b[0mfiltered_tb\u001b[0m\u001b[1;33m)\u001b[0m \u001b[1;32mfrom\u001b[0m \u001b[1;32mNone\u001b[0m\u001b[1;33m\u001b[0m\u001b[1;33m\u001b[0m\u001b[0m\n\u001b[0m\u001b[0;32m     71\u001b[0m         \u001b[1;32mfinally\u001b[0m\u001b[1;33m:\u001b[0m\u001b[1;33m\u001b[0m\u001b[1;33m\u001b[0m\u001b[0m\n\u001b[0;32m     72\u001b[0m             \u001b[1;32mdel\u001b[0m \u001b[0mfiltered_tb\u001b[0m\u001b[1;33m\u001b[0m\u001b[1;33m\u001b[0m\u001b[0m\n",
      "\u001b[1;32m~\\anaconda3\\lib\\site-packages\\keras\\src\\engine\\data_adapter.py\u001b[0m in \u001b[0;36m_check_data_cardinality\u001b[1;34m(data)\u001b[0m\n\u001b[0;32m   1948\u001b[0m             )\n\u001b[0;32m   1949\u001b[0m         \u001b[0mmsg\u001b[0m \u001b[1;33m+=\u001b[0m \u001b[1;34m\"Make sure all arrays contain the same number of samples.\"\u001b[0m\u001b[1;33m\u001b[0m\u001b[1;33m\u001b[0m\u001b[0m\n\u001b[1;32m-> 1950\u001b[1;33m         \u001b[1;32mraise\u001b[0m \u001b[0mValueError\u001b[0m\u001b[1;33m(\u001b[0m\u001b[0mmsg\u001b[0m\u001b[1;33m)\u001b[0m\u001b[1;33m\u001b[0m\u001b[1;33m\u001b[0m\u001b[0m\n\u001b[0m\u001b[0;32m   1951\u001b[0m \u001b[1;33m\u001b[0m\u001b[0m\n\u001b[0;32m   1952\u001b[0m \u001b[1;33m\u001b[0m\u001b[0m\n",
      "\u001b[1;31mValueError\u001b[0m: Data cardinality is ambiguous:\n  x sizes: 550\n  y sizes: 8982\nMake sure all arrays contain the same number of samples."
     ]
    }
   ],
   "source": [
    "model = keras.Sequential([\n",
    "    layers.Dense(8, activation=\"relu\"),\n",
    "    layers.Dense(4, activation=\"relu\"),\n",
    "    layers.Dense(1, activation=\"sigmoid\")\n",
    "])\n",
    "model.compile(optimizer=\"rmsprop\",\n",
    "              loss=\"binary_crossentropy\",\n",
    "              metrics=[\"accuracy\"])\n",
    "model.fit(x_train, y_train, epochs=4, batch_size=512)"
   ]
  },
  {
   "cell_type": "code",
   "execution_count": 73,
   "metadata": {},
   "outputs": [
    {
     "ename": "ValueError",
     "evalue": "Data cardinality is ambiguous:\n  x sizes: 550\n  y sizes: 8982\nMake sure all arrays contain the same number of samples.",
     "output_type": "error",
     "traceback": [
      "\u001b[1;31m---------------------------------------------------------------------------\u001b[0m",
      "\u001b[1;31mValueError\u001b[0m                                Traceback (most recent call last)",
      "\u001b[1;32m<ipython-input-73-d0a787f43681>\u001b[0m in \u001b[0;36m<module>\u001b[1;34m\u001b[0m\n\u001b[0;32m      7\u001b[0m               \u001b[0mloss\u001b[0m\u001b[1;33m=\u001b[0m\u001b[1;34m\"categorical_crossentropy\"\u001b[0m\u001b[1;33m,\u001b[0m\u001b[1;33m\u001b[0m\u001b[1;33m\u001b[0m\u001b[0m\n\u001b[0;32m      8\u001b[0m               metrics=[\"accuracy\"])\n\u001b[1;32m----> 9\u001b[1;33m model.fit(x_train,\n\u001b[0m\u001b[0;32m     10\u001b[0m           \u001b[0my_train\u001b[0m\u001b[1;33m,\u001b[0m\u001b[1;33m\u001b[0m\u001b[1;33m\u001b[0m\u001b[0m\n\u001b[0;32m     11\u001b[0m           \u001b[0mepochs\u001b[0m\u001b[1;33m=\u001b[0m\u001b[1;36m9\u001b[0m\u001b[1;33m,\u001b[0m\u001b[1;33m\u001b[0m\u001b[1;33m\u001b[0m\u001b[0m\n",
      "\u001b[1;32m~\\anaconda3\\lib\\site-packages\\keras\\src\\utils\\traceback_utils.py\u001b[0m in \u001b[0;36merror_handler\u001b[1;34m(*args, **kwargs)\u001b[0m\n\u001b[0;32m     68\u001b[0m             \u001b[1;31m# To get the full stack trace, call:\u001b[0m\u001b[1;33m\u001b[0m\u001b[1;33m\u001b[0m\u001b[1;33m\u001b[0m\u001b[0m\n\u001b[0;32m     69\u001b[0m             \u001b[1;31m# `tf.debugging.disable_traceback_filtering()`\u001b[0m\u001b[1;33m\u001b[0m\u001b[1;33m\u001b[0m\u001b[1;33m\u001b[0m\u001b[0m\n\u001b[1;32m---> 70\u001b[1;33m             \u001b[1;32mraise\u001b[0m \u001b[0me\u001b[0m\u001b[1;33m.\u001b[0m\u001b[0mwith_traceback\u001b[0m\u001b[1;33m(\u001b[0m\u001b[0mfiltered_tb\u001b[0m\u001b[1;33m)\u001b[0m \u001b[1;32mfrom\u001b[0m \u001b[1;32mNone\u001b[0m\u001b[1;33m\u001b[0m\u001b[1;33m\u001b[0m\u001b[0m\n\u001b[0m\u001b[0;32m     71\u001b[0m         \u001b[1;32mfinally\u001b[0m\u001b[1;33m:\u001b[0m\u001b[1;33m\u001b[0m\u001b[1;33m\u001b[0m\u001b[0m\n\u001b[0;32m     72\u001b[0m             \u001b[1;32mdel\u001b[0m \u001b[0mfiltered_tb\u001b[0m\u001b[1;33m\u001b[0m\u001b[1;33m\u001b[0m\u001b[0m\n",
      "\u001b[1;32m~\\anaconda3\\lib\\site-packages\\keras\\src\\engine\\data_adapter.py\u001b[0m in \u001b[0;36m_check_data_cardinality\u001b[1;34m(data)\u001b[0m\n\u001b[0;32m   1948\u001b[0m             )\n\u001b[0;32m   1949\u001b[0m         \u001b[0mmsg\u001b[0m \u001b[1;33m+=\u001b[0m \u001b[1;34m\"Make sure all arrays contain the same number of samples.\"\u001b[0m\u001b[1;33m\u001b[0m\u001b[1;33m\u001b[0m\u001b[0m\n\u001b[1;32m-> 1950\u001b[1;33m         \u001b[1;32mraise\u001b[0m \u001b[0mValueError\u001b[0m\u001b[1;33m(\u001b[0m\u001b[0mmsg\u001b[0m\u001b[1;33m)\u001b[0m\u001b[1;33m\u001b[0m\u001b[1;33m\u001b[0m\u001b[0m\n\u001b[0m\u001b[0;32m   1951\u001b[0m \u001b[1;33m\u001b[0m\u001b[0m\n\u001b[0;32m   1952\u001b[0m \u001b[1;33m\u001b[0m\u001b[0m\n",
      "\u001b[1;31mValueError\u001b[0m: Data cardinality is ambiguous:\n  x sizes: 550\n  y sizes: 8982\nMake sure all arrays contain the same number of samples."
     ]
    }
   ],
   "source": [
    "model = keras.Sequential([\n",
    "  layers.Dense(8, activation=\"relu\"),\n",
    "  layers.Dense(4, activation=\"relu\"),\n",
    "  layers.Dense(1, activation=\"softmax\")\n",
    "])\n",
    "model.compile(optimizer=\"rmsprop\",\n",
    "              loss=\"categorical_crossentropy\",\n",
    "              metrics=[\"accuracy\"])\n",
    "model.fit(x_train,\n",
    "          y_train,\n",
    "          epochs=9,\n",
    "          batch_size=512)"
   ]
  },
  {
   "cell_type": "code",
   "execution_count": 74,
   "metadata": {},
   "outputs": [
    {
     "ename": "ValueError",
     "evalue": "Data cardinality is ambiguous:\n  x sizes: 184\n  y sizes: 2246\nMake sure all arrays contain the same number of samples.",
     "output_type": "error",
     "traceback": [
      "\u001b[1;31m---------------------------------------------------------------------------\u001b[0m",
      "\u001b[1;31mValueError\u001b[0m                                Traceback (most recent call last)",
      "\u001b[1;32m<ipython-input-74-d8b585f2e026>\u001b[0m in \u001b[0;36m<module>\u001b[1;34m\u001b[0m\n\u001b[1;32m----> 1\u001b[1;33m \u001b[0mresults\u001b[0m \u001b[1;33m=\u001b[0m \u001b[0mmodel\u001b[0m\u001b[1;33m.\u001b[0m\u001b[0mevaluate\u001b[0m\u001b[1;33m(\u001b[0m\u001b[0mx_test\u001b[0m\u001b[1;33m,\u001b[0m \u001b[0my_test\u001b[0m\u001b[1;33m)\u001b[0m\u001b[1;33m\u001b[0m\u001b[1;33m\u001b[0m\u001b[0m\n\u001b[0m",
      "\u001b[1;32m~\\anaconda3\\lib\\site-packages\\keras\\src\\utils\\traceback_utils.py\u001b[0m in \u001b[0;36merror_handler\u001b[1;34m(*args, **kwargs)\u001b[0m\n\u001b[0;32m     68\u001b[0m             \u001b[1;31m# To get the full stack trace, call:\u001b[0m\u001b[1;33m\u001b[0m\u001b[1;33m\u001b[0m\u001b[1;33m\u001b[0m\u001b[0m\n\u001b[0;32m     69\u001b[0m             \u001b[1;31m# `tf.debugging.disable_traceback_filtering()`\u001b[0m\u001b[1;33m\u001b[0m\u001b[1;33m\u001b[0m\u001b[1;33m\u001b[0m\u001b[0m\n\u001b[1;32m---> 70\u001b[1;33m             \u001b[1;32mraise\u001b[0m \u001b[0me\u001b[0m\u001b[1;33m.\u001b[0m\u001b[0mwith_traceback\u001b[0m\u001b[1;33m(\u001b[0m\u001b[0mfiltered_tb\u001b[0m\u001b[1;33m)\u001b[0m \u001b[1;32mfrom\u001b[0m \u001b[1;32mNone\u001b[0m\u001b[1;33m\u001b[0m\u001b[1;33m\u001b[0m\u001b[0m\n\u001b[0m\u001b[0;32m     71\u001b[0m         \u001b[1;32mfinally\u001b[0m\u001b[1;33m:\u001b[0m\u001b[1;33m\u001b[0m\u001b[1;33m\u001b[0m\u001b[0m\n\u001b[0;32m     72\u001b[0m             \u001b[1;32mdel\u001b[0m \u001b[0mfiltered_tb\u001b[0m\u001b[1;33m\u001b[0m\u001b[1;33m\u001b[0m\u001b[0m\n",
      "\u001b[1;32m~\\anaconda3\\lib\\site-packages\\keras\\src\\engine\\data_adapter.py\u001b[0m in \u001b[0;36m_check_data_cardinality\u001b[1;34m(data)\u001b[0m\n\u001b[0;32m   1948\u001b[0m             )\n\u001b[0;32m   1949\u001b[0m         \u001b[0mmsg\u001b[0m \u001b[1;33m+=\u001b[0m \u001b[1;34m\"Make sure all arrays contain the same number of samples.\"\u001b[0m\u001b[1;33m\u001b[0m\u001b[1;33m\u001b[0m\u001b[0m\n\u001b[1;32m-> 1950\u001b[1;33m         \u001b[1;32mraise\u001b[0m \u001b[0mValueError\u001b[0m\u001b[1;33m(\u001b[0m\u001b[0mmsg\u001b[0m\u001b[1;33m)\u001b[0m\u001b[1;33m\u001b[0m\u001b[1;33m\u001b[0m\u001b[0m\n\u001b[0m\u001b[0;32m   1951\u001b[0m \u001b[1;33m\u001b[0m\u001b[0m\n\u001b[0;32m   1952\u001b[0m \u001b[1;33m\u001b[0m\u001b[0m\n",
      "\u001b[1;31mValueError\u001b[0m: Data cardinality is ambiguous:\n  x sizes: 184\n  y sizes: 2246\nMake sure all arrays contain the same number of samples."
     ]
    }
   ],
   "source": [
    "results = model.evaluate(x_test, y_test)"
   ]
  },
  {
   "cell_type": "code",
   "execution_count": 75,
   "metadata": {},
   "outputs": [
    {
     "name": "stdout",
     "output_type": "stream",
     "text": [
      "6/6 [==============================] - 0s 3ms/step\n"
     ]
    },
    {
     "data": {
      "text/plain": [
       "array([[0.00670963, 0.02607129, 0.00860529, ..., 0.01713941, 0.0710079 ,\n",
       "        0.02402467],\n",
       "       [0.01300165, 0.02037831, 0.01583614, ..., 0.01954882, 0.02451115,\n",
       "        0.02731174],\n",
       "       [0.00483273, 0.02782424, 0.00906203, ..., 0.01002806, 0.03627928,\n",
       "        0.04469199],\n",
       "       ...,\n",
       "       [0.01061433, 0.02127155, 0.01183366, ..., 0.01453568, 0.03394994,\n",
       "        0.02970409],\n",
       "       [0.01137435, 0.01426423, 0.01376009, ..., 0.015703  , 0.03744915,\n",
       "        0.03331704],\n",
       "       [0.0182229 , 0.01999265, 0.01681582, ..., 0.02197912, 0.02520535,\n",
       "        0.02118711]], dtype=float32)"
      ]
     },
     "execution_count": 75,
     "metadata": {},
     "output_type": "execute_result"
    }
   ],
   "source": [
    "model.predict(x_test)"
   ]
  },
  {
   "cell_type": "code",
   "execution_count": null,
   "metadata": {},
   "outputs": [],
   "source": []
  },
  {
   "cell_type": "code",
   "execution_count": null,
   "metadata": {},
   "outputs": [],
   "source": []
  }
 ],
 "metadata": {
  "kernelspec": {
   "display_name": "Python 3",
   "language": "python",
   "name": "python3"
  },
  "language_info": {
   "codemirror_mode": {
    "name": "ipython",
    "version": 3
   },
   "file_extension": ".py",
   "mimetype": "text/x-python",
   "name": "python",
   "nbconvert_exporter": "python",
   "pygments_lexer": "ipython3",
   "version": "3.8.5"
  }
 },
 "nbformat": 4,
 "nbformat_minor": 5
}
