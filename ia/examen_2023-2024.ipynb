{
 "cells": [
  {
   "cell_type": "markdown",
   "metadata": {},
   "source": [
    "## Chargement des données de santé"
   ]
  },
  {
   "cell_type": "code",
   "execution_count": 87,
   "metadata": {
    "scrolled": true
   },
   "outputs": [
    {
     "name": "stdout",
     "output_type": "stream",
     "text": [
      "On a 918 lignes et 12 colonnes\n"
     ]
    }
   ],
   "source": [
    "import numpy as np \n",
    "\n",
    "donnees_sante = np.genfromtxt(\"donnees_risque_maladie.csv\", delimiter=\",\")\n",
    "nLig, nCol = donnees_sante.shape\n",
    "print(f\"On a {nLig} lignes et {nCol} colonnes\")"
   ]
  },
  {
   "cell_type": "markdown",
   "metadata": {},
   "source": [
    "# Exercices"
   ]
  },
  {
   "cell_type": "markdown",
   "metadata": {},
   "source": [
    "Voir le sujet donné sur papier"
   ]
  },
  {
   "cell_type": "code",
   "execution_count": 88,
   "metadata": {},
   "outputs": [
    {
     "name": "stdout",
     "output_type": "stream",
     "text": [
      "(550, 11)\n",
      "(550,)\n",
      "(184, 11)\n",
      "(184,)\n"
     ]
    }
   ],
   "source": [
    "#données d'entraînement du modèle, environ 3/4 des 80% des données de santé\n",
    "train_data = donnees_sante[:550,0:11]\n",
    "train_label = donnees_sante[:550,-1] \n",
    "print(train_data.shape)\n",
    "print(train_label.shape)\n",
    "\n",
    "#données de validation, environ 1/4 de 80% des données de santé, permet d'ajuster les hyperparamètres\n",
    "validation_data = donnees_sante[550:734,0:11]\n",
    "validation_label = donnees_sante[550:734,-1] \n",
    "print(validation_data.shape)\n",
    "print(validation_label.shape)"
   ]
  },
  {
   "cell_type": "code",
   "execution_count": 89,
   "metadata": {},
   "outputs": [
    {
     "name": "stdout",
     "output_type": "stream",
     "text": [
      "(184, 11)\n",
      "(0,)\n"
     ]
    }
   ],
   "source": [
    "#données de test, environ 20%, permet de vérifier notre modèle avec des données qu'il n'a jamais vu\n",
    "test_data = donnees_sante[734:,0:11]\n",
    "test_label = donnees_sante[673415:,-1] \n",
    "print(test_data.shape)\n",
    "print(test_label.shape)"
   ]
  },
  {
   "cell_type": "code",
   "execution_count": 90,
   "metadata": {},
   "outputs": [],
   "source": [
    "#pour que chaque paramètre ai autant d'impact pour le modèle\n",
    "mean = train_data.mean(axis=0) #calcul la moyenne pour chaque colonne\n",
    "std = train_data.std(axis=0) #calcul l'écart type de chaque colonne\n",
    "\n",
    "#données de training\n",
    "train_data -= mean\n",
    "train_data /= std\n",
    "\n",
    "#données de validation\n",
    "validation_data -= mean\n",
    "validation_data /= std\n",
    "\n",
    "#données de test\n",
    "test_data -= mean\n",
    "test_data /= std"
   ]
  },
  {
   "cell_type": "code",
   "execution_count": 247,
   "metadata": {},
   "outputs": [
    {
     "name": "stdout",
     "output_type": "stream",
     "text": [
      "Epoch 1/50\n",
      "28/28 [==============================] - 1s 7ms/step - loss: 0.6755 - accuracy: 0.6509 - val_loss: 0.7672 - val_accuracy: 0.6359\n",
      "Epoch 2/50\n",
      "28/28 [==============================] - 0s 3ms/step - loss: 0.6178 - accuracy: 0.6891 - val_loss: 0.7150 - val_accuracy: 0.6522\n",
      "Epoch 3/50\n",
      "28/28 [==============================] - 0s 3ms/step - loss: 0.5742 - accuracy: 0.7236 - val_loss: 0.6722 - val_accuracy: 0.6576\n",
      "Epoch 4/50\n",
      "28/28 [==============================] - 0s 3ms/step - loss: 0.5388 - accuracy: 0.7418 - val_loss: 0.6351 - val_accuracy: 0.6685\n",
      "Epoch 5/50\n",
      "28/28 [==============================] - 0s 3ms/step - loss: 0.5088 - accuracy: 0.7691 - val_loss: 0.6053 - val_accuracy: 0.7228\n",
      "Epoch 6/50\n",
      "28/28 [==============================] - 0s 3ms/step - loss: 0.4837 - accuracy: 0.7855 - val_loss: 0.5807 - val_accuracy: 0.7500\n",
      "Epoch 7/50\n",
      "28/28 [==============================] - 0s 3ms/step - loss: 0.4624 - accuracy: 0.8091 - val_loss: 0.5607 - val_accuracy: 0.7554\n",
      "Epoch 8/50\n",
      "28/28 [==============================] - 0s 3ms/step - loss: 0.4443 - accuracy: 0.8255 - val_loss: 0.5468 - val_accuracy: 0.7554\n",
      "Epoch 9/50\n",
      "28/28 [==============================] - 0s 3ms/step - loss: 0.4295 - accuracy: 0.8418 - val_loss: 0.5357 - val_accuracy: 0.7554\n",
      "Epoch 10/50\n",
      "28/28 [==============================] - 0s 3ms/step - loss: 0.4156 - accuracy: 0.8491 - val_loss: 0.5268 - val_accuracy: 0.7554\n",
      "Epoch 11/50\n",
      "28/28 [==============================] - 0s 3ms/step - loss: 0.4030 - accuracy: 0.8527 - val_loss: 0.5204 - val_accuracy: 0.7717\n",
      "Epoch 12/50\n",
      "28/28 [==============================] - 0s 2ms/step - loss: 0.3919 - accuracy: 0.8636 - val_loss: 0.5153 - val_accuracy: 0.7880\n",
      "Epoch 13/50\n",
      "28/28 [==============================] - 0s 3ms/step - loss: 0.3818 - accuracy: 0.8673 - val_loss: 0.5110 - val_accuracy: 0.7935\n",
      "Epoch 14/50\n",
      "28/28 [==============================] - 0s 3ms/step - loss: 0.3728 - accuracy: 0.8709 - val_loss: 0.5083 - val_accuracy: 0.7935\n",
      "Epoch 15/50\n",
      "28/28 [==============================] - 0s 3ms/step - loss: 0.3643 - accuracy: 0.8691 - val_loss: 0.5057 - val_accuracy: 0.7935\n",
      "Epoch 16/50\n",
      "28/28 [==============================] - 0s 3ms/step - loss: 0.3567 - accuracy: 0.8709 - val_loss: 0.5041 - val_accuracy: 0.7989\n",
      "Epoch 17/50\n",
      "28/28 [==============================] - 0s 3ms/step - loss: 0.3501 - accuracy: 0.8727 - val_loss: 0.5027 - val_accuracy: 0.7989\n",
      "Epoch 18/50\n",
      "28/28 [==============================] - 0s 3ms/step - loss: 0.3442 - accuracy: 0.8745 - val_loss: 0.5017 - val_accuracy: 0.7989\n",
      "Epoch 19/50\n",
      "28/28 [==============================] - 0s 3ms/step - loss: 0.3386 - accuracy: 0.8782 - val_loss: 0.5011 - val_accuracy: 0.8098\n",
      "Epoch 20/50\n",
      "28/28 [==============================] - 0s 3ms/step - loss: 0.3336 - accuracy: 0.8782 - val_loss: 0.5007 - val_accuracy: 0.8098\n",
      "Epoch 21/50\n",
      "28/28 [==============================] - 0s 3ms/step - loss: 0.3288 - accuracy: 0.8818 - val_loss: 0.5006 - val_accuracy: 0.8098\n",
      "Epoch 22/50\n",
      "28/28 [==============================] - 0s 3ms/step - loss: 0.3247 - accuracy: 0.8800 - val_loss: 0.5008 - val_accuracy: 0.8098\n",
      "Epoch 23/50\n",
      "28/28 [==============================] - 0s 3ms/step - loss: 0.3203 - accuracy: 0.8836 - val_loss: 0.5013 - val_accuracy: 0.8207\n",
      "Epoch 24/50\n",
      "28/28 [==============================] - 0s 3ms/step - loss: 0.3168 - accuracy: 0.8855 - val_loss: 0.5021 - val_accuracy: 0.8207\n",
      "Epoch 25/50\n",
      "28/28 [==============================] - 0s 3ms/step - loss: 0.3127 - accuracy: 0.8836 - val_loss: 0.5027 - val_accuracy: 0.8261\n",
      "Epoch 26/50\n",
      "28/28 [==============================] - 0s 3ms/step - loss: 0.3094 - accuracy: 0.8836 - val_loss: 0.5037 - val_accuracy: 0.8261\n",
      "Epoch 27/50\n",
      "28/28 [==============================] - 0s 3ms/step - loss: 0.3061 - accuracy: 0.8836 - val_loss: 0.5044 - val_accuracy: 0.8207\n",
      "Epoch 28/50\n",
      "28/28 [==============================] - 0s 3ms/step - loss: 0.3032 - accuracy: 0.8855 - val_loss: 0.5053 - val_accuracy: 0.8207\n",
      "Epoch 29/50\n",
      "28/28 [==============================] - 0s 3ms/step - loss: 0.3002 - accuracy: 0.8873 - val_loss: 0.5068 - val_accuracy: 0.8152\n",
      "Epoch 30/50\n",
      "28/28 [==============================] - 0s 3ms/step - loss: 0.2968 - accuracy: 0.8873 - val_loss: 0.5090 - val_accuracy: 0.8152\n",
      "Epoch 31/50\n",
      "28/28 [==============================] - 0s 3ms/step - loss: 0.2938 - accuracy: 0.8873 - val_loss: 0.5102 - val_accuracy: 0.8152\n",
      "Epoch 32/50\n",
      "28/28 [==============================] - 0s 2ms/step - loss: 0.2909 - accuracy: 0.8945 - val_loss: 0.5113 - val_accuracy: 0.8098\n",
      "Epoch 33/50\n",
      "28/28 [==============================] - 0s 3ms/step - loss: 0.2879 - accuracy: 0.8964 - val_loss: 0.5124 - val_accuracy: 0.8098\n",
      "Epoch 34/50\n",
      "28/28 [==============================] - 0s 3ms/step - loss: 0.2852 - accuracy: 0.8982 - val_loss: 0.5137 - val_accuracy: 0.8098\n",
      "Epoch 35/50\n",
      "28/28 [==============================] - 0s 2ms/step - loss: 0.2828 - accuracy: 0.9018 - val_loss: 0.5152 - val_accuracy: 0.8152\n",
      "Epoch 36/50\n",
      "28/28 [==============================] - 0s 3ms/step - loss: 0.2802 - accuracy: 0.9000 - val_loss: 0.5168 - val_accuracy: 0.8098\n",
      "Epoch 37/50\n",
      "28/28 [==============================] - 0s 3ms/step - loss: 0.2781 - accuracy: 0.9018 - val_loss: 0.5188 - val_accuracy: 0.8098\n",
      "Epoch 38/50\n",
      "28/28 [==============================] - 0s 2ms/step - loss: 0.2759 - accuracy: 0.9055 - val_loss: 0.5211 - val_accuracy: 0.8098\n",
      "Epoch 39/50\n",
      "28/28 [==============================] - 0s 2ms/step - loss: 0.2735 - accuracy: 0.9073 - val_loss: 0.5231 - val_accuracy: 0.8098\n",
      "Epoch 40/50\n",
      "28/28 [==============================] - 0s 2ms/step - loss: 0.2716 - accuracy: 0.9073 - val_loss: 0.5249 - val_accuracy: 0.8098\n",
      "Epoch 41/50\n",
      "28/28 [==============================] - 0s 2ms/step - loss: 0.2696 - accuracy: 0.9073 - val_loss: 0.5258 - val_accuracy: 0.8207\n",
      "Epoch 42/50\n",
      "28/28 [==============================] - 0s 2ms/step - loss: 0.2678 - accuracy: 0.9091 - val_loss: 0.5271 - val_accuracy: 0.8098\n",
      "Epoch 43/50\n",
      "28/28 [==============================] - 0s 2ms/step - loss: 0.2655 - accuracy: 0.9109 - val_loss: 0.5282 - val_accuracy: 0.8043\n",
      "Epoch 44/50\n",
      "28/28 [==============================] - 0s 2ms/step - loss: 0.2639 - accuracy: 0.9109 - val_loss: 0.5284 - val_accuracy: 0.8043\n",
      "Epoch 45/50\n",
      "28/28 [==============================] - 0s 2ms/step - loss: 0.2621 - accuracy: 0.9109 - val_loss: 0.5294 - val_accuracy: 0.8043\n",
      "Epoch 46/50\n",
      "28/28 [==============================] - 0s 3ms/step - loss: 0.2603 - accuracy: 0.9109 - val_loss: 0.5301 - val_accuracy: 0.8043\n",
      "Epoch 47/50\n",
      "28/28 [==============================] - 0s 2ms/step - loss: 0.2587 - accuracy: 0.9127 - val_loss: 0.5308 - val_accuracy: 0.8043\n",
      "Epoch 48/50\n",
      "28/28 [==============================] - 0s 3ms/step - loss: 0.2568 - accuracy: 0.9145 - val_loss: 0.5318 - val_accuracy: 0.8043\n",
      "Epoch 49/50\n",
      "28/28 [==============================] - 0s 2ms/step - loss: 0.2552 - accuracy: 0.9164 - val_loss: 0.5323 - val_accuracy: 0.8043\n",
      "Epoch 50/50\n",
      "28/28 [==============================] - 0s 3ms/step - loss: 0.2537 - accuracy: 0.9127 - val_loss: 0.5344 - val_accuracy: 0.7935\n"
     ]
    }
   ],
   "source": [
    "#essayer pour différents hyperparamètres : nbr de couches, nbr de neurones, nbr d'epochs, batch size\n",
    "\n",
    "#importation des bibliothèques\n",
    "from tensorflow import keras\n",
    "from tensorflow.keras import layers\n",
    "\n",
    "#construction du modèle\n",
    "#nbr de neurones en puissance de 2\n",
    "\n",
    "def get_model():\n",
    "    model = keras.Sequential([\n",
    "        layers.Dense(4, activation=\"relu\"), #relu(x)=max(x, 0)\n",
    "        layers.Dense(2, activation=\"relu\"), #relu(x)=max(x, 0)\n",
    "        layers.Dense(1, activation=\"sigmoid\") #binaire => sigmoid et un seul neurone\n",
    "    ])\n",
    "    #compilation du modèle\n",
    "    model.compile(optimizer=\"rmsprop\", #détermine comment le \"learning\" progresse\n",
    "                  loss=\"binary_crossentropy\", #définie le feedback utilisé pour \"learning\", classification binaire\n",
    "                  metrics=[\"accuracy\"]) #évalue la performance du modèle\n",
    "    return model\n",
    "\n",
    "model = get_model()\n",
    "\"\"\"\n",
    "def get_model(n_layers=2, n_neurons=32):\n",
    "    model = keras.Sequential()\n",
    "    for _ in range(n_layers):\n",
    "        model.add(layers.Dense(n_neurons, activation=\"relu\"))\n",
    "    model.add(layers.Dense(1, activation=\"sigmoid\"))\n",
    "\n",
    "    model.compile(optimizer=\"rmsprop\",\n",
    "                  loss=\"binary_crossentropy\",\n",
    "                  metrics=[\"accuracy\"])\n",
    "    return model\n",
    "\n",
    "# Exemple d'utilisation\n",
    "model = get_model(n_layers=1, n_neurons=32)  # Réseau plus petit\n",
    "\"\"\"\n",
    "\n",
    "\n",
    "#entraînement du modèle\n",
    "history = model.fit(\n",
    "    train_data,train_label,\n",
    "    epochs=50,#nbr d'itérations\n",
    "    batch_size=20, #taille d'un lot d'entraînement, prendre un batch de petite taille\n",
    "    validation_data=(validation_data, validation_label))"
   ]
  },
  {
   "cell_type": "code",
   "execution_count": 248,
   "metadata": {},
   "outputs": [
    {
     "name": "stdout",
     "output_type": "stream",
     "text": [
      "Model: \"sequential_71\"\n",
      "_________________________________________________________________\n",
      " Layer (type)                Output Shape              Param #   \n",
      "=================================================================\n",
      " dense_210 (Dense)           (None, 4)                 48        \n",
      "                                                                 \n",
      " dense_211 (Dense)           (None, 2)                 10        \n",
      "                                                                 \n",
      " dense_212 (Dense)           (None, 1)                 3         \n",
      "                                                                 \n",
      "=================================================================\n",
      "Total params: 61 (244.00 Byte)\n",
      "Trainable params: 61 (244.00 Byte)\n",
      "Non-trainable params: 0 (0.00 Byte)\n",
      "_________________________________________________________________\n"
     ]
    }
   ],
   "source": [
    "model.summary()"
   ]
  },
  {
   "cell_type": "code",
   "execution_count": 249,
   "metadata": {},
   "outputs": [
    {
     "data": {
      "image/png": "[encoded data removed]",
      "text/plain": [
       "<Figure size 432x288 with 1 Axes>"
      ]
     },
     "metadata": {
      "needs_background": "light"
     },
     "output_type": "display_data"
    }
   ],
   "source": [
    "import matplotlib.pyplot as plt\n",
    "\n",
    "history_dict = history.history\n",
    "loss_values = history_dict[\"loss\"]\n",
    "val_loss_values = history_dict[\"val_loss\"]\n",
    "epochs = range(1, len(loss_values) + 1)\n",
    "plt.plot(epochs, loss_values, \"r.\", label=\"Training loss\")\n",
    "plt.plot(epochs, val_loss_values, \"b\", label=\"Validation loss\")\n",
    "plt.title(\"Training and validation loss\")\n",
    "plt.xlabel(\"Epochs\")\n",
    "plt.ylabel(\"Loss\")\n",
    "plt.legend()\n",
    "plt.show()"
   ]
  },
  {
   "cell_type": "code",
   "execution_count": 250,
   "metadata": {},
   "outputs": [
    {
     "data": {
      "image/png": "[encoded data removed]",
      "text/plain": [
       "<Figure size 432x288 with 1 Axes>"
      ]
     },
     "metadata": {
      "needs_background": "light"
     },
     "output_type": "display_data"
    }
   ],
   "source": [
    "import matplotlib.pyplot as plt\n",
    "\n",
    "history_dict = history.history\n",
    "loss_values = history_dict[\"loss\"]\n",
    "val_loss_values = history_dict[\"val_loss\"]\n",
    "epochs = range(1, len(loss_values) + 1)\n",
    "plt.plot(epochs, loss_values, \"r.\", label=\"Training loss\")\n",
    "plt.plot(epochs, val_loss_values, \"b\", label=\"Validation loss\")\n",
    "plt.title(\"Training and validation loss\")\n",
    "plt.xlabel(\"Epochs\")\n",
    "plt.ylabel(\"Loss\")\n",
    "plt.ylim(0,0.7)\n",
    "plt.xlim(0,100)\n",
    "plt.legend()\n",
    "plt.show()"
   ]
  },
  {
   "cell_type": "code",
   "execution_count": 251,
   "metadata": {},
   "outputs": [
    {
     "data": {
      "image/png": "[encoded data removed]",
      "text/plain": [
       "<Figure size 432x288 with 1 Axes>"
      ]
     },
     "metadata": {
      "needs_background": "light"
     },
     "output_type": "display_data"
    }
   ],
   "source": [
    "plt.clf()\n",
    "\n",
    "acc = history_dict[\"accuracy\"]\n",
    "val_acc = history_dict[\"val_accuracy\"]\n",
    "\n",
    "plt.plot(epochs, acc, \"r.\", label=\"Training acc\")\n",
    "plt.plot(epochs, val_acc, \"b\", label=\"Validation acc\")\n",
    "plt.title(\"Training and validation accuracy\")\n",
    "plt.xlabel(\"Epochs\")\n",
    "plt.ylabel(\"Accuracy\")\n",
    "plt.legend()\n",
    "plt.show()"
   ]
  },
  {
   "cell_type": "code",
   "execution_count": 204,
   "metadata": {},
   "outputs": [
    {
     "name": "stderr",
     "output_type": "stream",
     "text": [
      "<ipython-input-204-c3f6663027ff>:20: DeprecationWarning: elementwise comparison failed; this will raise an error in the future.\n",
      "  matches = predicted_labels == test_label\n"
     ]
    },
    {
     "ename": "AttributeError",
     "evalue": "'bool' object has no attribute 'mean'",
     "output_type": "error",
     "traceback": [
      "\u001b[1;31m---------------------------------------------------------------------------\u001b[0m",
      "\u001b[1;31mAttributeError\u001b[0m                            Traceback (most recent call last)",
      "\u001b[1;32m<ipython-input-204-c3f6663027ff>\u001b[0m in \u001b[0;36m<module>\u001b[1;34m\u001b[0m\n\u001b[0;32m     19\u001b[0m \u001b[1;33m\u001b[0m\u001b[0m\n\u001b[0;32m     20\u001b[0m \u001b[0mmatches\u001b[0m \u001b[1;33m=\u001b[0m \u001b[0mpredicted_labels\u001b[0m \u001b[1;33m==\u001b[0m \u001b[0mtest_label\u001b[0m\u001b[1;33m\u001b[0m\u001b[1;33m\u001b[0m\u001b[0m\n\u001b[1;32m---> 21\u001b[1;33m \u001b[0mprint\u001b[0m\u001b[1;33m(\u001b[0m\u001b[1;34mf\"accuracy: {matches.mean():.2f}\"\u001b[0m\u001b[1;33m)\u001b[0m\u001b[1;33m\u001b[0m\u001b[1;33m\u001b[0m\u001b[0m\n\u001b[0m",
      "\u001b[1;31mAttributeError\u001b[0m: 'bool' object has no attribute 'mean'"
     ]
    }
   ],
   "source": [
    "import numpy as np\n",
    "\n",
    "model = get_model()\n",
    "model.fit(train_data, train_label, epochs=40, batch_size=32, verbose=0)\n",
    "\n",
    "predictions = model(test_data)\n",
    "predictions = predictions.numpy()\n",
    "predicted_labels = np.argmax(predictions, axis=1)\n",
    "\n",
    "# Ensure test_label is a numpy array and convert it if it's one-hot encoded\n",
    "if type(test_label) != np.ndarray:\n",
    "    test_label = np.array(test_label)\n",
    "if test_label.ndim == 2:  # Assuming one-hot encoding if 2D\n",
    "    test_label = np.argmax(test_label, axis=1)\n",
    "\n",
    "# Check shapes and types if still encountering issues\n",
    "# print(predicted_labels.shape, test_label.shape)\n",
    "# print(type(predicted_labels), type(test_label))\n",
    "\n",
    "matches = predicted_labels == test_label\n",
    "print(f\"accuracy: {matches.mean():.2f}\")\n"
   ]
  },
  {
   "cell_type": "code",
   "execution_count": null,
   "metadata": {},
   "outputs": [],
   "source": [
    "nouvelle_patiente = np.array([[1,122,70,27,0,36.8,0.34,27]])\n",
    "nouvelle_patiente -= mean\n",
    "nouvelle_patiente /= std\n",
    "prediction = model(nouvelle_patiente)\n",
    "prediction = prediction.numpy()\n",
    "prediction"
   ]
  },
  {
   "cell_type": "code",
   "execution_count": 127,
   "metadata": {},
   "outputs": [
    {
     "name": "stdout",
     "output_type": "stream",
     "text": [
      "Processing fold #0\n",
      "Processing fold #1\n",
      "Processing fold #2\n",
      "Processing fold #3\n"
     ]
    }
   ],
   "source": [
    "k = 4\n",
    "num_val_samples = len(train_data) // k\n",
    "num_epochs = 200\n",
    "all_loss_histories = []\n",
    "all_val_loss_histories = []\n",
    "all_acc_histories = []\n",
    "all_val_acc_histories = []\n",
    "for i in range(k):\n",
    "    print(f\"Processing fold #{i}\")\n",
    "    val_data = train_data[i * num_val_samples: (i + 1) * num_val_samples]\n",
    "    val_labels = train_label[i * num_val_samples: (i + 1) * num_val_samples]\n",
    "    partial_train_data = np.concatenate(\n",
    "        [train_data[:i * num_val_samples],\n",
    "         train_data[(i + 1) * num_val_samples:]],\n",
    "        axis=0)\n",
    "    partial_train_labels = np.concatenate(\n",
    "        [train_label[:i * num_val_samples],\n",
    "         train_label[(i + 1) * num_val_samples:]],\n",
    "        axis=0)\n",
    "    model = get_model()\n",
    "    history = model.fit(partial_train_data, partial_train_labels,\n",
    "                        validation_data=(val_data, val_labels),\n",
    "                        epochs=num_epochs, batch_size=32, verbose=0)\n",
    "    all_loss_histories.append(history.history[\"loss\"])\n",
    "    all_val_loss_histories.append(history.history[\"val_loss\"])\n",
    "    all_acc_histories.append(history.history[\"accuracy\"])\n",
    "    all_val_acc_histories.append(history.history[\"val_accuracy\"])\n",
    "    \n",
    "    \n",
    "    average_loss = [\n",
    "    np.mean([x[i] for x in all_loss_histories]) for i in range(num_epochs)]\n",
    "average_val_loss = [\n",
    "    np.mean([x[i] for x in all_val_loss_histories]) for i in range(num_epochs)]\n",
    "average_acc = [\n",
    "    np.mean([x[i] for x in all_acc_histories]) for i in range(num_epochs)]\n",
    "average_val_acc = [\n",
    "    np.mean([x[i] for x in all_val_acc_histories]) for i in range(num_epochs)]"
   ]
  },
  {
   "cell_type": "code",
   "execution_count": 128,
   "metadata": {},
   "outputs": [
    {
     "data": {
      "image/png": "[encoded data removed]",
      "text/plain": [
       "<Figure size 432x288 with 1 Axes>"
      ]
     },
     "metadata": {
      "needs_background": "light"
     },
     "output_type": "display_data"
    }
   ],
   "source": [
    "import matplotlib.pyplot as plt\n",
    "epochs = range(1, len(average_loss) + 1)\n",
    "plt.plot(epochs, average_loss, \"r.\", label=\"Training loss\")\n",
    "plt.plot(epochs, average_val_loss, \"b\", label=\"Validation loss\")\n",
    "plt.title(\"Training and validation loss\")\n",
    "plt.xlabel(\"Epochs\")\n",
    "plt.ylabel(\"Loss\")\n",
    "plt.legend()\n",
    "plt.show()"
   ]
  },
  {
   "cell_type": "code",
   "execution_count": 129,
   "metadata": {},
   "outputs": [
    {
     "data": {
      "image/png": "[encoded data removed]",
      "text/plain": [
       "<Figure size 432x288 with 1 Axes>"
      ]
     },
     "metadata": {
      "needs_background": "light"
     },
     "output_type": "display_data"
    }
   ],
   "source": [
    "plt.clf()\n",
    "plt.plot(epochs, average_acc, \"r.\", label=\"Training acc\")\n",
    "plt.plot(epochs, average_val_acc, \"b\", label=\"Validation acc\")\n",
    "plt.title(\"Training and validation accuracy\")\n",
    "plt.xlabel(\"Epochs\")\n",
    "plt.ylabel(\"Accuracy\")\n",
    "plt.legend()\n",
    "plt.show()"
   ]
  },
  {
   "cell_type": "code",
   "execution_count": 241,
   "metadata": {},
   "outputs": [],
   "source": [
    "## methode du cours"
   ]
  },
  {
   "cell_type": "code",
   "execution_count": 252,
   "metadata": {},
   "outputs": [
    {
     "ename": "NameError",
     "evalue": "name 'train_labels' is not defined",
     "output_type": "error",
     "traceback": [
      "\u001b[1;31m---------------------------------------------------------------------------\u001b[0m",
      "\u001b[1;31mNameError\u001b[0m                                 Traceback (most recent call last)",
      "\u001b[1;32m<ipython-input-252-b96cc74964b0>\u001b[0m in \u001b[0;36m<module>\u001b[1;34m\u001b[0m\n\u001b[0;32m      4\u001b[0m         \u001b[0mresults\u001b[0m\u001b[1;33m[\u001b[0m\u001b[0mi\u001b[0m\u001b[1;33m,\u001b[0m \u001b[0mlabel\u001b[0m\u001b[1;33m]\u001b[0m \u001b[1;33m=\u001b[0m \u001b[1;36m1.\u001b[0m\u001b[1;33m\u001b[0m\u001b[1;33m\u001b[0m\u001b[0m\n\u001b[0;32m      5\u001b[0m     \u001b[1;32mreturn\u001b[0m \u001b[0mresults\u001b[0m\u001b[1;33m\u001b[0m\u001b[1;33m\u001b[0m\u001b[0m\n\u001b[1;32m----> 6\u001b[1;33m \u001b[0my_train\u001b[0m \u001b[1;33m=\u001b[0m \u001b[0mto_one_hot\u001b[0m\u001b[1;33m(\u001b[0m\u001b[0mtrain_labels\u001b[0m\u001b[1;33m)\u001b[0m\u001b[1;33m\u001b[0m\u001b[1;33m\u001b[0m\u001b[0m\n\u001b[0m\u001b[0;32m      7\u001b[0m \u001b[0my_test\u001b[0m \u001b[1;33m=\u001b[0m \u001b[0mto_one_hot\u001b[0m\u001b[1;33m(\u001b[0m\u001b[0mtest_labels\u001b[0m\u001b[1;33m)\u001b[0m\u001b[1;33m\u001b[0m\u001b[1;33m\u001b[0m\u001b[0m\n",
      "\u001b[1;31mNameError\u001b[0m: name 'train_labels' is not defined"
     ]
    }
   ],
   "source": [
    "def to_one_hot(labels, dimension=46):\n",
    "    results = np.zeros((len(labels), dimension))\n",
    "    for i, label in enumerate(labels):\n",
    "        results[i, label] = 1.\n",
    "    return results\n",
    "y_train = to_one_hot(train_labels)\n",
    "y_test = to_one_hot(test_labels)"
   ]
  },
  {
   "cell_type": "code",
   "execution_count": 253,
   "metadata": {},
   "outputs": [
    {
     "ename": "NameError",
     "evalue": "name 'train_labels' is not defined",
     "output_type": "error",
     "traceback": [
      "\u001b[1;31m---------------------------------------------------------------------------\u001b[0m",
      "\u001b[1;31mNameError\u001b[0m                                 Traceback (most recent call last)",
      "\u001b[1;32m<ipython-input-253-86164c9057a8>\u001b[0m in \u001b[0;36m<module>\u001b[1;34m\u001b[0m\n\u001b[0;32m      1\u001b[0m \u001b[1;32mfrom\u001b[0m \u001b[0mtensorflow\u001b[0m\u001b[1;33m.\u001b[0m\u001b[0mkeras\u001b[0m\u001b[1;33m.\u001b[0m\u001b[0mutils\u001b[0m \u001b[1;32mimport\u001b[0m \u001b[0mto_categorical\u001b[0m\u001b[1;33m\u001b[0m\u001b[1;33m\u001b[0m\u001b[0m\n\u001b[1;32m----> 2\u001b[1;33m \u001b[0my_train\u001b[0m \u001b[1;33m=\u001b[0m \u001b[0mto_categorical\u001b[0m\u001b[1;33m(\u001b[0m\u001b[0mtrain_labels\u001b[0m\u001b[1;33m)\u001b[0m\u001b[1;33m\u001b[0m\u001b[1;33m\u001b[0m\u001b[0m\n\u001b[0m\u001b[0;32m      3\u001b[0m \u001b[0my_test\u001b[0m \u001b[1;33m=\u001b[0m \u001b[0mto_categorical\u001b[0m\u001b[1;33m(\u001b[0m\u001b[0mtest_labels\u001b[0m\u001b[1;33m)\u001b[0m\u001b[1;33m\u001b[0m\u001b[1;33m\u001b[0m\u001b[0m\n",
      "\u001b[1;31mNameError\u001b[0m: name 'train_labels' is not defined"
     ]
    }
   ],
   "source": [
    "from tensorflow.keras.utils import to_categorical\n",
    "y_train = to_categorical(train_labels)\n",
    "y_test = to_categorical(test_labels)"
   ]
  },
  {
   "cell_type": "code",
   "execution_count": 254,
   "metadata": {},
   "outputs": [],
   "source": [
    "model = keras.Sequential([\n",
    "    layers.Dense(64, activation=\"relu\"),\n",
    "    layers.Dense(64, activation=\"relu\"),\n",
    "    layers.Dense(46, activation=\"softmax\")\n",
    "])"
   ]
  },
  {
   "cell_type": "code",
   "execution_count": 255,
   "metadata": {},
   "outputs": [],
   "source": [
    "model.compile(optimizer=\"rmsprop\",\n",
    "              loss=\"categorical_crossentropy\",\n",
    "              metrics=[\"accuracy\"])"
   ]
  },
  {
   "cell_type": "code",
   "execution_count": 256,
   "metadata": {},
   "outputs": [
    {
     "ename": "NameError",
     "evalue": "name 'x_train' is not defined",
     "output_type": "error",
     "traceback": [
      "\u001b[1;31m---------------------------------------------------------------------------\u001b[0m",
      "\u001b[1;31mNameError\u001b[0m                                 Traceback (most recent call last)",
      "\u001b[1;32m<ipython-input-256-8c78a6005e80>\u001b[0m in \u001b[0;36m<module>\u001b[1;34m\u001b[0m\n\u001b[1;32m----> 1\u001b[1;33m \u001b[0mx_val\u001b[0m \u001b[1;33m=\u001b[0m \u001b[0mx_train\u001b[0m\u001b[1;33m[\u001b[0m\u001b[1;33m:\u001b[0m\u001b[1;36m1000\u001b[0m\u001b[1;33m]\u001b[0m\u001b[1;33m\u001b[0m\u001b[1;33m\u001b[0m\u001b[0m\n\u001b[0m\u001b[0;32m      2\u001b[0m \u001b[0mpartial_x_train\u001b[0m \u001b[1;33m=\u001b[0m \u001b[0mx_train\u001b[0m\u001b[1;33m[\u001b[0m\u001b[1;36m1000\u001b[0m\u001b[1;33m:\u001b[0m\u001b[1;33m]\u001b[0m\u001b[1;33m\u001b[0m\u001b[1;33m\u001b[0m\u001b[0m\n\u001b[0;32m      3\u001b[0m \u001b[0my_val\u001b[0m \u001b[1;33m=\u001b[0m \u001b[0my_train\u001b[0m\u001b[1;33m[\u001b[0m\u001b[1;33m:\u001b[0m\u001b[1;36m1000\u001b[0m\u001b[1;33m]\u001b[0m\u001b[1;33m\u001b[0m\u001b[1;33m\u001b[0m\u001b[0m\n\u001b[0;32m      4\u001b[0m \u001b[0mpartial_y_train\u001b[0m \u001b[1;33m=\u001b[0m \u001b[0my_train\u001b[0m\u001b[1;33m[\u001b[0m\u001b[1;36m1000\u001b[0m\u001b[1;33m:\u001b[0m\u001b[1;33m]\u001b[0m\u001b[1;33m\u001b[0m\u001b[1;33m\u001b[0m\u001b[0m\n",
      "\u001b[1;31mNameError\u001b[0m: name 'x_train' is not defined"
     ]
    }
   ],
   "source": [
    "x_val = x_train[:1000]\n",
    "partial_x_train = x_train[1000:]\n",
    "y_val = y_train[:1000]\n",
    "partial_y_train = y_train[1000:]"
   ]
  },
  {
   "cell_type": "code",
   "execution_count": 257,
   "metadata": {},
   "outputs": [
    {
     "ename": "NameError",
     "evalue": "name 'partial_x_train' is not defined",
     "output_type": "error",
     "traceback": [
      "\u001b[1;31m---------------------------------------------------------------------------\u001b[0m",
      "\u001b[1;31mNameError\u001b[0m                                 Traceback (most recent call last)",
      "\u001b[1;32m<ipython-input-257-90a50ee7d258>\u001b[0m in \u001b[0;36m<module>\u001b[1;34m\u001b[0m\n\u001b[1;32m----> 1\u001b[1;33m history = model.fit(partial_x_train,\n\u001b[0m\u001b[0;32m      2\u001b[0m                     \u001b[0mpartial_y_train\u001b[0m\u001b[1;33m,\u001b[0m\u001b[1;33m\u001b[0m\u001b[1;33m\u001b[0m\u001b[0m\n\u001b[0;32m      3\u001b[0m                     \u001b[0mepochs\u001b[0m\u001b[1;33m=\u001b[0m\u001b[1;36m20\u001b[0m\u001b[1;33m,\u001b[0m\u001b[1;33m\u001b[0m\u001b[1;33m\u001b[0m\u001b[0m\n\u001b[0;32m      4\u001b[0m                     \u001b[0mbatch_size\u001b[0m\u001b[1;33m=\u001b[0m\u001b[1;36m512\u001b[0m\u001b[1;33m,\u001b[0m\u001b[1;33m\u001b[0m\u001b[1;33m\u001b[0m\u001b[0m\n\u001b[0;32m      5\u001b[0m                     validation_data=(x_val, y_val))\n",
      "\u001b[1;31mNameError\u001b[0m: name 'partial_x_train' is not defined"
     ]
    }
   ],
   "source": [
    "history = model.fit(partial_x_train,\n",
    "                    partial_y_train,\n",
    "                    epochs=20,\n",
    "                    batch_size=512,\n",
    "                    validation_data=(x_val, y_val))"
   ]
  },
  {
   "cell_type": "code",
   "execution_count": 258,
   "metadata": {},
   "outputs": [
    {
     "data": {
      "image/png": "[encoded data removed]",
      "text/plain": [
       "<Figure size 432x288 with 1 Axes>"
      ]
     },
     "metadata": {
      "needs_background": "light"
     },
     "output_type": "display_data"
    }
   ],
   "source": [
    "loss = history.history[\"loss\"]\n",
    "val_loss = history.history[\"val_loss\"]\n",
    "epochs = range(1, len(loss) + 1)\n",
    "plt.plot(epochs, loss, \"bo\", label=\"Training loss\")\n",
    "plt.plot(epochs, val_loss, \"b\", label=\"Validation loss\")\n",
    "plt.title(\"Training and validation loss\")\n",
    "plt.xlabel(\"Epochs\")\n",
    "plt.ylabel(\"Loss\")\n",
    "plt.legend()\n",
    "plt.show()"
   ]
  },
  {
   "cell_type": "code",
   "execution_count": 259,
   "metadata": {},
   "outputs": [
    {
     "data": {
      "image/png": "[encoded data removed]",
      "text/plain": [
       "<Figure size 432x288 with 1 Axes>"
      ]
     },
     "metadata": {
      "needs_background": "light"
     },
     "output_type": "display_data"
    }
   ],
   "source": [
    "plt.clf()\n",
    "acc = history.history[\"accuracy\"]\n",
    "val_acc = history.history[\"val_accuracy\"]\n",
    "plt.plot(epochs, acc, \"bo\", label=\"Training accuracy\")\n",
    "plt.plot(epochs, val_acc, \"b\", label=\"Validation accuracy\")\n",
    "plt.title(\"Training and validation accuracy\")\n",
    "plt.xlabel(\"Epochs\")\n",
    "plt.ylabel(\"Accuracy\")\n",
    "plt.legend()\n",
    "plt.show()"
   ]
  },
  {
   "cell_type": "code",
   "execution_count": 260,
   "metadata": {},
   "outputs": [
    {
     "ename": "NameError",
     "evalue": "name 'x_train' is not defined",
     "output_type": "error",
     "traceback": [
      "\u001b[1;31m---------------------------------------------------------------------------\u001b[0m",
      "\u001b[1;31mNameError\u001b[0m                                 Traceback (most recent call last)",
      "\u001b[1;32m<ipython-input-260-d0a787f43681>\u001b[0m in \u001b[0;36m<module>\u001b[1;34m\u001b[0m\n\u001b[0;32m      7\u001b[0m               \u001b[0mloss\u001b[0m\u001b[1;33m=\u001b[0m\u001b[1;34m\"categorical_crossentropy\"\u001b[0m\u001b[1;33m,\u001b[0m\u001b[1;33m\u001b[0m\u001b[1;33m\u001b[0m\u001b[0m\n\u001b[0;32m      8\u001b[0m               metrics=[\"accuracy\"])\n\u001b[1;32m----> 9\u001b[1;33m model.fit(x_train,\n\u001b[0m\u001b[0;32m     10\u001b[0m           \u001b[0my_train\u001b[0m\u001b[1;33m,\u001b[0m\u001b[1;33m\u001b[0m\u001b[1;33m\u001b[0m\u001b[0m\n\u001b[0;32m     11\u001b[0m           \u001b[0mepochs\u001b[0m\u001b[1;33m=\u001b[0m\u001b[1;36m9\u001b[0m\u001b[1;33m,\u001b[0m\u001b[1;33m\u001b[0m\u001b[1;33m\u001b[0m\u001b[0m\n",
      "\u001b[1;31mNameError\u001b[0m: name 'x_train' is not defined"
     ]
    }
   ],
   "source": [
    "model = keras.Sequential([\n",
    "  layers.Dense(64, activation=\"relu\"),\n",
    "  layers.Dense(64, activation=\"relu\"),\n",
    "  layers.Dense(46, activation=\"softmax\")\n",
    "])\n",
    "model.compile(optimizer=\"rmsprop\",\n",
    "              loss=\"categorical_crossentropy\",\n",
    "              metrics=[\"accuracy\"])\n",
    "model.fit(x_train,\n",
    "          y_train,\n",
    "          epochs=9,\n",
    "          batch_size=512)"
   ]
  },
  {
   "cell_type": "code",
   "execution_count": 261,
   "metadata": {},
   "outputs": [
    {
     "ename": "NameError",
     "evalue": "name 'x_test' is not defined",
     "output_type": "error",
     "traceback": [
      "\u001b[1;31m---------------------------------------------------------------------------\u001b[0m",
      "\u001b[1;31mNameError\u001b[0m                                 Traceback (most recent call last)",
      "\u001b[1;32m<ipython-input-261-d8b585f2e026>\u001b[0m in \u001b[0;36m<module>\u001b[1;34m\u001b[0m\n\u001b[1;32m----> 1\u001b[1;33m \u001b[0mresults\u001b[0m \u001b[1;33m=\u001b[0m \u001b[0mmodel\u001b[0m\u001b[1;33m.\u001b[0m\u001b[0mevaluate\u001b[0m\u001b[1;33m(\u001b[0m\u001b[0mx_test\u001b[0m\u001b[1;33m,\u001b[0m \u001b[0my_test\u001b[0m\u001b[1;33m)\u001b[0m\u001b[1;33m\u001b[0m\u001b[1;33m\u001b[0m\u001b[0m\n\u001b[0m",
      "\u001b[1;31mNameError\u001b[0m: name 'x_test' is not defined"
     ]
    }
   ],
   "source": [
    "results = model.evaluate(x_test, y_test)"
   ]
  },
  {
   "cell_type": "code",
   "execution_count": 262,
   "metadata": {},
   "outputs": [
    {
     "ename": "NameError",
     "evalue": "name 'x_test' is not defined",
     "output_type": "error",
     "traceback": [
      "\u001b[1;31m---------------------------------------------------------------------------\u001b[0m",
      "\u001b[1;31mNameError\u001b[0m                                 Traceback (most recent call last)",
      "\u001b[1;32m<ipython-input-262-d8b585f2e026>\u001b[0m in \u001b[0;36m<module>\u001b[1;34m\u001b[0m\n\u001b[1;32m----> 1\u001b[1;33m \u001b[0mresults\u001b[0m \u001b[1;33m=\u001b[0m \u001b[0mmodel\u001b[0m\u001b[1;33m.\u001b[0m\u001b[0mevaluate\u001b[0m\u001b[1;33m(\u001b[0m\u001b[0mx_test\u001b[0m\u001b[1;33m,\u001b[0m \u001b[0my_test\u001b[0m\u001b[1;33m)\u001b[0m\u001b[1;33m\u001b[0m\u001b[1;33m\u001b[0m\u001b[0m\n\u001b[0m",
      "\u001b[1;31mNameError\u001b[0m: name 'x_test' is not defined"
     ]
    }
   ],
   "source": [
    "results = model.evaluate(x_test, y_test)"
   ]
  },
  {
   "cell_type": "code",
   "execution_count": null,
   "metadata": {},
   "outputs": [],
   "source": [
    "import copy\n",
    "test_labels_copy = copy.copy(test_labels)\n",
    "np.random.shuffle(test_labels_copy)\n",
    "hits_array = np.array(test_labels) == np.array(test_labels_copy)\n",
    "hits_array.mean()"
   ]
  },
  {
   "cell_type": "code",
   "execution_count": null,
   "metadata": {},
   "outputs": [],
   "source": [
    "predictions = model.predict(x_test)"
   ]
  }
 ],
 "metadata": {
  "kernelspec": {
   "display_name": "Python 3",
   "language": "python",
   "name": "python3"
  },
  "language_info": {
   "codemirror_mode": {
    "name": "ipython",
    "version": 3
   },
   "file_extension": ".py",
   "mimetype": "text/x-python",
   "name": "python",
   "nbconvert_exporter": "python",
   "pygments_lexer": "ipython3",
   "version": "3.8.5"
  }
 },
 "nbformat": 4,
 "nbformat_minor": 5
}
